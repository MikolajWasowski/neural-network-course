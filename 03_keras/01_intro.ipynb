{
  "nbformat": 4,
  "nbformat_minor": 0,
  "metadata": {
    "colab": {
      "name": "Untitled0.ipynb",
      "provenance": [],
      "include_colab_link": true
    },
    "kernelspec": {
      "name": "python3",
      "display_name": "Python 3"
    }
  },
  "cells": [
    {
      "cell_type": "markdown",
      "metadata": {
        "id": "view-in-github",
        "colab_type": "text"
      },
      "source": [
        "<a href=\"https://colab.research.google.com/github/MikolajWasowski/neural-network-course/blob/master/03_keras/01_intro.ipynb\" target=\"_parent\"><img src=\"https://colab.research.google.com/assets/colab-badge.svg\" alt=\"Open In Colab\"/></a>"
      ]
    },
    {
      "cell_type": "markdown",
      "metadata": {
        "id": "BdI2tQJuUWXG"
      },
      "source": [
        "* @author: krakowiakpawel9@gmail.com  \n",
        "* @site: e-smartdata.org"
      ]
    },
    {
      "cell_type": "markdown",
      "metadata": {
        "id": "tC7wD4aySZKb"
      },
      "source": [
        "### Model sekwencjny (Sequential Model):\n",
        "1. [Wprowadzenie - pierwszy model](#a0)\n",
        "2. [Funkcje aktywacji](#a1)\n",
        "3. [Kompilacja modelu](#a2)\n",
        "4. [Trenowanie modelu](#a3)\n",
        "5. [Przykład - klasyfikacja binarna](#a4)\n",
        "6. [Przykład - klasyfikacja wieloklasowa](#a5)\n",
        "7. [Przykład - regresja](#a6)\n",
        "\n",
        "\n",
        "\n",
        "Konfiguracja środowiska\n"
      ]
    },
    {
      "cell_type": "code",
      "metadata": {
        "id": "3SPURJyPQOpj",
        "colab": {
          "base_uri": "https://localhost:8080/",
          "height": 35
        },
        "outputId": "c72b1a1a-9b95-404f-a067-30c5b904c900"
      },
      "source": [
        "import tensorflow as tf\n",
        "import numpy as np\n",
        "import pandas as pd\n",
        "import plotly.express as px\n",
        "tf.__version__"
      ],
      "execution_count": 1,
      "outputs": [
        {
          "output_type": "execute_result",
          "data": {
            "text/plain": [
              "'2.15.0'"
            ],
            "application/vnd.google.colaboratory.intrinsic+json": {
              "type": "string"
            }
          },
          "metadata": {},
          "execution_count": 1
        }
      ]
    },
    {
      "cell_type": "markdown",
      "metadata": {
        "id": "x0HF8UIRTBmC"
      },
      "source": [
        "### <a name='a0'></a>Wprowadzenie - pierwszy model\n",
        "Model sekwencyjny to nic innego jak liniowy stos warstw."
      ]
    },
    {
      "cell_type": "code",
      "metadata": {
        "id": "y5qY8AQsTeGX",
        "colab": {
          "base_uri": "https://localhost:8080/"
        },
        "outputId": "87a22279-67b1-4857-f948-234ba54638f8"
      },
      "source": [
        "# utworzenie instancji klasy Sequential\n",
        "from tensorflow.keras.models import Sequential\n",
        "\n",
        "model = Sequential()\n",
        "print(model)"
      ],
      "execution_count": 2,
      "outputs": [
        {
          "output_type": "stream",
          "name": "stdout",
          "text": [
            "<keras.src.engine.sequential.Sequential object at 0x7cb876691690>\n"
          ]
        }
      ]
    },
    {
      "cell_type": "markdown",
      "metadata": {
        "id": "yqtUKjKaTyxQ"
      },
      "source": [
        "Podstawowym elementem składowym modelu są warstwy. Aby dodać najbardziej standardową warstwę - warstwę gęsto połączoną należy użyć warstwy **Dense**. Aby dodać warstwę do modelu należy użyć metody *.add()*"
      ]
    },
    {
      "cell_type": "code",
      "metadata": {
        "id": "CiMQRZUMTv8f"
      },
      "source": [
        "from tensorflow.keras.layers import Dense\n",
        "\n",
        "model.add(Dense(units=4, input_shape=(10,)))"
      ],
      "execution_count": 3,
      "outputs": []
    },
    {
      "cell_type": "markdown",
      "metadata": {
        "id": "s4q14zW-XOU4"
      },
      "source": [
        "Wyświetlenie podsumowania modelu: metoda *.summary()*"
      ]
    },
    {
      "cell_type": "code",
      "metadata": {
        "id": "HAReYZ98UXtC",
        "colab": {
          "base_uri": "https://localhost:8080/"
        },
        "outputId": "afec3354-b98b-4015-907e-134cf69456cc"
      },
      "source": [
        "model.summary()"
      ],
      "execution_count": 4,
      "outputs": [
        {
          "output_type": "stream",
          "name": "stdout",
          "text": [
            "Model: \"sequential\"\n",
            "_________________________________________________________________\n",
            " Layer (type)                Output Shape              Param #   \n",
            "=================================================================\n",
            " dense (Dense)               (None, 4)                 44        \n",
            "                                                                 \n",
            "=================================================================\n",
            "Total params: 44 (176.00 Byte)\n",
            "Trainable params: 44 (176.00 Byte)\n",
            "Non-trainable params: 0 (0.00 Byte)\n",
            "_________________________________________________________________\n"
          ]
        }
      ]
    },
    {
      "cell_type": "markdown",
      "metadata": {
        "id": "izZi_Eu2Xjcl"
      },
      "source": [
        "Dodanie kolejnej warstwy"
      ]
    },
    {
      "cell_type": "code",
      "metadata": {
        "id": "HD17lS82Uk7Y",
        "colab": {
          "base_uri": "https://localhost:8080/"
        },
        "outputId": "372b2221-e100-4b8f-f920-6371398387f7"
      },
      "source": [
        "model.add(Dense(units=2))\n",
        "\n",
        "model.summary()"
      ],
      "execution_count": 5,
      "outputs": [
        {
          "output_type": "stream",
          "name": "stdout",
          "text": [
            "Model: \"sequential\"\n",
            "_________________________________________________________________\n",
            " Layer (type)                Output Shape              Param #   \n",
            "=================================================================\n",
            " dense (Dense)               (None, 4)                 44        \n",
            "                                                                 \n",
            " dense_1 (Dense)             (None, 2)                 10        \n",
            "                                                                 \n",
            "=================================================================\n",
            "Total params: 54 (216.00 Byte)\n",
            "Trainable params: 54 (216.00 Byte)\n",
            "Non-trainable params: 0 (0.00 Byte)\n",
            "_________________________________________________________________\n"
          ]
        }
      ]
    },
    {
      "cell_type": "markdown",
      "metadata": {
        "id": "yh_gui1wZCH2"
      },
      "source": [
        "### <a name='a1'></a>Funkcje aktywacji\n",
        "Istotnym elemenem sieci neuronowych jest dobór odpowiednich funkcji aktywacji. Funkcje aktywacji jak sama nazwa wskazuje są odpowiedzialne za aktywowanie odpowiednich neuronów podczas procesu uczenia.\n",
        "\n",
        "Jeżeli nie określimy podczas dodawania warstwy funkcji aktywacji, domyślnie stosowana jest liniowa funkcja aktywacji, tzn. $a(x)=x$\n",
        "\n",
        "Warstwa z liniową funkcją aktywacji może uczyć się tylko liniowych przekształceń danych wejściowych. Dlatego stosuje się różne funkcje aktywacji aby rozwiazywać problemy nieliniowe.\n",
        "\n",
        "[Keras: Funkcje aktywacji](https://keras.io/activations/)"
      ]
    },
    {
      "cell_type": "code",
      "metadata": {
        "id": "obfM5ho7ZmMy",
        "colab": {
          "base_uri": "https://localhost:8080/",
          "height": 206
        },
        "outputId": "1e4a2d7b-3eae-4908-c410-044d78344761"
      },
      "source": [
        "from tensorflow.keras.activations import linear\n",
        "\n",
        "random_data = sorted(np.random.randn(200))\n",
        "data = pd.DataFrame({'data': random_data, 'linear': linear(random_data)})\n",
        "data.head()"
      ],
      "execution_count": 6,
      "outputs": [
        {
          "output_type": "execute_result",
          "data": {
            "text/plain": [
              "       data    linear\n",
              "0 -2.830073 -2.830073\n",
              "1 -2.261445 -2.261445\n",
              "2 -2.220692 -2.220692\n",
              "3 -2.143522 -2.143522\n",
              "4 -2.131811 -2.131811"
            ],
            "text/html": [
              "\n",
              "  <div id=\"df-9280f422-e756-4ecd-9cfb-056b9682a703\" class=\"colab-df-container\">\n",
              "    <div>\n",
              "<style scoped>\n",
              "    .dataframe tbody tr th:only-of-type {\n",
              "        vertical-align: middle;\n",
              "    }\n",
              "\n",
              "    .dataframe tbody tr th {\n",
              "        vertical-align: top;\n",
              "    }\n",
              "\n",
              "    .dataframe thead th {\n",
              "        text-align: right;\n",
              "    }\n",
              "</style>\n",
              "<table border=\"1\" class=\"dataframe\">\n",
              "  <thead>\n",
              "    <tr style=\"text-align: right;\">\n",
              "      <th></th>\n",
              "      <th>data</th>\n",
              "      <th>linear</th>\n",
              "    </tr>\n",
              "  </thead>\n",
              "  <tbody>\n",
              "    <tr>\n",
              "      <th>0</th>\n",
              "      <td>-2.830073</td>\n",
              "      <td>-2.830073</td>\n",
              "    </tr>\n",
              "    <tr>\n",
              "      <th>1</th>\n",
              "      <td>-2.261445</td>\n",
              "      <td>-2.261445</td>\n",
              "    </tr>\n",
              "    <tr>\n",
              "      <th>2</th>\n",
              "      <td>-2.220692</td>\n",
              "      <td>-2.220692</td>\n",
              "    </tr>\n",
              "    <tr>\n",
              "      <th>3</th>\n",
              "      <td>-2.143522</td>\n",
              "      <td>-2.143522</td>\n",
              "    </tr>\n",
              "    <tr>\n",
              "      <th>4</th>\n",
              "      <td>-2.131811</td>\n",
              "      <td>-2.131811</td>\n",
              "    </tr>\n",
              "  </tbody>\n",
              "</table>\n",
              "</div>\n",
              "    <div class=\"colab-df-buttons\">\n",
              "\n",
              "  <div class=\"colab-df-container\">\n",
              "    <button class=\"colab-df-convert\" onclick=\"convertToInteractive('df-9280f422-e756-4ecd-9cfb-056b9682a703')\"\n",
              "            title=\"Convert this dataframe to an interactive table.\"\n",
              "            style=\"display:none;\">\n",
              "\n",
              "  <svg xmlns=\"http://www.w3.org/2000/svg\" height=\"24px\" viewBox=\"0 -960 960 960\">\n",
              "    <path d=\"M120-120v-720h720v720H120Zm60-500h600v-160H180v160Zm220 220h160v-160H400v160Zm0 220h160v-160H400v160ZM180-400h160v-160H180v160Zm440 0h160v-160H620v160ZM180-180h160v-160H180v160Zm440 0h160v-160H620v160Z\"/>\n",
              "  </svg>\n",
              "    </button>\n",
              "\n",
              "  <style>\n",
              "    .colab-df-container {\n",
              "      display:flex;\n",
              "      gap: 12px;\n",
              "    }\n",
              "\n",
              "    .colab-df-convert {\n",
              "      background-color: #E8F0FE;\n",
              "      border: none;\n",
              "      border-radius: 50%;\n",
              "      cursor: pointer;\n",
              "      display: none;\n",
              "      fill: #1967D2;\n",
              "      height: 32px;\n",
              "      padding: 0 0 0 0;\n",
              "      width: 32px;\n",
              "    }\n",
              "\n",
              "    .colab-df-convert:hover {\n",
              "      background-color: #E2EBFA;\n",
              "      box-shadow: 0px 1px 2px rgba(60, 64, 67, 0.3), 0px 1px 3px 1px rgba(60, 64, 67, 0.15);\n",
              "      fill: #174EA6;\n",
              "    }\n",
              "\n",
              "    .colab-df-buttons div {\n",
              "      margin-bottom: 4px;\n",
              "    }\n",
              "\n",
              "    [theme=dark] .colab-df-convert {\n",
              "      background-color: #3B4455;\n",
              "      fill: #D2E3FC;\n",
              "    }\n",
              "\n",
              "    [theme=dark] .colab-df-convert:hover {\n",
              "      background-color: #434B5C;\n",
              "      box-shadow: 0px 1px 3px 1px rgba(0, 0, 0, 0.15);\n",
              "      filter: drop-shadow(0px 1px 2px rgba(0, 0, 0, 0.3));\n",
              "      fill: #FFFFFF;\n",
              "    }\n",
              "  </style>\n",
              "\n",
              "    <script>\n",
              "      const buttonEl =\n",
              "        document.querySelector('#df-9280f422-e756-4ecd-9cfb-056b9682a703 button.colab-df-convert');\n",
              "      buttonEl.style.display =\n",
              "        google.colab.kernel.accessAllowed ? 'block' : 'none';\n",
              "\n",
              "      async function convertToInteractive(key) {\n",
              "        const element = document.querySelector('#df-9280f422-e756-4ecd-9cfb-056b9682a703');\n",
              "        const dataTable =\n",
              "          await google.colab.kernel.invokeFunction('convertToInteractive',\n",
              "                                                    [key], {});\n",
              "        if (!dataTable) return;\n",
              "\n",
              "        const docLinkHtml = 'Like what you see? Visit the ' +\n",
              "          '<a target=\"_blank\" href=https://colab.research.google.com/notebooks/data_table.ipynb>data table notebook</a>'\n",
              "          + ' to learn more about interactive tables.';\n",
              "        element.innerHTML = '';\n",
              "        dataTable['output_type'] = 'display_data';\n",
              "        await google.colab.output.renderOutput(dataTable, element);\n",
              "        const docLink = document.createElement('div');\n",
              "        docLink.innerHTML = docLinkHtml;\n",
              "        element.appendChild(docLink);\n",
              "      }\n",
              "    </script>\n",
              "  </div>\n",
              "\n",
              "\n",
              "<div id=\"df-2d363a10-129e-46cb-ae28-048040ad94c4\">\n",
              "  <button class=\"colab-df-quickchart\" onclick=\"quickchart('df-2d363a10-129e-46cb-ae28-048040ad94c4')\"\n",
              "            title=\"Suggest charts\"\n",
              "            style=\"display:none;\">\n",
              "\n",
              "<svg xmlns=\"http://www.w3.org/2000/svg\" height=\"24px\"viewBox=\"0 0 24 24\"\n",
              "     width=\"24px\">\n",
              "    <g>\n",
              "        <path d=\"M19 3H5c-1.1 0-2 .9-2 2v14c0 1.1.9 2 2 2h14c1.1 0 2-.9 2-2V5c0-1.1-.9-2-2-2zM9 17H7v-7h2v7zm4 0h-2V7h2v10zm4 0h-2v-4h2v4z\"/>\n",
              "    </g>\n",
              "</svg>\n",
              "  </button>\n",
              "\n",
              "<style>\n",
              "  .colab-df-quickchart {\n",
              "      --bg-color: #E8F0FE;\n",
              "      --fill-color: #1967D2;\n",
              "      --hover-bg-color: #E2EBFA;\n",
              "      --hover-fill-color: #174EA6;\n",
              "      --disabled-fill-color: #AAA;\n",
              "      --disabled-bg-color: #DDD;\n",
              "  }\n",
              "\n",
              "  [theme=dark] .colab-df-quickchart {\n",
              "      --bg-color: #3B4455;\n",
              "      --fill-color: #D2E3FC;\n",
              "      --hover-bg-color: #434B5C;\n",
              "      --hover-fill-color: #FFFFFF;\n",
              "      --disabled-bg-color: #3B4455;\n",
              "      --disabled-fill-color: #666;\n",
              "  }\n",
              "\n",
              "  .colab-df-quickchart {\n",
              "    background-color: var(--bg-color);\n",
              "    border: none;\n",
              "    border-radius: 50%;\n",
              "    cursor: pointer;\n",
              "    display: none;\n",
              "    fill: var(--fill-color);\n",
              "    height: 32px;\n",
              "    padding: 0;\n",
              "    width: 32px;\n",
              "  }\n",
              "\n",
              "  .colab-df-quickchart:hover {\n",
              "    background-color: var(--hover-bg-color);\n",
              "    box-shadow: 0 1px 2px rgba(60, 64, 67, 0.3), 0 1px 3px 1px rgba(60, 64, 67, 0.15);\n",
              "    fill: var(--button-hover-fill-color);\n",
              "  }\n",
              "\n",
              "  .colab-df-quickchart-complete:disabled,\n",
              "  .colab-df-quickchart-complete:disabled:hover {\n",
              "    background-color: var(--disabled-bg-color);\n",
              "    fill: var(--disabled-fill-color);\n",
              "    box-shadow: none;\n",
              "  }\n",
              "\n",
              "  .colab-df-spinner {\n",
              "    border: 2px solid var(--fill-color);\n",
              "    border-color: transparent;\n",
              "    border-bottom-color: var(--fill-color);\n",
              "    animation:\n",
              "      spin 1s steps(1) infinite;\n",
              "  }\n",
              "\n",
              "  @keyframes spin {\n",
              "    0% {\n",
              "      border-color: transparent;\n",
              "      border-bottom-color: var(--fill-color);\n",
              "      border-left-color: var(--fill-color);\n",
              "    }\n",
              "    20% {\n",
              "      border-color: transparent;\n",
              "      border-left-color: var(--fill-color);\n",
              "      border-top-color: var(--fill-color);\n",
              "    }\n",
              "    30% {\n",
              "      border-color: transparent;\n",
              "      border-left-color: var(--fill-color);\n",
              "      border-top-color: var(--fill-color);\n",
              "      border-right-color: var(--fill-color);\n",
              "    }\n",
              "    40% {\n",
              "      border-color: transparent;\n",
              "      border-right-color: var(--fill-color);\n",
              "      border-top-color: var(--fill-color);\n",
              "    }\n",
              "    60% {\n",
              "      border-color: transparent;\n",
              "      border-right-color: var(--fill-color);\n",
              "    }\n",
              "    80% {\n",
              "      border-color: transparent;\n",
              "      border-right-color: var(--fill-color);\n",
              "      border-bottom-color: var(--fill-color);\n",
              "    }\n",
              "    90% {\n",
              "      border-color: transparent;\n",
              "      border-bottom-color: var(--fill-color);\n",
              "    }\n",
              "  }\n",
              "</style>\n",
              "\n",
              "  <script>\n",
              "    async function quickchart(key) {\n",
              "      const quickchartButtonEl =\n",
              "        document.querySelector('#' + key + ' button');\n",
              "      quickchartButtonEl.disabled = true;  // To prevent multiple clicks.\n",
              "      quickchartButtonEl.classList.add('colab-df-spinner');\n",
              "      try {\n",
              "        const charts = await google.colab.kernel.invokeFunction(\n",
              "            'suggestCharts', [key], {});\n",
              "      } catch (error) {\n",
              "        console.error('Error during call to suggestCharts:', error);\n",
              "      }\n",
              "      quickchartButtonEl.classList.remove('colab-df-spinner');\n",
              "      quickchartButtonEl.classList.add('colab-df-quickchart-complete');\n",
              "    }\n",
              "    (() => {\n",
              "      let quickchartButtonEl =\n",
              "        document.querySelector('#df-2d363a10-129e-46cb-ae28-048040ad94c4 button');\n",
              "      quickchartButtonEl.style.display =\n",
              "        google.colab.kernel.accessAllowed ? 'block' : 'none';\n",
              "    })();\n",
              "  </script>\n",
              "</div>\n",
              "    </div>\n",
              "  </div>\n"
            ],
            "application/vnd.google.colaboratory.intrinsic+json": {
              "type": "dataframe",
              "variable_name": "data",
              "summary": "{\n  \"name\": \"data\",\n  \"rows\": 200,\n  \"fields\": [\n    {\n      \"column\": \"data\",\n      \"properties\": {\n        \"dtype\": \"number\",\n        \"std\": 1.031305081106959,\n        \"min\": -2.830073285745182,\n        \"max\": 2.882923564054132,\n        \"num_unique_values\": 200,\n        \"samples\": [\n          -0.2496561896339852,\n          -1.4486573487763683,\n          -0.9812293669192735\n        ],\n        \"semantic_type\": \"\",\n        \"description\": \"\"\n      }\n    },\n    {\n      \"column\": \"linear\",\n      \"properties\": {\n        \"dtype\": \"number\",\n        \"std\": 1.031305081106959,\n        \"min\": -2.830073285745182,\n        \"max\": 2.882923564054132,\n        \"num_unique_values\": 200,\n        \"samples\": [\n          -0.2496561896339852,\n          -1.4486573487763683,\n          -0.9812293669192735\n        ],\n        \"semantic_type\": \"\",\n        \"description\": \"\"\n      }\n    }\n  ]\n}"
            }
          },
          "metadata": {},
          "execution_count": 6
        }
      ]
    },
    {
      "cell_type": "code",
      "metadata": {
        "id": "SsbhlfGgesjV",
        "colab": {
          "base_uri": "https://localhost:8080/",
          "height": 542
        },
        "outputId": "88aa3b2e-7e79-4c90-ebb6-c767a9d0e2dd"
      },
      "source": [
        "px.line(data, x='data', y='linear', width=800, range_y=[-2, 2])"
      ],
      "execution_count": 7,
      "outputs": [
        {
          "output_type": "display_data",
          "data": {
            "text/html": [
              "<html>\n",
              "<head><meta charset=\"utf-8\" /></head>\n",
              "<body>\n",
              "    <div>            <script src=\"https://cdnjs.cloudflare.com/ajax/libs/mathjax/2.7.5/MathJax.js?config=TeX-AMS-MML_SVG\"></script><script type=\"text/javascript\">if (window.MathJax && window.MathJax.Hub && window.MathJax.Hub.Config) {window.MathJax.Hub.Config({SVG: {font: \"STIX-Web\"}});}</script>                <script type=\"text/javascript\">window.PlotlyConfig = {MathJaxConfig: 'local'};</script>\n",
              "        <script charset=\"utf-8\" src=\"https://cdn.plot.ly/plotly-2.24.1.min.js\"></script>                <div id=\"30ea4dc2-e36a-4965-9138-89efb737bb2f\" class=\"plotly-graph-div\" style=\"height:525px; width:800px;\"></div>            <script type=\"text/javascript\">                                    window.PLOTLYENV=window.PLOTLYENV || {};                                    if (document.getElementById(\"30ea4dc2-e36a-4965-9138-89efb737bb2f\")) {                    Plotly.newPlot(                        \"30ea4dc2-e36a-4965-9138-89efb737bb2f\",                        [{\"hovertemplate\":\"data=%{x}\\u003cbr\\u003elinear=%{y}\\u003cextra\\u003e\\u003c\\u002fextra\\u003e\",\"legendgroup\":\"\",\"line\":{\"color\":\"#636efa\",\"dash\":\"solid\"},\"marker\":{\"symbol\":\"circle\"},\"mode\":\"lines\",\"name\":\"\",\"orientation\":\"v\",\"showlegend\":false,\"x\":[-2.830073285745182,-2.261445433645979,-2.220691527610627,-2.1435217386787806,-2.131811349544527,-2.0076893087238283,-1.9787707630012554,-1.8711718599588136,-1.6908155812803758,-1.6790333273162397,-1.601608269858491,-1.587880964553168,-1.5395789350788682,-1.5142575152683806,-1.4985209267165724,-1.4486573487763683,-1.4148576032031688,-1.3819601244201793,-1.3762683993952955,-1.3542253724272526,-1.349770985237781,-1.2888366128124937,-1.2399841253740715,-1.2334672762942072,-1.2025362576187595,-1.1596570261231702,-1.1282649918390961,-1.1071869230781106,-1.046596209864421,-0.9977651307170426,-0.9812293669192735,-0.9810457308088318,-0.945744716321827,-0.8945199609279343,-0.8694878498173025,-0.8312481707006051,-0.803384542556702,-0.7715023461789474,-0.7634424806031833,-0.7624610499272936,-0.7382954553433014,-0.708030807035612,-0.7079603521021349,-0.6972410437791838,-0.6911007929452622,-0.6580577899595283,-0.6436097544736573,-0.6351906546565081,-0.6321630873390949,-0.6185727057730787,-0.607644792161902,-0.5928161779254603,-0.5815556251234661,-0.5637870470076582,-0.5632609354019615,-0.5524011835954572,-0.5486011874435412,-0.5213324189678387,-0.5107172845515364,-0.5036268856255307,-0.4964002181456416,-0.4842959406098623,-0.47777583538472324,-0.4741587938632549,-0.45578070993633024,-0.45281031880722394,-0.45104329986962155,-0.4469219496194569,-0.4448995257052334,-0.4438644024931553,-0.4100659791964407,-0.387965744972894,-0.37847108633459725,-0.3770225652724478,-0.368864975068068,-0.3676991708843384,-0.35818336269447143,-0.35335065201510235,-0.3499616322403122,-0.3414099741475006,-0.3404521217412876,-0.34012041380672614,-0.33855598369485734,-0.33506294991162494,-0.3090452309090729,-0.29227984485415226,-0.2909423635036963,-0.2867435337805795,-0.28307823699047824,-0.2812973169604135,-0.2724111130335958,-0.2611562450621375,-0.26064448271574053,-0.2555999061834231,-0.25147877022745463,-0.2496561896339852,-0.23242745569171966,-0.21283777961363426,-0.17376654890890053,-0.1636546481990109,-0.15401018651158604,-0.12954954992438344,-0.12440077674534383,-0.12111498229840996,-0.11287805715373325,-0.08820307768654281,-0.06540838753813624,-0.03504270123369992,-0.02618584331776621,-0.015079112659735055,0.036515109511726415,0.06207769315316156,0.0793127096700642,0.10557645100020627,0.16620449067152512,0.17148066187781327,0.17333458295784376,0.18565803158370764,0.200302032259772,0.20247954267772605,0.22247951198941407,0.22664000483365568,0.25325215767709414,0.2554350186937871,0.2675943256598685,0.269102383123708,0.28548469277884764,0.31071892545157587,0.33648402596916693,0.3390785808162357,0.34431891696860656,0.34693511778026936,0.35571653239970874,0.3898952695629419,0.3959342637334536,0.3964553032513761,0.42833847672181813,0.4527047379842921,0.49745958416363767,0.499311676332752,0.5161699732629625,0.5528589780866089,0.5598675611346705,0.5686778946340876,0.5806033363587974,0.6420951575402668,0.6548738420999153,0.6637795741279585,0.6783664315186261,0.6811436416950186,0.7204813890411333,0.7230038884838699,0.7328886016259153,0.769548244445792,0.7726020213800058,0.7792007462459867,0.8025824301670816,0.8172154181246223,0.8266206980573025,0.8360258530632049,0.852242202647699,0.8806518093291886,0.8824478868180873,0.9070962008935363,0.9531653478583303,0.9540187877483921,0.9577876579654324,0.9803570308903252,0.9989979161416714,1.000018730073259,1.0583183651525259,1.061646984033626,1.0950453498392283,1.1109595207064344,1.137991062111512,1.2016142189001942,1.2896531742208237,1.2991846733564119,1.3156768171877344,1.3675932777641764,1.3782091894199862,1.3849829248473209,1.3886176565973734,1.4509615421602222,1.4843218459250773,1.5085892072312825,1.5969390784507735,1.6831681082675918,1.7231499262716647,1.7651147766661053,1.8111531144357407,1.9663681623398783,1.9956648566149924,2.0346375291429815,2.0357373166104455,2.0670913813861143,2.469252032530592,2.6304577161013865,2.631877153919458,2.882923564054132],\"xaxis\":\"x\",\"y\":[-2.830073285745182,-2.261445433645979,-2.220691527610627,-2.1435217386787806,-2.131811349544527,-2.0076893087238283,-1.9787707630012554,-1.8711718599588136,-1.6908155812803758,-1.6790333273162397,-1.601608269858491,-1.587880964553168,-1.5395789350788682,-1.5142575152683806,-1.4985209267165724,-1.4486573487763683,-1.4148576032031688,-1.3819601244201793,-1.3762683993952955,-1.3542253724272526,-1.349770985237781,-1.2888366128124937,-1.2399841253740715,-1.2334672762942072,-1.2025362576187595,-1.1596570261231702,-1.1282649918390961,-1.1071869230781106,-1.046596209864421,-0.9977651307170426,-0.9812293669192735,-0.9810457308088318,-0.945744716321827,-0.8945199609279343,-0.8694878498173025,-0.8312481707006051,-0.803384542556702,-0.7715023461789474,-0.7634424806031833,-0.7624610499272936,-0.7382954553433014,-0.708030807035612,-0.7079603521021349,-0.6972410437791838,-0.6911007929452622,-0.6580577899595283,-0.6436097544736573,-0.6351906546565081,-0.6321630873390949,-0.6185727057730787,-0.607644792161902,-0.5928161779254603,-0.5815556251234661,-0.5637870470076582,-0.5632609354019615,-0.5524011835954572,-0.5486011874435412,-0.5213324189678387,-0.5107172845515364,-0.5036268856255307,-0.4964002181456416,-0.4842959406098623,-0.47777583538472324,-0.4741587938632549,-0.45578070993633024,-0.45281031880722394,-0.45104329986962155,-0.4469219496194569,-0.4448995257052334,-0.4438644024931553,-0.4100659791964407,-0.387965744972894,-0.37847108633459725,-0.3770225652724478,-0.368864975068068,-0.3676991708843384,-0.35818336269447143,-0.35335065201510235,-0.3499616322403122,-0.3414099741475006,-0.3404521217412876,-0.34012041380672614,-0.33855598369485734,-0.33506294991162494,-0.3090452309090729,-0.29227984485415226,-0.2909423635036963,-0.2867435337805795,-0.28307823699047824,-0.2812973169604135,-0.2724111130335958,-0.2611562450621375,-0.26064448271574053,-0.2555999061834231,-0.25147877022745463,-0.2496561896339852,-0.23242745569171966,-0.21283777961363426,-0.17376654890890053,-0.1636546481990109,-0.15401018651158604,-0.12954954992438344,-0.12440077674534383,-0.12111498229840996,-0.11287805715373325,-0.08820307768654281,-0.06540838753813624,-0.03504270123369992,-0.02618584331776621,-0.015079112659735055,0.036515109511726415,0.06207769315316156,0.0793127096700642,0.10557645100020627,0.16620449067152512,0.17148066187781327,0.17333458295784376,0.18565803158370764,0.200302032259772,0.20247954267772605,0.22247951198941407,0.22664000483365568,0.25325215767709414,0.2554350186937871,0.2675943256598685,0.269102383123708,0.28548469277884764,0.31071892545157587,0.33648402596916693,0.3390785808162357,0.34431891696860656,0.34693511778026936,0.35571653239970874,0.3898952695629419,0.3959342637334536,0.3964553032513761,0.42833847672181813,0.4527047379842921,0.49745958416363767,0.499311676332752,0.5161699732629625,0.5528589780866089,0.5598675611346705,0.5686778946340876,0.5806033363587974,0.6420951575402668,0.6548738420999153,0.6637795741279585,0.6783664315186261,0.6811436416950186,0.7204813890411333,0.7230038884838699,0.7328886016259153,0.769548244445792,0.7726020213800058,0.7792007462459867,0.8025824301670816,0.8172154181246223,0.8266206980573025,0.8360258530632049,0.852242202647699,0.8806518093291886,0.8824478868180873,0.9070962008935363,0.9531653478583303,0.9540187877483921,0.9577876579654324,0.9803570308903252,0.9989979161416714,1.000018730073259,1.0583183651525259,1.061646984033626,1.0950453498392283,1.1109595207064344,1.137991062111512,1.2016142189001942,1.2896531742208237,1.2991846733564119,1.3156768171877344,1.3675932777641764,1.3782091894199862,1.3849829248473209,1.3886176565973734,1.4509615421602222,1.4843218459250773,1.5085892072312825,1.5969390784507735,1.6831681082675918,1.7231499262716647,1.7651147766661053,1.8111531144357407,1.9663681623398783,1.9956648566149924,2.0346375291429815,2.0357373166104455,2.0670913813861143,2.469252032530592,2.6304577161013865,2.631877153919458,2.882923564054132],\"yaxis\":\"y\",\"type\":\"scatter\"}],                        {\"template\":{\"data\":{\"histogram2dcontour\":[{\"type\":\"histogram2dcontour\",\"colorbar\":{\"outlinewidth\":0,\"ticks\":\"\"},\"colorscale\":[[0.0,\"#0d0887\"],[0.1111111111111111,\"#46039f\"],[0.2222222222222222,\"#7201a8\"],[0.3333333333333333,\"#9c179e\"],[0.4444444444444444,\"#bd3786\"],[0.5555555555555556,\"#d8576b\"],[0.6666666666666666,\"#ed7953\"],[0.7777777777777778,\"#fb9f3a\"],[0.8888888888888888,\"#fdca26\"],[1.0,\"#f0f921\"]]}],\"choropleth\":[{\"type\":\"choropleth\",\"colorbar\":{\"outlinewidth\":0,\"ticks\":\"\"}}],\"histogram2d\":[{\"type\":\"histogram2d\",\"colorbar\":{\"outlinewidth\":0,\"ticks\":\"\"},\"colorscale\":[[0.0,\"#0d0887\"],[0.1111111111111111,\"#46039f\"],[0.2222222222222222,\"#7201a8\"],[0.3333333333333333,\"#9c179e\"],[0.4444444444444444,\"#bd3786\"],[0.5555555555555556,\"#d8576b\"],[0.6666666666666666,\"#ed7953\"],[0.7777777777777778,\"#fb9f3a\"],[0.8888888888888888,\"#fdca26\"],[1.0,\"#f0f921\"]]}],\"heatmap\":[{\"type\":\"heatmap\",\"colorbar\":{\"outlinewidth\":0,\"ticks\":\"\"},\"colorscale\":[[0.0,\"#0d0887\"],[0.1111111111111111,\"#46039f\"],[0.2222222222222222,\"#7201a8\"],[0.3333333333333333,\"#9c179e\"],[0.4444444444444444,\"#bd3786\"],[0.5555555555555556,\"#d8576b\"],[0.6666666666666666,\"#ed7953\"],[0.7777777777777778,\"#fb9f3a\"],[0.8888888888888888,\"#fdca26\"],[1.0,\"#f0f921\"]]}],\"heatmapgl\":[{\"type\":\"heatmapgl\",\"colorbar\":{\"outlinewidth\":0,\"ticks\":\"\"},\"colorscale\":[[0.0,\"#0d0887\"],[0.1111111111111111,\"#46039f\"],[0.2222222222222222,\"#7201a8\"],[0.3333333333333333,\"#9c179e\"],[0.4444444444444444,\"#bd3786\"],[0.5555555555555556,\"#d8576b\"],[0.6666666666666666,\"#ed7953\"],[0.7777777777777778,\"#fb9f3a\"],[0.8888888888888888,\"#fdca26\"],[1.0,\"#f0f921\"]]}],\"contourcarpet\":[{\"type\":\"contourcarpet\",\"colorbar\":{\"outlinewidth\":0,\"ticks\":\"\"}}],\"contour\":[{\"type\":\"contour\",\"colorbar\":{\"outlinewidth\":0,\"ticks\":\"\"},\"colorscale\":[[0.0,\"#0d0887\"],[0.1111111111111111,\"#46039f\"],[0.2222222222222222,\"#7201a8\"],[0.3333333333333333,\"#9c179e\"],[0.4444444444444444,\"#bd3786\"],[0.5555555555555556,\"#d8576b\"],[0.6666666666666666,\"#ed7953\"],[0.7777777777777778,\"#fb9f3a\"],[0.8888888888888888,\"#fdca26\"],[1.0,\"#f0f921\"]]}],\"surface\":[{\"type\":\"surface\",\"colorbar\":{\"outlinewidth\":0,\"ticks\":\"\"},\"colorscale\":[[0.0,\"#0d0887\"],[0.1111111111111111,\"#46039f\"],[0.2222222222222222,\"#7201a8\"],[0.3333333333333333,\"#9c179e\"],[0.4444444444444444,\"#bd3786\"],[0.5555555555555556,\"#d8576b\"],[0.6666666666666666,\"#ed7953\"],[0.7777777777777778,\"#fb9f3a\"],[0.8888888888888888,\"#fdca26\"],[1.0,\"#f0f921\"]]}],\"mesh3d\":[{\"type\":\"mesh3d\",\"colorbar\":{\"outlinewidth\":0,\"ticks\":\"\"}}],\"scatter\":[{\"fillpattern\":{\"fillmode\":\"overlay\",\"size\":10,\"solidity\":0.2},\"type\":\"scatter\"}],\"parcoords\":[{\"type\":\"parcoords\",\"line\":{\"colorbar\":{\"outlinewidth\":0,\"ticks\":\"\"}}}],\"scatterpolargl\":[{\"type\":\"scatterpolargl\",\"marker\":{\"colorbar\":{\"outlinewidth\":0,\"ticks\":\"\"}}}],\"bar\":[{\"error_x\":{\"color\":\"#2a3f5f\"},\"error_y\":{\"color\":\"#2a3f5f\"},\"marker\":{\"line\":{\"color\":\"#E5ECF6\",\"width\":0.5},\"pattern\":{\"fillmode\":\"overlay\",\"size\":10,\"solidity\":0.2}},\"type\":\"bar\"}],\"scattergeo\":[{\"type\":\"scattergeo\",\"marker\":{\"colorbar\":{\"outlinewidth\":0,\"ticks\":\"\"}}}],\"scatterpolar\":[{\"type\":\"scatterpolar\",\"marker\":{\"colorbar\":{\"outlinewidth\":0,\"ticks\":\"\"}}}],\"histogram\":[{\"marker\":{\"pattern\":{\"fillmode\":\"overlay\",\"size\":10,\"solidity\":0.2}},\"type\":\"histogram\"}],\"scattergl\":[{\"type\":\"scattergl\",\"marker\":{\"colorbar\":{\"outlinewidth\":0,\"ticks\":\"\"}}}],\"scatter3d\":[{\"type\":\"scatter3d\",\"line\":{\"colorbar\":{\"outlinewidth\":0,\"ticks\":\"\"}},\"marker\":{\"colorbar\":{\"outlinewidth\":0,\"ticks\":\"\"}}}],\"scattermapbox\":[{\"type\":\"scattermapbox\",\"marker\":{\"colorbar\":{\"outlinewidth\":0,\"ticks\":\"\"}}}],\"scatterternary\":[{\"type\":\"scatterternary\",\"marker\":{\"colorbar\":{\"outlinewidth\":0,\"ticks\":\"\"}}}],\"scattercarpet\":[{\"type\":\"scattercarpet\",\"marker\":{\"colorbar\":{\"outlinewidth\":0,\"ticks\":\"\"}}}],\"carpet\":[{\"aaxis\":{\"endlinecolor\":\"#2a3f5f\",\"gridcolor\":\"white\",\"linecolor\":\"white\",\"minorgridcolor\":\"white\",\"startlinecolor\":\"#2a3f5f\"},\"baxis\":{\"endlinecolor\":\"#2a3f5f\",\"gridcolor\":\"white\",\"linecolor\":\"white\",\"minorgridcolor\":\"white\",\"startlinecolor\":\"#2a3f5f\"},\"type\":\"carpet\"}],\"table\":[{\"cells\":{\"fill\":{\"color\":\"#EBF0F8\"},\"line\":{\"color\":\"white\"}},\"header\":{\"fill\":{\"color\":\"#C8D4E3\"},\"line\":{\"color\":\"white\"}},\"type\":\"table\"}],\"barpolar\":[{\"marker\":{\"line\":{\"color\":\"#E5ECF6\",\"width\":0.5},\"pattern\":{\"fillmode\":\"overlay\",\"size\":10,\"solidity\":0.2}},\"type\":\"barpolar\"}],\"pie\":[{\"automargin\":true,\"type\":\"pie\"}]},\"layout\":{\"autotypenumbers\":\"strict\",\"colorway\":[\"#636efa\",\"#EF553B\",\"#00cc96\",\"#ab63fa\",\"#FFA15A\",\"#19d3f3\",\"#FF6692\",\"#B6E880\",\"#FF97FF\",\"#FECB52\"],\"font\":{\"color\":\"#2a3f5f\"},\"hovermode\":\"closest\",\"hoverlabel\":{\"align\":\"left\"},\"paper_bgcolor\":\"white\",\"plot_bgcolor\":\"#E5ECF6\",\"polar\":{\"bgcolor\":\"#E5ECF6\",\"angularaxis\":{\"gridcolor\":\"white\",\"linecolor\":\"white\",\"ticks\":\"\"},\"radialaxis\":{\"gridcolor\":\"white\",\"linecolor\":\"white\",\"ticks\":\"\"}},\"ternary\":{\"bgcolor\":\"#E5ECF6\",\"aaxis\":{\"gridcolor\":\"white\",\"linecolor\":\"white\",\"ticks\":\"\"},\"baxis\":{\"gridcolor\":\"white\",\"linecolor\":\"white\",\"ticks\":\"\"},\"caxis\":{\"gridcolor\":\"white\",\"linecolor\":\"white\",\"ticks\":\"\"}},\"coloraxis\":{\"colorbar\":{\"outlinewidth\":0,\"ticks\":\"\"}},\"colorscale\":{\"sequential\":[[0.0,\"#0d0887\"],[0.1111111111111111,\"#46039f\"],[0.2222222222222222,\"#7201a8\"],[0.3333333333333333,\"#9c179e\"],[0.4444444444444444,\"#bd3786\"],[0.5555555555555556,\"#d8576b\"],[0.6666666666666666,\"#ed7953\"],[0.7777777777777778,\"#fb9f3a\"],[0.8888888888888888,\"#fdca26\"],[1.0,\"#f0f921\"]],\"sequentialminus\":[[0.0,\"#0d0887\"],[0.1111111111111111,\"#46039f\"],[0.2222222222222222,\"#7201a8\"],[0.3333333333333333,\"#9c179e\"],[0.4444444444444444,\"#bd3786\"],[0.5555555555555556,\"#d8576b\"],[0.6666666666666666,\"#ed7953\"],[0.7777777777777778,\"#fb9f3a\"],[0.8888888888888888,\"#fdca26\"],[1.0,\"#f0f921\"]],\"diverging\":[[0,\"#8e0152\"],[0.1,\"#c51b7d\"],[0.2,\"#de77ae\"],[0.3,\"#f1b6da\"],[0.4,\"#fde0ef\"],[0.5,\"#f7f7f7\"],[0.6,\"#e6f5d0\"],[0.7,\"#b8e186\"],[0.8,\"#7fbc41\"],[0.9,\"#4d9221\"],[1,\"#276419\"]]},\"xaxis\":{\"gridcolor\":\"white\",\"linecolor\":\"white\",\"ticks\":\"\",\"title\":{\"standoff\":15},\"zerolinecolor\":\"white\",\"automargin\":true,\"zerolinewidth\":2},\"yaxis\":{\"gridcolor\":\"white\",\"linecolor\":\"white\",\"ticks\":\"\",\"title\":{\"standoff\":15},\"zerolinecolor\":\"white\",\"automargin\":true,\"zerolinewidth\":2},\"scene\":{\"xaxis\":{\"backgroundcolor\":\"#E5ECF6\",\"gridcolor\":\"white\",\"linecolor\":\"white\",\"showbackground\":true,\"ticks\":\"\",\"zerolinecolor\":\"white\",\"gridwidth\":2},\"yaxis\":{\"backgroundcolor\":\"#E5ECF6\",\"gridcolor\":\"white\",\"linecolor\":\"white\",\"showbackground\":true,\"ticks\":\"\",\"zerolinecolor\":\"white\",\"gridwidth\":2},\"zaxis\":{\"backgroundcolor\":\"#E5ECF6\",\"gridcolor\":\"white\",\"linecolor\":\"white\",\"showbackground\":true,\"ticks\":\"\",\"zerolinecolor\":\"white\",\"gridwidth\":2}},\"shapedefaults\":{\"line\":{\"color\":\"#2a3f5f\"}},\"annotationdefaults\":{\"arrowcolor\":\"#2a3f5f\",\"arrowhead\":0,\"arrowwidth\":1},\"geo\":{\"bgcolor\":\"white\",\"landcolor\":\"#E5ECF6\",\"subunitcolor\":\"white\",\"showland\":true,\"showlakes\":true,\"lakecolor\":\"white\"},\"title\":{\"x\":0.05},\"mapbox\":{\"style\":\"light\"}}},\"xaxis\":{\"anchor\":\"y\",\"domain\":[0.0,1.0],\"title\":{\"text\":\"data\"}},\"yaxis\":{\"anchor\":\"x\",\"domain\":[0.0,1.0],\"title\":{\"text\":\"linear\"},\"range\":[-2,2]},\"legend\":{\"tracegroupgap\":0},\"margin\":{\"t\":60},\"width\":800},                        {\"responsive\": true}                    ).then(function(){\n",
              "                            \n",
              "var gd = document.getElementById('30ea4dc2-e36a-4965-9138-89efb737bb2f');\n",
              "var x = new MutationObserver(function (mutations, observer) {{\n",
              "        var display = window.getComputedStyle(gd).display;\n",
              "        if (!display || display === 'none') {{\n",
              "            console.log([gd, 'removed!']);\n",
              "            Plotly.purge(gd);\n",
              "            observer.disconnect();\n",
              "        }}\n",
              "}});\n",
              "\n",
              "// Listen for the removal of the full notebook cells\n",
              "var notebookContainer = gd.closest('#notebook-container');\n",
              "if (notebookContainer) {{\n",
              "    x.observe(notebookContainer, {childList: true});\n",
              "}}\n",
              "\n",
              "// Listen for the clearing of the current output cell\n",
              "var outputEl = gd.closest('.output');\n",
              "if (outputEl) {{\n",
              "    x.observe(outputEl, {childList: true});\n",
              "}}\n",
              "\n",
              "                        })                };                            </script>        </div>\n",
              "</body>\n",
              "</html>"
            ]
          },
          "metadata": {}
        }
      ]
    },
    {
      "cell_type": "code",
      "metadata": {
        "id": "xGsRlPQde7Qc",
        "colab": {
          "base_uri": "https://localhost:8080/",
          "height": 206
        },
        "outputId": "f886af31-bda1-40d5-93ca-2cf3d910c5ee"
      },
      "source": [
        "from tensorflow.keras.activations import sigmoid\n",
        "\n",
        "data = pd.DataFrame({'data': random_data, 'sigmoid': sigmoid(random_data)})\n",
        "data.head()"
      ],
      "execution_count": 8,
      "outputs": [
        {
          "output_type": "execute_result",
          "data": {
            "text/plain": [
              "       data   sigmoid\n",
              "0 -2.830073  0.055721\n",
              "1 -2.261445  0.094367\n",
              "2 -2.220692  0.097908\n",
              "3 -2.143522  0.104938\n",
              "4 -2.131811  0.106043"
            ],
            "text/html": [
              "\n",
              "  <div id=\"df-3dc151b3-0606-4fac-b725-e3b4bb5385ef\" class=\"colab-df-container\">\n",
              "    <div>\n",
              "<style scoped>\n",
              "    .dataframe tbody tr th:only-of-type {\n",
              "        vertical-align: middle;\n",
              "    }\n",
              "\n",
              "    .dataframe tbody tr th {\n",
              "        vertical-align: top;\n",
              "    }\n",
              "\n",
              "    .dataframe thead th {\n",
              "        text-align: right;\n",
              "    }\n",
              "</style>\n",
              "<table border=\"1\" class=\"dataframe\">\n",
              "  <thead>\n",
              "    <tr style=\"text-align: right;\">\n",
              "      <th></th>\n",
              "      <th>data</th>\n",
              "      <th>sigmoid</th>\n",
              "    </tr>\n",
              "  </thead>\n",
              "  <tbody>\n",
              "    <tr>\n",
              "      <th>0</th>\n",
              "      <td>-2.830073</td>\n",
              "      <td>0.055721</td>\n",
              "    </tr>\n",
              "    <tr>\n",
              "      <th>1</th>\n",
              "      <td>-2.261445</td>\n",
              "      <td>0.094367</td>\n",
              "    </tr>\n",
              "    <tr>\n",
              "      <th>2</th>\n",
              "      <td>-2.220692</td>\n",
              "      <td>0.097908</td>\n",
              "    </tr>\n",
              "    <tr>\n",
              "      <th>3</th>\n",
              "      <td>-2.143522</td>\n",
              "      <td>0.104938</td>\n",
              "    </tr>\n",
              "    <tr>\n",
              "      <th>4</th>\n",
              "      <td>-2.131811</td>\n",
              "      <td>0.106043</td>\n",
              "    </tr>\n",
              "  </tbody>\n",
              "</table>\n",
              "</div>\n",
              "    <div class=\"colab-df-buttons\">\n",
              "\n",
              "  <div class=\"colab-df-container\">\n",
              "    <button class=\"colab-df-convert\" onclick=\"convertToInteractive('df-3dc151b3-0606-4fac-b725-e3b4bb5385ef')\"\n",
              "            title=\"Convert this dataframe to an interactive table.\"\n",
              "            style=\"display:none;\">\n",
              "\n",
              "  <svg xmlns=\"http://www.w3.org/2000/svg\" height=\"24px\" viewBox=\"0 -960 960 960\">\n",
              "    <path d=\"M120-120v-720h720v720H120Zm60-500h600v-160H180v160Zm220 220h160v-160H400v160Zm0 220h160v-160H400v160ZM180-400h160v-160H180v160Zm440 0h160v-160H620v160ZM180-180h160v-160H180v160Zm440 0h160v-160H620v160Z\"/>\n",
              "  </svg>\n",
              "    </button>\n",
              "\n",
              "  <style>\n",
              "    .colab-df-container {\n",
              "      display:flex;\n",
              "      gap: 12px;\n",
              "    }\n",
              "\n",
              "    .colab-df-convert {\n",
              "      background-color: #E8F0FE;\n",
              "      border: none;\n",
              "      border-radius: 50%;\n",
              "      cursor: pointer;\n",
              "      display: none;\n",
              "      fill: #1967D2;\n",
              "      height: 32px;\n",
              "      padding: 0 0 0 0;\n",
              "      width: 32px;\n",
              "    }\n",
              "\n",
              "    .colab-df-convert:hover {\n",
              "      background-color: #E2EBFA;\n",
              "      box-shadow: 0px 1px 2px rgba(60, 64, 67, 0.3), 0px 1px 3px 1px rgba(60, 64, 67, 0.15);\n",
              "      fill: #174EA6;\n",
              "    }\n",
              "\n",
              "    .colab-df-buttons div {\n",
              "      margin-bottom: 4px;\n",
              "    }\n",
              "\n",
              "    [theme=dark] .colab-df-convert {\n",
              "      background-color: #3B4455;\n",
              "      fill: #D2E3FC;\n",
              "    }\n",
              "\n",
              "    [theme=dark] .colab-df-convert:hover {\n",
              "      background-color: #434B5C;\n",
              "      box-shadow: 0px 1px 3px 1px rgba(0, 0, 0, 0.15);\n",
              "      filter: drop-shadow(0px 1px 2px rgba(0, 0, 0, 0.3));\n",
              "      fill: #FFFFFF;\n",
              "    }\n",
              "  </style>\n",
              "\n",
              "    <script>\n",
              "      const buttonEl =\n",
              "        document.querySelector('#df-3dc151b3-0606-4fac-b725-e3b4bb5385ef button.colab-df-convert');\n",
              "      buttonEl.style.display =\n",
              "        google.colab.kernel.accessAllowed ? 'block' : 'none';\n",
              "\n",
              "      async function convertToInteractive(key) {\n",
              "        const element = document.querySelector('#df-3dc151b3-0606-4fac-b725-e3b4bb5385ef');\n",
              "        const dataTable =\n",
              "          await google.colab.kernel.invokeFunction('convertToInteractive',\n",
              "                                                    [key], {});\n",
              "        if (!dataTable) return;\n",
              "\n",
              "        const docLinkHtml = 'Like what you see? Visit the ' +\n",
              "          '<a target=\"_blank\" href=https://colab.research.google.com/notebooks/data_table.ipynb>data table notebook</a>'\n",
              "          + ' to learn more about interactive tables.';\n",
              "        element.innerHTML = '';\n",
              "        dataTable['output_type'] = 'display_data';\n",
              "        await google.colab.output.renderOutput(dataTable, element);\n",
              "        const docLink = document.createElement('div');\n",
              "        docLink.innerHTML = docLinkHtml;\n",
              "        element.appendChild(docLink);\n",
              "      }\n",
              "    </script>\n",
              "  </div>\n",
              "\n",
              "\n",
              "<div id=\"df-cc949122-855d-473f-ae4f-eb09a29cd6e8\">\n",
              "  <button class=\"colab-df-quickchart\" onclick=\"quickchart('df-cc949122-855d-473f-ae4f-eb09a29cd6e8')\"\n",
              "            title=\"Suggest charts\"\n",
              "            style=\"display:none;\">\n",
              "\n",
              "<svg xmlns=\"http://www.w3.org/2000/svg\" height=\"24px\"viewBox=\"0 0 24 24\"\n",
              "     width=\"24px\">\n",
              "    <g>\n",
              "        <path d=\"M19 3H5c-1.1 0-2 .9-2 2v14c0 1.1.9 2 2 2h14c1.1 0 2-.9 2-2V5c0-1.1-.9-2-2-2zM9 17H7v-7h2v7zm4 0h-2V7h2v10zm4 0h-2v-4h2v4z\"/>\n",
              "    </g>\n",
              "</svg>\n",
              "  </button>\n",
              "\n",
              "<style>\n",
              "  .colab-df-quickchart {\n",
              "      --bg-color: #E8F0FE;\n",
              "      --fill-color: #1967D2;\n",
              "      --hover-bg-color: #E2EBFA;\n",
              "      --hover-fill-color: #174EA6;\n",
              "      --disabled-fill-color: #AAA;\n",
              "      --disabled-bg-color: #DDD;\n",
              "  }\n",
              "\n",
              "  [theme=dark] .colab-df-quickchart {\n",
              "      --bg-color: #3B4455;\n",
              "      --fill-color: #D2E3FC;\n",
              "      --hover-bg-color: #434B5C;\n",
              "      --hover-fill-color: #FFFFFF;\n",
              "      --disabled-bg-color: #3B4455;\n",
              "      --disabled-fill-color: #666;\n",
              "  }\n",
              "\n",
              "  .colab-df-quickchart {\n",
              "    background-color: var(--bg-color);\n",
              "    border: none;\n",
              "    border-radius: 50%;\n",
              "    cursor: pointer;\n",
              "    display: none;\n",
              "    fill: var(--fill-color);\n",
              "    height: 32px;\n",
              "    padding: 0;\n",
              "    width: 32px;\n",
              "  }\n",
              "\n",
              "  .colab-df-quickchart:hover {\n",
              "    background-color: var(--hover-bg-color);\n",
              "    box-shadow: 0 1px 2px rgba(60, 64, 67, 0.3), 0 1px 3px 1px rgba(60, 64, 67, 0.15);\n",
              "    fill: var(--button-hover-fill-color);\n",
              "  }\n",
              "\n",
              "  .colab-df-quickchart-complete:disabled,\n",
              "  .colab-df-quickchart-complete:disabled:hover {\n",
              "    background-color: var(--disabled-bg-color);\n",
              "    fill: var(--disabled-fill-color);\n",
              "    box-shadow: none;\n",
              "  }\n",
              "\n",
              "  .colab-df-spinner {\n",
              "    border: 2px solid var(--fill-color);\n",
              "    border-color: transparent;\n",
              "    border-bottom-color: var(--fill-color);\n",
              "    animation:\n",
              "      spin 1s steps(1) infinite;\n",
              "  }\n",
              "\n",
              "  @keyframes spin {\n",
              "    0% {\n",
              "      border-color: transparent;\n",
              "      border-bottom-color: var(--fill-color);\n",
              "      border-left-color: var(--fill-color);\n",
              "    }\n",
              "    20% {\n",
              "      border-color: transparent;\n",
              "      border-left-color: var(--fill-color);\n",
              "      border-top-color: var(--fill-color);\n",
              "    }\n",
              "    30% {\n",
              "      border-color: transparent;\n",
              "      border-left-color: var(--fill-color);\n",
              "      border-top-color: var(--fill-color);\n",
              "      border-right-color: var(--fill-color);\n",
              "    }\n",
              "    40% {\n",
              "      border-color: transparent;\n",
              "      border-right-color: var(--fill-color);\n",
              "      border-top-color: var(--fill-color);\n",
              "    }\n",
              "    60% {\n",
              "      border-color: transparent;\n",
              "      border-right-color: var(--fill-color);\n",
              "    }\n",
              "    80% {\n",
              "      border-color: transparent;\n",
              "      border-right-color: var(--fill-color);\n",
              "      border-bottom-color: var(--fill-color);\n",
              "    }\n",
              "    90% {\n",
              "      border-color: transparent;\n",
              "      border-bottom-color: var(--fill-color);\n",
              "    }\n",
              "  }\n",
              "</style>\n",
              "\n",
              "  <script>\n",
              "    async function quickchart(key) {\n",
              "      const quickchartButtonEl =\n",
              "        document.querySelector('#' + key + ' button');\n",
              "      quickchartButtonEl.disabled = true;  // To prevent multiple clicks.\n",
              "      quickchartButtonEl.classList.add('colab-df-spinner');\n",
              "      try {\n",
              "        const charts = await google.colab.kernel.invokeFunction(\n",
              "            'suggestCharts', [key], {});\n",
              "      } catch (error) {\n",
              "        console.error('Error during call to suggestCharts:', error);\n",
              "      }\n",
              "      quickchartButtonEl.classList.remove('colab-df-spinner');\n",
              "      quickchartButtonEl.classList.add('colab-df-quickchart-complete');\n",
              "    }\n",
              "    (() => {\n",
              "      let quickchartButtonEl =\n",
              "        document.querySelector('#df-cc949122-855d-473f-ae4f-eb09a29cd6e8 button');\n",
              "      quickchartButtonEl.style.display =\n",
              "        google.colab.kernel.accessAllowed ? 'block' : 'none';\n",
              "    })();\n",
              "  </script>\n",
              "</div>\n",
              "    </div>\n",
              "  </div>\n"
            ],
            "application/vnd.google.colaboratory.intrinsic+json": {
              "type": "dataframe",
              "variable_name": "data",
              "summary": "{\n  \"name\": \"data\",\n  \"rows\": 200,\n  \"fields\": [\n    {\n      \"column\": \"data\",\n      \"properties\": {\n        \"dtype\": \"number\",\n        \"std\": 1.031305081106959,\n        \"min\": -2.830073285745182,\n        \"max\": 2.882923564054132,\n        \"num_unique_values\": 200,\n        \"samples\": [\n          -0.2496561896339852,\n          -1.4486573487763683,\n          -0.9812293669192735\n        ],\n        \"semantic_type\": \"\",\n        \"description\": \"\"\n      }\n    },\n    {\n      \"column\": \"sigmoid\",\n      \"properties\": {\n        \"dtype\": \"number\",\n        \"std\": 0.2117484351996068,\n        \"min\": 0.05572054181771219,\n        \"max\": 0.9469958030935712,\n        \"num_unique_values\": 200,\n        \"samples\": [\n          0.4379081243714709,\n          0.19020828735270023,\n          0.27264791850819786\n        ],\n        \"semantic_type\": \"\",\n        \"description\": \"\"\n      }\n    }\n  ]\n}"
            }
          },
          "metadata": {},
          "execution_count": 8
        }
      ]
    },
    {
      "cell_type": "code",
      "metadata": {
        "id": "DbWCwhXifvXx",
        "colab": {
          "base_uri": "https://localhost:8080/",
          "height": 542
        },
        "outputId": "89e46896-6424-471a-95e9-14d77a281341"
      },
      "source": [
        "px.line(data, x='data', y='sigmoid', width=800, range_y=[-0.5, 1.5])"
      ],
      "execution_count": 9,
      "outputs": [
        {
          "output_type": "display_data",
          "data": {
            "text/html": [
              "<html>\n",
              "<head><meta charset=\"utf-8\" /></head>\n",
              "<body>\n",
              "    <div>            <script src=\"https://cdnjs.cloudflare.com/ajax/libs/mathjax/2.7.5/MathJax.js?config=TeX-AMS-MML_SVG\"></script><script type=\"text/javascript\">if (window.MathJax && window.MathJax.Hub && window.MathJax.Hub.Config) {window.MathJax.Hub.Config({SVG: {font: \"STIX-Web\"}});}</script>                <script type=\"text/javascript\">window.PlotlyConfig = {MathJaxConfig: 'local'};</script>\n",
              "        <script charset=\"utf-8\" src=\"https://cdn.plot.ly/plotly-2.24.1.min.js\"></script>                <div id=\"b2cbe67d-271e-42e1-89b1-aca2f1394dff\" class=\"plotly-graph-div\" style=\"height:525px; width:800px;\"></div>            <script type=\"text/javascript\">                                    window.PLOTLYENV=window.PLOTLYENV || {};                                    if (document.getElementById(\"b2cbe67d-271e-42e1-89b1-aca2f1394dff\")) {                    Plotly.newPlot(                        \"b2cbe67d-271e-42e1-89b1-aca2f1394dff\",                        [{\"hovertemplate\":\"data=%{x}\\u003cbr\\u003esigmoid=%{y}\\u003cextra\\u003e\\u003c\\u002fextra\\u003e\",\"legendgroup\":\"\",\"line\":{\"color\":\"#636efa\",\"dash\":\"solid\"},\"marker\":{\"symbol\":\"circle\"},\"mode\":\"lines\",\"name\":\"\",\"orientation\":\"v\",\"showlegend\":false,\"x\":[-2.830073285745182,-2.261445433645979,-2.220691527610627,-2.1435217386787806,-2.131811349544527,-2.0076893087238283,-1.9787707630012554,-1.8711718599588136,-1.6908155812803758,-1.6790333273162397,-1.601608269858491,-1.587880964553168,-1.5395789350788682,-1.5142575152683806,-1.4985209267165724,-1.4486573487763683,-1.4148576032031688,-1.3819601244201793,-1.3762683993952955,-1.3542253724272526,-1.349770985237781,-1.2888366128124937,-1.2399841253740715,-1.2334672762942072,-1.2025362576187595,-1.1596570261231702,-1.1282649918390961,-1.1071869230781106,-1.046596209864421,-0.9977651307170426,-0.9812293669192735,-0.9810457308088318,-0.945744716321827,-0.8945199609279343,-0.8694878498173025,-0.8312481707006051,-0.803384542556702,-0.7715023461789474,-0.7634424806031833,-0.7624610499272936,-0.7382954553433014,-0.708030807035612,-0.7079603521021349,-0.6972410437791838,-0.6911007929452622,-0.6580577899595283,-0.6436097544736573,-0.6351906546565081,-0.6321630873390949,-0.6185727057730787,-0.607644792161902,-0.5928161779254603,-0.5815556251234661,-0.5637870470076582,-0.5632609354019615,-0.5524011835954572,-0.5486011874435412,-0.5213324189678387,-0.5107172845515364,-0.5036268856255307,-0.4964002181456416,-0.4842959406098623,-0.47777583538472324,-0.4741587938632549,-0.45578070993633024,-0.45281031880722394,-0.45104329986962155,-0.4469219496194569,-0.4448995257052334,-0.4438644024931553,-0.4100659791964407,-0.387965744972894,-0.37847108633459725,-0.3770225652724478,-0.368864975068068,-0.3676991708843384,-0.35818336269447143,-0.35335065201510235,-0.3499616322403122,-0.3414099741475006,-0.3404521217412876,-0.34012041380672614,-0.33855598369485734,-0.33506294991162494,-0.3090452309090729,-0.29227984485415226,-0.2909423635036963,-0.2867435337805795,-0.28307823699047824,-0.2812973169604135,-0.2724111130335958,-0.2611562450621375,-0.26064448271574053,-0.2555999061834231,-0.25147877022745463,-0.2496561896339852,-0.23242745569171966,-0.21283777961363426,-0.17376654890890053,-0.1636546481990109,-0.15401018651158604,-0.12954954992438344,-0.12440077674534383,-0.12111498229840996,-0.11287805715373325,-0.08820307768654281,-0.06540838753813624,-0.03504270123369992,-0.02618584331776621,-0.015079112659735055,0.036515109511726415,0.06207769315316156,0.0793127096700642,0.10557645100020627,0.16620449067152512,0.17148066187781327,0.17333458295784376,0.18565803158370764,0.200302032259772,0.20247954267772605,0.22247951198941407,0.22664000483365568,0.25325215767709414,0.2554350186937871,0.2675943256598685,0.269102383123708,0.28548469277884764,0.31071892545157587,0.33648402596916693,0.3390785808162357,0.34431891696860656,0.34693511778026936,0.35571653239970874,0.3898952695629419,0.3959342637334536,0.3964553032513761,0.42833847672181813,0.4527047379842921,0.49745958416363767,0.499311676332752,0.5161699732629625,0.5528589780866089,0.5598675611346705,0.5686778946340876,0.5806033363587974,0.6420951575402668,0.6548738420999153,0.6637795741279585,0.6783664315186261,0.6811436416950186,0.7204813890411333,0.7230038884838699,0.7328886016259153,0.769548244445792,0.7726020213800058,0.7792007462459867,0.8025824301670816,0.8172154181246223,0.8266206980573025,0.8360258530632049,0.852242202647699,0.8806518093291886,0.8824478868180873,0.9070962008935363,0.9531653478583303,0.9540187877483921,0.9577876579654324,0.9803570308903252,0.9989979161416714,1.000018730073259,1.0583183651525259,1.061646984033626,1.0950453498392283,1.1109595207064344,1.137991062111512,1.2016142189001942,1.2896531742208237,1.2991846733564119,1.3156768171877344,1.3675932777641764,1.3782091894199862,1.3849829248473209,1.3886176565973734,1.4509615421602222,1.4843218459250773,1.5085892072312825,1.5969390784507735,1.6831681082675918,1.7231499262716647,1.7651147766661053,1.8111531144357407,1.9663681623398783,1.9956648566149924,2.0346375291429815,2.0357373166104455,2.0670913813861143,2.469252032530592,2.6304577161013865,2.631877153919458,2.882923564054132],\"xaxis\":\"x\",\"y\":[0.05572054181771219,0.09436676731357664,0.09790771035550835,0.10493814571432321,0.1060431567774763,0.11839795489321368,0.12144993627397695,0.13340618679303573,0.15566861336068444,0.15722351471621032,0.1677569569823546,0.16968223927522177,0.17659649356442875,0.18030868651173582,0.1826462259660152,0.19020828735270023,0.19546901520084606,0.20069437966667591,0.20160897986925747,0.2051804336066485,0.2059078154338857,0.21604979126824428,0.22443874895142693,0.22557514749583293,0.23102433768238087,0.2387296108838041,0.24448143262470845,0.24839570493858548,0.25987925743151163,0.2693810501753142,0.27264791850819786,0.2726843370949716,0.2797413985662702,0.2901779476124915,0.29536088097536956,0.30338121574586513,0.30930199829877414,0.3161542082550805,0.31789933346599,0.3181121842765564,0.32337699314384677,0.33003410576580594,0.3300496843550546,0.3324242075271208,0.33378824113079186,0.3411760369498318,0.34443100592292375,0.346334506116373,0.34702022623990225,0.35010613677407826,0.3525966396805811,0.35598895352427185,0.3585747229508815,0.36267166373096255,0.3627932784396265,0.3653074956828168,0.3661890050449444,0.3725407223891677,0.37502539234723625,0.3766887165374964,0.37838700307000067,0.3812382158463607,0.38277746668178486,0.3836323864050139,0.38798723276890784,0.38869279570681786,0.38911274081092706,0.39009284884289747,0.3905741316011278,0.39082054570654506,0.3988963006835674,0.4042071019525612,0.40649570531213997,0.40684521835904014,0.40881531205053845,0.4090970997689464,0.41139939362884,0.4125701332038811,0.4133917251953665,0.4154670181955435,0.4156996554702952,0.4157802274078493,0.41616028847760844,0.4170092418063198,0.42334780426382396,0.4274458151415176,0.4277731765488349,0.4288012901693192,0.4296992673728368,0.4301357502621178,0.4323152663259547,0.4350794988222842,0.43520528667513475,0.4364456546843898,0.4374595568895888,0.4379081243714709,0.442153320530695,0.44699051463200296,0.4566673430652276,0.45917740939472085,0.46157337722564357,0.4676578333181067,0.4689398515677329,0.46975821304917187,0.47181041072445806,0.4779635153151832,0.4836537304953409,0.4912402210839692,0.4934539132197143,0.4962302932643418,0.5091277631894306,0.5155144413522935,0.519817789846164,0.5263696234634471,0.5414557357041095,0.5427654214911773,0.5432254745531516,0.5462816444056261,0.5499087541764957,0.5504476490773591,0.5553915891855752,0.5564187088675562,0.5629768051994354,0.5635137890243874,0.5665022203683799,0.566872528073837,0.5708903533712959,0.5770607329730083,0.5833361987970347,0.5839666818507414,0.5852392565412278,0.585874156186517,0.5880031332993466,0.5962574873219799,0.5977104325303716,0.5978357114934368,0.6054768422998698,0.6112821168644746,0.6218621385857453,0.6222975589551916,0.6262517427151717,0.6347986410535351,0.6364218959298881,0.6384580503018131,0.6412062222040729,0.6552269201468383,0.6581079298492293,0.6601089055880233,0.6633740043783601,0.663993898565001,0.6727130134071622,0.6732681505017106,0.6754388359721365,0.6834231618370274,0.6840834942400723,0.6855078308965347,0.6905266167986325,0.6936449311728087,0.6956399204392439,0.6976275551386075,0.7010372840240922,0.7069572737897353,0.7073292264455519,0.712405588306393,0.7217513092834902,0.7219226700667142,0.7226786388155052,0.7271790533292316,0.7308615113728727,0.7310622611699809,0.7423690515672616,0.7430051602662441,0.7493306027545593,0.7523079524796514,0.7573106046782571,0.7688118195869958,0.7840884795308611,0.7856977329251827,0.788461542344708,0.7969910330741498,0.7987032342199434,0.7997900876404691,0.8003714682001908,0.8101463721484348,0.8152244827004564,0.8188520333148848,0.8315901442521544,0.843323585274027,0.8485341219702948,0.8538490932585261,0.8595011808313747,0.8772204827589276,0.8803411638170437,0.8843860988116499,0.8844985016116824,0.8876632489970554,0.9219579644895485,0.9327962481326164,0.9328851743649356,0.9469958030935712],\"yaxis\":\"y\",\"type\":\"scatter\"}],                        {\"template\":{\"data\":{\"histogram2dcontour\":[{\"type\":\"histogram2dcontour\",\"colorbar\":{\"outlinewidth\":0,\"ticks\":\"\"},\"colorscale\":[[0.0,\"#0d0887\"],[0.1111111111111111,\"#46039f\"],[0.2222222222222222,\"#7201a8\"],[0.3333333333333333,\"#9c179e\"],[0.4444444444444444,\"#bd3786\"],[0.5555555555555556,\"#d8576b\"],[0.6666666666666666,\"#ed7953\"],[0.7777777777777778,\"#fb9f3a\"],[0.8888888888888888,\"#fdca26\"],[1.0,\"#f0f921\"]]}],\"choropleth\":[{\"type\":\"choropleth\",\"colorbar\":{\"outlinewidth\":0,\"ticks\":\"\"}}],\"histogram2d\":[{\"type\":\"histogram2d\",\"colorbar\":{\"outlinewidth\":0,\"ticks\":\"\"},\"colorscale\":[[0.0,\"#0d0887\"],[0.1111111111111111,\"#46039f\"],[0.2222222222222222,\"#7201a8\"],[0.3333333333333333,\"#9c179e\"],[0.4444444444444444,\"#bd3786\"],[0.5555555555555556,\"#d8576b\"],[0.6666666666666666,\"#ed7953\"],[0.7777777777777778,\"#fb9f3a\"],[0.8888888888888888,\"#fdca26\"],[1.0,\"#f0f921\"]]}],\"heatmap\":[{\"type\":\"heatmap\",\"colorbar\":{\"outlinewidth\":0,\"ticks\":\"\"},\"colorscale\":[[0.0,\"#0d0887\"],[0.1111111111111111,\"#46039f\"],[0.2222222222222222,\"#7201a8\"],[0.3333333333333333,\"#9c179e\"],[0.4444444444444444,\"#bd3786\"],[0.5555555555555556,\"#d8576b\"],[0.6666666666666666,\"#ed7953\"],[0.7777777777777778,\"#fb9f3a\"],[0.8888888888888888,\"#fdca26\"],[1.0,\"#f0f921\"]]}],\"heatmapgl\":[{\"type\":\"heatmapgl\",\"colorbar\":{\"outlinewidth\":0,\"ticks\":\"\"},\"colorscale\":[[0.0,\"#0d0887\"],[0.1111111111111111,\"#46039f\"],[0.2222222222222222,\"#7201a8\"],[0.3333333333333333,\"#9c179e\"],[0.4444444444444444,\"#bd3786\"],[0.5555555555555556,\"#d8576b\"],[0.6666666666666666,\"#ed7953\"],[0.7777777777777778,\"#fb9f3a\"],[0.8888888888888888,\"#fdca26\"],[1.0,\"#f0f921\"]]}],\"contourcarpet\":[{\"type\":\"contourcarpet\",\"colorbar\":{\"outlinewidth\":0,\"ticks\":\"\"}}],\"contour\":[{\"type\":\"contour\",\"colorbar\":{\"outlinewidth\":0,\"ticks\":\"\"},\"colorscale\":[[0.0,\"#0d0887\"],[0.1111111111111111,\"#46039f\"],[0.2222222222222222,\"#7201a8\"],[0.3333333333333333,\"#9c179e\"],[0.4444444444444444,\"#bd3786\"],[0.5555555555555556,\"#d8576b\"],[0.6666666666666666,\"#ed7953\"],[0.7777777777777778,\"#fb9f3a\"],[0.8888888888888888,\"#fdca26\"],[1.0,\"#f0f921\"]]}],\"surface\":[{\"type\":\"surface\",\"colorbar\":{\"outlinewidth\":0,\"ticks\":\"\"},\"colorscale\":[[0.0,\"#0d0887\"],[0.1111111111111111,\"#46039f\"],[0.2222222222222222,\"#7201a8\"],[0.3333333333333333,\"#9c179e\"],[0.4444444444444444,\"#bd3786\"],[0.5555555555555556,\"#d8576b\"],[0.6666666666666666,\"#ed7953\"],[0.7777777777777778,\"#fb9f3a\"],[0.8888888888888888,\"#fdca26\"],[1.0,\"#f0f921\"]]}],\"mesh3d\":[{\"type\":\"mesh3d\",\"colorbar\":{\"outlinewidth\":0,\"ticks\":\"\"}}],\"scatter\":[{\"fillpattern\":{\"fillmode\":\"overlay\",\"size\":10,\"solidity\":0.2},\"type\":\"scatter\"}],\"parcoords\":[{\"type\":\"parcoords\",\"line\":{\"colorbar\":{\"outlinewidth\":0,\"ticks\":\"\"}}}],\"scatterpolargl\":[{\"type\":\"scatterpolargl\",\"marker\":{\"colorbar\":{\"outlinewidth\":0,\"ticks\":\"\"}}}],\"bar\":[{\"error_x\":{\"color\":\"#2a3f5f\"},\"error_y\":{\"color\":\"#2a3f5f\"},\"marker\":{\"line\":{\"color\":\"#E5ECF6\",\"width\":0.5},\"pattern\":{\"fillmode\":\"overlay\",\"size\":10,\"solidity\":0.2}},\"type\":\"bar\"}],\"scattergeo\":[{\"type\":\"scattergeo\",\"marker\":{\"colorbar\":{\"outlinewidth\":0,\"ticks\":\"\"}}}],\"scatterpolar\":[{\"type\":\"scatterpolar\",\"marker\":{\"colorbar\":{\"outlinewidth\":0,\"ticks\":\"\"}}}],\"histogram\":[{\"marker\":{\"pattern\":{\"fillmode\":\"overlay\",\"size\":10,\"solidity\":0.2}},\"type\":\"histogram\"}],\"scattergl\":[{\"type\":\"scattergl\",\"marker\":{\"colorbar\":{\"outlinewidth\":0,\"ticks\":\"\"}}}],\"scatter3d\":[{\"type\":\"scatter3d\",\"line\":{\"colorbar\":{\"outlinewidth\":0,\"ticks\":\"\"}},\"marker\":{\"colorbar\":{\"outlinewidth\":0,\"ticks\":\"\"}}}],\"scattermapbox\":[{\"type\":\"scattermapbox\",\"marker\":{\"colorbar\":{\"outlinewidth\":0,\"ticks\":\"\"}}}],\"scatterternary\":[{\"type\":\"scatterternary\",\"marker\":{\"colorbar\":{\"outlinewidth\":0,\"ticks\":\"\"}}}],\"scattercarpet\":[{\"type\":\"scattercarpet\",\"marker\":{\"colorbar\":{\"outlinewidth\":0,\"ticks\":\"\"}}}],\"carpet\":[{\"aaxis\":{\"endlinecolor\":\"#2a3f5f\",\"gridcolor\":\"white\",\"linecolor\":\"white\",\"minorgridcolor\":\"white\",\"startlinecolor\":\"#2a3f5f\"},\"baxis\":{\"endlinecolor\":\"#2a3f5f\",\"gridcolor\":\"white\",\"linecolor\":\"white\",\"minorgridcolor\":\"white\",\"startlinecolor\":\"#2a3f5f\"},\"type\":\"carpet\"}],\"table\":[{\"cells\":{\"fill\":{\"color\":\"#EBF0F8\"},\"line\":{\"color\":\"white\"}},\"header\":{\"fill\":{\"color\":\"#C8D4E3\"},\"line\":{\"color\":\"white\"}},\"type\":\"table\"}],\"barpolar\":[{\"marker\":{\"line\":{\"color\":\"#E5ECF6\",\"width\":0.5},\"pattern\":{\"fillmode\":\"overlay\",\"size\":10,\"solidity\":0.2}},\"type\":\"barpolar\"}],\"pie\":[{\"automargin\":true,\"type\":\"pie\"}]},\"layout\":{\"autotypenumbers\":\"strict\",\"colorway\":[\"#636efa\",\"#EF553B\",\"#00cc96\",\"#ab63fa\",\"#FFA15A\",\"#19d3f3\",\"#FF6692\",\"#B6E880\",\"#FF97FF\",\"#FECB52\"],\"font\":{\"color\":\"#2a3f5f\"},\"hovermode\":\"closest\",\"hoverlabel\":{\"align\":\"left\"},\"paper_bgcolor\":\"white\",\"plot_bgcolor\":\"#E5ECF6\",\"polar\":{\"bgcolor\":\"#E5ECF6\",\"angularaxis\":{\"gridcolor\":\"white\",\"linecolor\":\"white\",\"ticks\":\"\"},\"radialaxis\":{\"gridcolor\":\"white\",\"linecolor\":\"white\",\"ticks\":\"\"}},\"ternary\":{\"bgcolor\":\"#E5ECF6\",\"aaxis\":{\"gridcolor\":\"white\",\"linecolor\":\"white\",\"ticks\":\"\"},\"baxis\":{\"gridcolor\":\"white\",\"linecolor\":\"white\",\"ticks\":\"\"},\"caxis\":{\"gridcolor\":\"white\",\"linecolor\":\"white\",\"ticks\":\"\"}},\"coloraxis\":{\"colorbar\":{\"outlinewidth\":0,\"ticks\":\"\"}},\"colorscale\":{\"sequential\":[[0.0,\"#0d0887\"],[0.1111111111111111,\"#46039f\"],[0.2222222222222222,\"#7201a8\"],[0.3333333333333333,\"#9c179e\"],[0.4444444444444444,\"#bd3786\"],[0.5555555555555556,\"#d8576b\"],[0.6666666666666666,\"#ed7953\"],[0.7777777777777778,\"#fb9f3a\"],[0.8888888888888888,\"#fdca26\"],[1.0,\"#f0f921\"]],\"sequentialminus\":[[0.0,\"#0d0887\"],[0.1111111111111111,\"#46039f\"],[0.2222222222222222,\"#7201a8\"],[0.3333333333333333,\"#9c179e\"],[0.4444444444444444,\"#bd3786\"],[0.5555555555555556,\"#d8576b\"],[0.6666666666666666,\"#ed7953\"],[0.7777777777777778,\"#fb9f3a\"],[0.8888888888888888,\"#fdca26\"],[1.0,\"#f0f921\"]],\"diverging\":[[0,\"#8e0152\"],[0.1,\"#c51b7d\"],[0.2,\"#de77ae\"],[0.3,\"#f1b6da\"],[0.4,\"#fde0ef\"],[0.5,\"#f7f7f7\"],[0.6,\"#e6f5d0\"],[0.7,\"#b8e186\"],[0.8,\"#7fbc41\"],[0.9,\"#4d9221\"],[1,\"#276419\"]]},\"xaxis\":{\"gridcolor\":\"white\",\"linecolor\":\"white\",\"ticks\":\"\",\"title\":{\"standoff\":15},\"zerolinecolor\":\"white\",\"automargin\":true,\"zerolinewidth\":2},\"yaxis\":{\"gridcolor\":\"white\",\"linecolor\":\"white\",\"ticks\":\"\",\"title\":{\"standoff\":15},\"zerolinecolor\":\"white\",\"automargin\":true,\"zerolinewidth\":2},\"scene\":{\"xaxis\":{\"backgroundcolor\":\"#E5ECF6\",\"gridcolor\":\"white\",\"linecolor\":\"white\",\"showbackground\":true,\"ticks\":\"\",\"zerolinecolor\":\"white\",\"gridwidth\":2},\"yaxis\":{\"backgroundcolor\":\"#E5ECF6\",\"gridcolor\":\"white\",\"linecolor\":\"white\",\"showbackground\":true,\"ticks\":\"\",\"zerolinecolor\":\"white\",\"gridwidth\":2},\"zaxis\":{\"backgroundcolor\":\"#E5ECF6\",\"gridcolor\":\"white\",\"linecolor\":\"white\",\"showbackground\":true,\"ticks\":\"\",\"zerolinecolor\":\"white\",\"gridwidth\":2}},\"shapedefaults\":{\"line\":{\"color\":\"#2a3f5f\"}},\"annotationdefaults\":{\"arrowcolor\":\"#2a3f5f\",\"arrowhead\":0,\"arrowwidth\":1},\"geo\":{\"bgcolor\":\"white\",\"landcolor\":\"#E5ECF6\",\"subunitcolor\":\"white\",\"showland\":true,\"showlakes\":true,\"lakecolor\":\"white\"},\"title\":{\"x\":0.05},\"mapbox\":{\"style\":\"light\"}}},\"xaxis\":{\"anchor\":\"y\",\"domain\":[0.0,1.0],\"title\":{\"text\":\"data\"}},\"yaxis\":{\"anchor\":\"x\",\"domain\":[0.0,1.0],\"title\":{\"text\":\"sigmoid\"},\"range\":[-0.5,1.5]},\"legend\":{\"tracegroupgap\":0},\"margin\":{\"t\":60},\"width\":800},                        {\"responsive\": true}                    ).then(function(){\n",
              "                            \n",
              "var gd = document.getElementById('b2cbe67d-271e-42e1-89b1-aca2f1394dff');\n",
              "var x = new MutationObserver(function (mutations, observer) {{\n",
              "        var display = window.getComputedStyle(gd).display;\n",
              "        if (!display || display === 'none') {{\n",
              "            console.log([gd, 'removed!']);\n",
              "            Plotly.purge(gd);\n",
              "            observer.disconnect();\n",
              "        }}\n",
              "}});\n",
              "\n",
              "// Listen for the removal of the full notebook cells\n",
              "var notebookContainer = gd.closest('#notebook-container');\n",
              "if (notebookContainer) {{\n",
              "    x.observe(notebookContainer, {childList: true});\n",
              "}}\n",
              "\n",
              "// Listen for the clearing of the current output cell\n",
              "var outputEl = gd.closest('.output');\n",
              "if (outputEl) {{\n",
              "    x.observe(outputEl, {childList: true});\n",
              "}}\n",
              "\n",
              "                        })                };                            </script>        </div>\n",
              "</body>\n",
              "</html>"
            ]
          },
          "metadata": {}
        }
      ]
    },
    {
      "cell_type": "code",
      "metadata": {
        "id": "bX8_Bg2OfyLi",
        "colab": {
          "base_uri": "https://localhost:8080/",
          "height": 206
        },
        "outputId": "8a9d0df9-a3fd-44bc-b049-15d87987ee81"
      },
      "source": [
        "from tensorflow.keras.activations import relu\n",
        "\n",
        "data = pd.DataFrame({'data': random_data, 'relu': relu(random_data)})\n",
        "data.head()"
      ],
      "execution_count": 10,
      "outputs": [
        {
          "output_type": "execute_result",
          "data": {
            "text/plain": [
              "       data  relu\n",
              "0 -2.830073   0.0\n",
              "1 -2.261445   0.0\n",
              "2 -2.220692   0.0\n",
              "3 -2.143522   0.0\n",
              "4 -2.131811   0.0"
            ],
            "text/html": [
              "\n",
              "  <div id=\"df-5969de20-b823-4237-aaba-497d16e96e65\" class=\"colab-df-container\">\n",
              "    <div>\n",
              "<style scoped>\n",
              "    .dataframe tbody tr th:only-of-type {\n",
              "        vertical-align: middle;\n",
              "    }\n",
              "\n",
              "    .dataframe tbody tr th {\n",
              "        vertical-align: top;\n",
              "    }\n",
              "\n",
              "    .dataframe thead th {\n",
              "        text-align: right;\n",
              "    }\n",
              "</style>\n",
              "<table border=\"1\" class=\"dataframe\">\n",
              "  <thead>\n",
              "    <tr style=\"text-align: right;\">\n",
              "      <th></th>\n",
              "      <th>data</th>\n",
              "      <th>relu</th>\n",
              "    </tr>\n",
              "  </thead>\n",
              "  <tbody>\n",
              "    <tr>\n",
              "      <th>0</th>\n",
              "      <td>-2.830073</td>\n",
              "      <td>0.0</td>\n",
              "    </tr>\n",
              "    <tr>\n",
              "      <th>1</th>\n",
              "      <td>-2.261445</td>\n",
              "      <td>0.0</td>\n",
              "    </tr>\n",
              "    <tr>\n",
              "      <th>2</th>\n",
              "      <td>-2.220692</td>\n",
              "      <td>0.0</td>\n",
              "    </tr>\n",
              "    <tr>\n",
              "      <th>3</th>\n",
              "      <td>-2.143522</td>\n",
              "      <td>0.0</td>\n",
              "    </tr>\n",
              "    <tr>\n",
              "      <th>4</th>\n",
              "      <td>-2.131811</td>\n",
              "      <td>0.0</td>\n",
              "    </tr>\n",
              "  </tbody>\n",
              "</table>\n",
              "</div>\n",
              "    <div class=\"colab-df-buttons\">\n",
              "\n",
              "  <div class=\"colab-df-container\">\n",
              "    <button class=\"colab-df-convert\" onclick=\"convertToInteractive('df-5969de20-b823-4237-aaba-497d16e96e65')\"\n",
              "            title=\"Convert this dataframe to an interactive table.\"\n",
              "            style=\"display:none;\">\n",
              "\n",
              "  <svg xmlns=\"http://www.w3.org/2000/svg\" height=\"24px\" viewBox=\"0 -960 960 960\">\n",
              "    <path d=\"M120-120v-720h720v720H120Zm60-500h600v-160H180v160Zm220 220h160v-160H400v160Zm0 220h160v-160H400v160ZM180-400h160v-160H180v160Zm440 0h160v-160H620v160ZM180-180h160v-160H180v160Zm440 0h160v-160H620v160Z\"/>\n",
              "  </svg>\n",
              "    </button>\n",
              "\n",
              "  <style>\n",
              "    .colab-df-container {\n",
              "      display:flex;\n",
              "      gap: 12px;\n",
              "    }\n",
              "\n",
              "    .colab-df-convert {\n",
              "      background-color: #E8F0FE;\n",
              "      border: none;\n",
              "      border-radius: 50%;\n",
              "      cursor: pointer;\n",
              "      display: none;\n",
              "      fill: #1967D2;\n",
              "      height: 32px;\n",
              "      padding: 0 0 0 0;\n",
              "      width: 32px;\n",
              "    }\n",
              "\n",
              "    .colab-df-convert:hover {\n",
              "      background-color: #E2EBFA;\n",
              "      box-shadow: 0px 1px 2px rgba(60, 64, 67, 0.3), 0px 1px 3px 1px rgba(60, 64, 67, 0.15);\n",
              "      fill: #174EA6;\n",
              "    }\n",
              "\n",
              "    .colab-df-buttons div {\n",
              "      margin-bottom: 4px;\n",
              "    }\n",
              "\n",
              "    [theme=dark] .colab-df-convert {\n",
              "      background-color: #3B4455;\n",
              "      fill: #D2E3FC;\n",
              "    }\n",
              "\n",
              "    [theme=dark] .colab-df-convert:hover {\n",
              "      background-color: #434B5C;\n",
              "      box-shadow: 0px 1px 3px 1px rgba(0, 0, 0, 0.15);\n",
              "      filter: drop-shadow(0px 1px 2px rgba(0, 0, 0, 0.3));\n",
              "      fill: #FFFFFF;\n",
              "    }\n",
              "  </style>\n",
              "\n",
              "    <script>\n",
              "      const buttonEl =\n",
              "        document.querySelector('#df-5969de20-b823-4237-aaba-497d16e96e65 button.colab-df-convert');\n",
              "      buttonEl.style.display =\n",
              "        google.colab.kernel.accessAllowed ? 'block' : 'none';\n",
              "\n",
              "      async function convertToInteractive(key) {\n",
              "        const element = document.querySelector('#df-5969de20-b823-4237-aaba-497d16e96e65');\n",
              "        const dataTable =\n",
              "          await google.colab.kernel.invokeFunction('convertToInteractive',\n",
              "                                                    [key], {});\n",
              "        if (!dataTable) return;\n",
              "\n",
              "        const docLinkHtml = 'Like what you see? Visit the ' +\n",
              "          '<a target=\"_blank\" href=https://colab.research.google.com/notebooks/data_table.ipynb>data table notebook</a>'\n",
              "          + ' to learn more about interactive tables.';\n",
              "        element.innerHTML = '';\n",
              "        dataTable['output_type'] = 'display_data';\n",
              "        await google.colab.output.renderOutput(dataTable, element);\n",
              "        const docLink = document.createElement('div');\n",
              "        docLink.innerHTML = docLinkHtml;\n",
              "        element.appendChild(docLink);\n",
              "      }\n",
              "    </script>\n",
              "  </div>\n",
              "\n",
              "\n",
              "<div id=\"df-53d8772d-6d69-466d-82af-d0376b88f8c3\">\n",
              "  <button class=\"colab-df-quickchart\" onclick=\"quickchart('df-53d8772d-6d69-466d-82af-d0376b88f8c3')\"\n",
              "            title=\"Suggest charts\"\n",
              "            style=\"display:none;\">\n",
              "\n",
              "<svg xmlns=\"http://www.w3.org/2000/svg\" height=\"24px\"viewBox=\"0 0 24 24\"\n",
              "     width=\"24px\">\n",
              "    <g>\n",
              "        <path d=\"M19 3H5c-1.1 0-2 .9-2 2v14c0 1.1.9 2 2 2h14c1.1 0 2-.9 2-2V5c0-1.1-.9-2-2-2zM9 17H7v-7h2v7zm4 0h-2V7h2v10zm4 0h-2v-4h2v4z\"/>\n",
              "    </g>\n",
              "</svg>\n",
              "  </button>\n",
              "\n",
              "<style>\n",
              "  .colab-df-quickchart {\n",
              "      --bg-color: #E8F0FE;\n",
              "      --fill-color: #1967D2;\n",
              "      --hover-bg-color: #E2EBFA;\n",
              "      --hover-fill-color: #174EA6;\n",
              "      --disabled-fill-color: #AAA;\n",
              "      --disabled-bg-color: #DDD;\n",
              "  }\n",
              "\n",
              "  [theme=dark] .colab-df-quickchart {\n",
              "      --bg-color: #3B4455;\n",
              "      --fill-color: #D2E3FC;\n",
              "      --hover-bg-color: #434B5C;\n",
              "      --hover-fill-color: #FFFFFF;\n",
              "      --disabled-bg-color: #3B4455;\n",
              "      --disabled-fill-color: #666;\n",
              "  }\n",
              "\n",
              "  .colab-df-quickchart {\n",
              "    background-color: var(--bg-color);\n",
              "    border: none;\n",
              "    border-radius: 50%;\n",
              "    cursor: pointer;\n",
              "    display: none;\n",
              "    fill: var(--fill-color);\n",
              "    height: 32px;\n",
              "    padding: 0;\n",
              "    width: 32px;\n",
              "  }\n",
              "\n",
              "  .colab-df-quickchart:hover {\n",
              "    background-color: var(--hover-bg-color);\n",
              "    box-shadow: 0 1px 2px rgba(60, 64, 67, 0.3), 0 1px 3px 1px rgba(60, 64, 67, 0.15);\n",
              "    fill: var(--button-hover-fill-color);\n",
              "  }\n",
              "\n",
              "  .colab-df-quickchart-complete:disabled,\n",
              "  .colab-df-quickchart-complete:disabled:hover {\n",
              "    background-color: var(--disabled-bg-color);\n",
              "    fill: var(--disabled-fill-color);\n",
              "    box-shadow: none;\n",
              "  }\n",
              "\n",
              "  .colab-df-spinner {\n",
              "    border: 2px solid var(--fill-color);\n",
              "    border-color: transparent;\n",
              "    border-bottom-color: var(--fill-color);\n",
              "    animation:\n",
              "      spin 1s steps(1) infinite;\n",
              "  }\n",
              "\n",
              "  @keyframes spin {\n",
              "    0% {\n",
              "      border-color: transparent;\n",
              "      border-bottom-color: var(--fill-color);\n",
              "      border-left-color: var(--fill-color);\n",
              "    }\n",
              "    20% {\n",
              "      border-color: transparent;\n",
              "      border-left-color: var(--fill-color);\n",
              "      border-top-color: var(--fill-color);\n",
              "    }\n",
              "    30% {\n",
              "      border-color: transparent;\n",
              "      border-left-color: var(--fill-color);\n",
              "      border-top-color: var(--fill-color);\n",
              "      border-right-color: var(--fill-color);\n",
              "    }\n",
              "    40% {\n",
              "      border-color: transparent;\n",
              "      border-right-color: var(--fill-color);\n",
              "      border-top-color: var(--fill-color);\n",
              "    }\n",
              "    60% {\n",
              "      border-color: transparent;\n",
              "      border-right-color: var(--fill-color);\n",
              "    }\n",
              "    80% {\n",
              "      border-color: transparent;\n",
              "      border-right-color: var(--fill-color);\n",
              "      border-bottom-color: var(--fill-color);\n",
              "    }\n",
              "    90% {\n",
              "      border-color: transparent;\n",
              "      border-bottom-color: var(--fill-color);\n",
              "    }\n",
              "  }\n",
              "</style>\n",
              "\n",
              "  <script>\n",
              "    async function quickchart(key) {\n",
              "      const quickchartButtonEl =\n",
              "        document.querySelector('#' + key + ' button');\n",
              "      quickchartButtonEl.disabled = true;  // To prevent multiple clicks.\n",
              "      quickchartButtonEl.classList.add('colab-df-spinner');\n",
              "      try {\n",
              "        const charts = await google.colab.kernel.invokeFunction(\n",
              "            'suggestCharts', [key], {});\n",
              "      } catch (error) {\n",
              "        console.error('Error during call to suggestCharts:', error);\n",
              "      }\n",
              "      quickchartButtonEl.classList.remove('colab-df-spinner');\n",
              "      quickchartButtonEl.classList.add('colab-df-quickchart-complete');\n",
              "    }\n",
              "    (() => {\n",
              "      let quickchartButtonEl =\n",
              "        document.querySelector('#df-53d8772d-6d69-466d-82af-d0376b88f8c3 button');\n",
              "      quickchartButtonEl.style.display =\n",
              "        google.colab.kernel.accessAllowed ? 'block' : 'none';\n",
              "    })();\n",
              "  </script>\n",
              "</div>\n",
              "    </div>\n",
              "  </div>\n"
            ],
            "application/vnd.google.colaboratory.intrinsic+json": {
              "type": "dataframe",
              "variable_name": "data",
              "summary": "{\n  \"name\": \"data\",\n  \"rows\": 200,\n  \"fields\": [\n    {\n      \"column\": \"data\",\n      \"properties\": {\n        \"dtype\": \"number\",\n        \"std\": 1.031305081106959,\n        \"min\": -2.830073285745182,\n        \"max\": 2.882923564054132,\n        \"num_unique_values\": 200,\n        \"samples\": [\n          -0.2496561896339852,\n          -1.4486573487763683,\n          -0.9812293669192735\n        ],\n        \"semantic_type\": \"\",\n        \"description\": \"\"\n      }\n    },\n    {\n      \"column\": \"relu\",\n      \"properties\": {\n        \"dtype\": \"number\",\n        \"std\": 0.6275972067878188,\n        \"min\": 0.0,\n        \"max\": 2.882923564054132,\n        \"num_unique_values\": 91,\n        \"samples\": [\n          0.6811436416950186,\n          0.34693511778026936,\n          0.9531653478583303\n        ],\n        \"semantic_type\": \"\",\n        \"description\": \"\"\n      }\n    }\n  ]\n}"
            }
          },
          "metadata": {},
          "execution_count": 10
        }
      ]
    },
    {
      "cell_type": "code",
      "metadata": {
        "id": "vXV-1MECgWyz",
        "colab": {
          "base_uri": "https://localhost:8080/",
          "height": 542
        },
        "outputId": "46f50cc6-3952-4397-bc59-5715391a9345"
      },
      "source": [
        "px.line(data, x='data', y='relu', width=800, range_y=[-0.5, 1.5])"
      ],
      "execution_count": 11,
      "outputs": [
        {
          "output_type": "display_data",
          "data": {
            "text/html": [
              "<html>\n",
              "<head><meta charset=\"utf-8\" /></head>\n",
              "<body>\n",
              "    <div>            <script src=\"https://cdnjs.cloudflare.com/ajax/libs/mathjax/2.7.5/MathJax.js?config=TeX-AMS-MML_SVG\"></script><script type=\"text/javascript\">if (window.MathJax && window.MathJax.Hub && window.MathJax.Hub.Config) {window.MathJax.Hub.Config({SVG: {font: \"STIX-Web\"}});}</script>                <script type=\"text/javascript\">window.PlotlyConfig = {MathJaxConfig: 'local'};</script>\n",
              "        <script charset=\"utf-8\" src=\"https://cdn.plot.ly/plotly-2.24.1.min.js\"></script>                <div id=\"e534408f-7e6a-4a5a-85a9-71b03adcc244\" class=\"plotly-graph-div\" style=\"height:525px; width:800px;\"></div>            <script type=\"text/javascript\">                                    window.PLOTLYENV=window.PLOTLYENV || {};                                    if (document.getElementById(\"e534408f-7e6a-4a5a-85a9-71b03adcc244\")) {                    Plotly.newPlot(                        \"e534408f-7e6a-4a5a-85a9-71b03adcc244\",                        [{\"hovertemplate\":\"data=%{x}\\u003cbr\\u003erelu=%{y}\\u003cextra\\u003e\\u003c\\u002fextra\\u003e\",\"legendgroup\":\"\",\"line\":{\"color\":\"#636efa\",\"dash\":\"solid\"},\"marker\":{\"symbol\":\"circle\"},\"mode\":\"lines\",\"name\":\"\",\"orientation\":\"v\",\"showlegend\":false,\"x\":[-2.830073285745182,-2.261445433645979,-2.220691527610627,-2.1435217386787806,-2.131811349544527,-2.0076893087238283,-1.9787707630012554,-1.8711718599588136,-1.6908155812803758,-1.6790333273162397,-1.601608269858491,-1.587880964553168,-1.5395789350788682,-1.5142575152683806,-1.4985209267165724,-1.4486573487763683,-1.4148576032031688,-1.3819601244201793,-1.3762683993952955,-1.3542253724272526,-1.349770985237781,-1.2888366128124937,-1.2399841253740715,-1.2334672762942072,-1.2025362576187595,-1.1596570261231702,-1.1282649918390961,-1.1071869230781106,-1.046596209864421,-0.9977651307170426,-0.9812293669192735,-0.9810457308088318,-0.945744716321827,-0.8945199609279343,-0.8694878498173025,-0.8312481707006051,-0.803384542556702,-0.7715023461789474,-0.7634424806031833,-0.7624610499272936,-0.7382954553433014,-0.708030807035612,-0.7079603521021349,-0.6972410437791838,-0.6911007929452622,-0.6580577899595283,-0.6436097544736573,-0.6351906546565081,-0.6321630873390949,-0.6185727057730787,-0.607644792161902,-0.5928161779254603,-0.5815556251234661,-0.5637870470076582,-0.5632609354019615,-0.5524011835954572,-0.5486011874435412,-0.5213324189678387,-0.5107172845515364,-0.5036268856255307,-0.4964002181456416,-0.4842959406098623,-0.47777583538472324,-0.4741587938632549,-0.45578070993633024,-0.45281031880722394,-0.45104329986962155,-0.4469219496194569,-0.4448995257052334,-0.4438644024931553,-0.4100659791964407,-0.387965744972894,-0.37847108633459725,-0.3770225652724478,-0.368864975068068,-0.3676991708843384,-0.35818336269447143,-0.35335065201510235,-0.3499616322403122,-0.3414099741475006,-0.3404521217412876,-0.34012041380672614,-0.33855598369485734,-0.33506294991162494,-0.3090452309090729,-0.29227984485415226,-0.2909423635036963,-0.2867435337805795,-0.28307823699047824,-0.2812973169604135,-0.2724111130335958,-0.2611562450621375,-0.26064448271574053,-0.2555999061834231,-0.25147877022745463,-0.2496561896339852,-0.23242745569171966,-0.21283777961363426,-0.17376654890890053,-0.1636546481990109,-0.15401018651158604,-0.12954954992438344,-0.12440077674534383,-0.12111498229840996,-0.11287805715373325,-0.08820307768654281,-0.06540838753813624,-0.03504270123369992,-0.02618584331776621,-0.015079112659735055,0.036515109511726415,0.06207769315316156,0.0793127096700642,0.10557645100020627,0.16620449067152512,0.17148066187781327,0.17333458295784376,0.18565803158370764,0.200302032259772,0.20247954267772605,0.22247951198941407,0.22664000483365568,0.25325215767709414,0.2554350186937871,0.2675943256598685,0.269102383123708,0.28548469277884764,0.31071892545157587,0.33648402596916693,0.3390785808162357,0.34431891696860656,0.34693511778026936,0.35571653239970874,0.3898952695629419,0.3959342637334536,0.3964553032513761,0.42833847672181813,0.4527047379842921,0.49745958416363767,0.499311676332752,0.5161699732629625,0.5528589780866089,0.5598675611346705,0.5686778946340876,0.5806033363587974,0.6420951575402668,0.6548738420999153,0.6637795741279585,0.6783664315186261,0.6811436416950186,0.7204813890411333,0.7230038884838699,0.7328886016259153,0.769548244445792,0.7726020213800058,0.7792007462459867,0.8025824301670816,0.8172154181246223,0.8266206980573025,0.8360258530632049,0.852242202647699,0.8806518093291886,0.8824478868180873,0.9070962008935363,0.9531653478583303,0.9540187877483921,0.9577876579654324,0.9803570308903252,0.9989979161416714,1.000018730073259,1.0583183651525259,1.061646984033626,1.0950453498392283,1.1109595207064344,1.137991062111512,1.2016142189001942,1.2896531742208237,1.2991846733564119,1.3156768171877344,1.3675932777641764,1.3782091894199862,1.3849829248473209,1.3886176565973734,1.4509615421602222,1.4843218459250773,1.5085892072312825,1.5969390784507735,1.6831681082675918,1.7231499262716647,1.7651147766661053,1.8111531144357407,1.9663681623398783,1.9956648566149924,2.0346375291429815,2.0357373166104455,2.0670913813861143,2.469252032530592,2.6304577161013865,2.631877153919458,2.882923564054132],\"xaxis\":\"x\",\"y\":[0.0,0.0,0.0,0.0,0.0,0.0,0.0,0.0,0.0,0.0,0.0,0.0,0.0,0.0,0.0,0.0,0.0,0.0,0.0,0.0,0.0,0.0,0.0,0.0,0.0,0.0,0.0,0.0,0.0,0.0,0.0,0.0,0.0,0.0,0.0,0.0,0.0,0.0,0.0,0.0,0.0,0.0,0.0,0.0,0.0,0.0,0.0,0.0,0.0,0.0,0.0,0.0,0.0,0.0,0.0,0.0,0.0,0.0,0.0,0.0,0.0,0.0,0.0,0.0,0.0,0.0,0.0,0.0,0.0,0.0,0.0,0.0,0.0,0.0,0.0,0.0,0.0,0.0,0.0,0.0,0.0,0.0,0.0,0.0,0.0,0.0,0.0,0.0,0.0,0.0,0.0,0.0,0.0,0.0,0.0,0.0,0.0,0.0,0.0,0.0,0.0,0.0,0.0,0.0,0.0,0.0,0.0,0.0,0.0,0.0,0.036515109511726415,0.06207769315316156,0.0793127096700642,0.10557645100020627,0.16620449067152512,0.17148066187781327,0.17333458295784376,0.18565803158370764,0.200302032259772,0.20247954267772605,0.22247951198941407,0.22664000483365568,0.25325215767709414,0.2554350186937871,0.2675943256598685,0.269102383123708,0.28548469277884764,0.31071892545157587,0.33648402596916693,0.3390785808162357,0.34431891696860656,0.34693511778026936,0.35571653239970874,0.3898952695629419,0.3959342637334536,0.3964553032513761,0.42833847672181813,0.4527047379842921,0.49745958416363767,0.499311676332752,0.5161699732629625,0.5528589780866089,0.5598675611346705,0.5686778946340876,0.5806033363587974,0.6420951575402668,0.6548738420999153,0.6637795741279585,0.6783664315186261,0.6811436416950186,0.7204813890411333,0.7230038884838699,0.7328886016259153,0.769548244445792,0.7726020213800058,0.7792007462459867,0.8025824301670816,0.8172154181246223,0.8266206980573025,0.8360258530632049,0.852242202647699,0.8806518093291886,0.8824478868180873,0.9070962008935363,0.9531653478583303,0.9540187877483921,0.9577876579654324,0.9803570308903252,0.9989979161416714,1.000018730073259,1.0583183651525259,1.061646984033626,1.0950453498392283,1.1109595207064344,1.137991062111512,1.2016142189001942,1.2896531742208237,1.2991846733564119,1.3156768171877344,1.3675932777641764,1.3782091894199862,1.3849829248473209,1.3886176565973734,1.4509615421602222,1.4843218459250773,1.5085892072312825,1.5969390784507735,1.6831681082675918,1.7231499262716647,1.7651147766661053,1.8111531144357407,1.9663681623398783,1.9956648566149924,2.0346375291429815,2.0357373166104455,2.0670913813861143,2.469252032530592,2.6304577161013865,2.631877153919458,2.882923564054132],\"yaxis\":\"y\",\"type\":\"scatter\"}],                        {\"template\":{\"data\":{\"histogram2dcontour\":[{\"type\":\"histogram2dcontour\",\"colorbar\":{\"outlinewidth\":0,\"ticks\":\"\"},\"colorscale\":[[0.0,\"#0d0887\"],[0.1111111111111111,\"#46039f\"],[0.2222222222222222,\"#7201a8\"],[0.3333333333333333,\"#9c179e\"],[0.4444444444444444,\"#bd3786\"],[0.5555555555555556,\"#d8576b\"],[0.6666666666666666,\"#ed7953\"],[0.7777777777777778,\"#fb9f3a\"],[0.8888888888888888,\"#fdca26\"],[1.0,\"#f0f921\"]]}],\"choropleth\":[{\"type\":\"choropleth\",\"colorbar\":{\"outlinewidth\":0,\"ticks\":\"\"}}],\"histogram2d\":[{\"type\":\"histogram2d\",\"colorbar\":{\"outlinewidth\":0,\"ticks\":\"\"},\"colorscale\":[[0.0,\"#0d0887\"],[0.1111111111111111,\"#46039f\"],[0.2222222222222222,\"#7201a8\"],[0.3333333333333333,\"#9c179e\"],[0.4444444444444444,\"#bd3786\"],[0.5555555555555556,\"#d8576b\"],[0.6666666666666666,\"#ed7953\"],[0.7777777777777778,\"#fb9f3a\"],[0.8888888888888888,\"#fdca26\"],[1.0,\"#f0f921\"]]}],\"heatmap\":[{\"type\":\"heatmap\",\"colorbar\":{\"outlinewidth\":0,\"ticks\":\"\"},\"colorscale\":[[0.0,\"#0d0887\"],[0.1111111111111111,\"#46039f\"],[0.2222222222222222,\"#7201a8\"],[0.3333333333333333,\"#9c179e\"],[0.4444444444444444,\"#bd3786\"],[0.5555555555555556,\"#d8576b\"],[0.6666666666666666,\"#ed7953\"],[0.7777777777777778,\"#fb9f3a\"],[0.8888888888888888,\"#fdca26\"],[1.0,\"#f0f921\"]]}],\"heatmapgl\":[{\"type\":\"heatmapgl\",\"colorbar\":{\"outlinewidth\":0,\"ticks\":\"\"},\"colorscale\":[[0.0,\"#0d0887\"],[0.1111111111111111,\"#46039f\"],[0.2222222222222222,\"#7201a8\"],[0.3333333333333333,\"#9c179e\"],[0.4444444444444444,\"#bd3786\"],[0.5555555555555556,\"#d8576b\"],[0.6666666666666666,\"#ed7953\"],[0.7777777777777778,\"#fb9f3a\"],[0.8888888888888888,\"#fdca26\"],[1.0,\"#f0f921\"]]}],\"contourcarpet\":[{\"type\":\"contourcarpet\",\"colorbar\":{\"outlinewidth\":0,\"ticks\":\"\"}}],\"contour\":[{\"type\":\"contour\",\"colorbar\":{\"outlinewidth\":0,\"ticks\":\"\"},\"colorscale\":[[0.0,\"#0d0887\"],[0.1111111111111111,\"#46039f\"],[0.2222222222222222,\"#7201a8\"],[0.3333333333333333,\"#9c179e\"],[0.4444444444444444,\"#bd3786\"],[0.5555555555555556,\"#d8576b\"],[0.6666666666666666,\"#ed7953\"],[0.7777777777777778,\"#fb9f3a\"],[0.8888888888888888,\"#fdca26\"],[1.0,\"#f0f921\"]]}],\"surface\":[{\"type\":\"surface\",\"colorbar\":{\"outlinewidth\":0,\"ticks\":\"\"},\"colorscale\":[[0.0,\"#0d0887\"],[0.1111111111111111,\"#46039f\"],[0.2222222222222222,\"#7201a8\"],[0.3333333333333333,\"#9c179e\"],[0.4444444444444444,\"#bd3786\"],[0.5555555555555556,\"#d8576b\"],[0.6666666666666666,\"#ed7953\"],[0.7777777777777778,\"#fb9f3a\"],[0.8888888888888888,\"#fdca26\"],[1.0,\"#f0f921\"]]}],\"mesh3d\":[{\"type\":\"mesh3d\",\"colorbar\":{\"outlinewidth\":0,\"ticks\":\"\"}}],\"scatter\":[{\"fillpattern\":{\"fillmode\":\"overlay\",\"size\":10,\"solidity\":0.2},\"type\":\"scatter\"}],\"parcoords\":[{\"type\":\"parcoords\",\"line\":{\"colorbar\":{\"outlinewidth\":0,\"ticks\":\"\"}}}],\"scatterpolargl\":[{\"type\":\"scatterpolargl\",\"marker\":{\"colorbar\":{\"outlinewidth\":0,\"ticks\":\"\"}}}],\"bar\":[{\"error_x\":{\"color\":\"#2a3f5f\"},\"error_y\":{\"color\":\"#2a3f5f\"},\"marker\":{\"line\":{\"color\":\"#E5ECF6\",\"width\":0.5},\"pattern\":{\"fillmode\":\"overlay\",\"size\":10,\"solidity\":0.2}},\"type\":\"bar\"}],\"scattergeo\":[{\"type\":\"scattergeo\",\"marker\":{\"colorbar\":{\"outlinewidth\":0,\"ticks\":\"\"}}}],\"scatterpolar\":[{\"type\":\"scatterpolar\",\"marker\":{\"colorbar\":{\"outlinewidth\":0,\"ticks\":\"\"}}}],\"histogram\":[{\"marker\":{\"pattern\":{\"fillmode\":\"overlay\",\"size\":10,\"solidity\":0.2}},\"type\":\"histogram\"}],\"scattergl\":[{\"type\":\"scattergl\",\"marker\":{\"colorbar\":{\"outlinewidth\":0,\"ticks\":\"\"}}}],\"scatter3d\":[{\"type\":\"scatter3d\",\"line\":{\"colorbar\":{\"outlinewidth\":0,\"ticks\":\"\"}},\"marker\":{\"colorbar\":{\"outlinewidth\":0,\"ticks\":\"\"}}}],\"scattermapbox\":[{\"type\":\"scattermapbox\",\"marker\":{\"colorbar\":{\"outlinewidth\":0,\"ticks\":\"\"}}}],\"scatterternary\":[{\"type\":\"scatterternary\",\"marker\":{\"colorbar\":{\"outlinewidth\":0,\"ticks\":\"\"}}}],\"scattercarpet\":[{\"type\":\"scattercarpet\",\"marker\":{\"colorbar\":{\"outlinewidth\":0,\"ticks\":\"\"}}}],\"carpet\":[{\"aaxis\":{\"endlinecolor\":\"#2a3f5f\",\"gridcolor\":\"white\",\"linecolor\":\"white\",\"minorgridcolor\":\"white\",\"startlinecolor\":\"#2a3f5f\"},\"baxis\":{\"endlinecolor\":\"#2a3f5f\",\"gridcolor\":\"white\",\"linecolor\":\"white\",\"minorgridcolor\":\"white\",\"startlinecolor\":\"#2a3f5f\"},\"type\":\"carpet\"}],\"table\":[{\"cells\":{\"fill\":{\"color\":\"#EBF0F8\"},\"line\":{\"color\":\"white\"}},\"header\":{\"fill\":{\"color\":\"#C8D4E3\"},\"line\":{\"color\":\"white\"}},\"type\":\"table\"}],\"barpolar\":[{\"marker\":{\"line\":{\"color\":\"#E5ECF6\",\"width\":0.5},\"pattern\":{\"fillmode\":\"overlay\",\"size\":10,\"solidity\":0.2}},\"type\":\"barpolar\"}],\"pie\":[{\"automargin\":true,\"type\":\"pie\"}]},\"layout\":{\"autotypenumbers\":\"strict\",\"colorway\":[\"#636efa\",\"#EF553B\",\"#00cc96\",\"#ab63fa\",\"#FFA15A\",\"#19d3f3\",\"#FF6692\",\"#B6E880\",\"#FF97FF\",\"#FECB52\"],\"font\":{\"color\":\"#2a3f5f\"},\"hovermode\":\"closest\",\"hoverlabel\":{\"align\":\"left\"},\"paper_bgcolor\":\"white\",\"plot_bgcolor\":\"#E5ECF6\",\"polar\":{\"bgcolor\":\"#E5ECF6\",\"angularaxis\":{\"gridcolor\":\"white\",\"linecolor\":\"white\",\"ticks\":\"\"},\"radialaxis\":{\"gridcolor\":\"white\",\"linecolor\":\"white\",\"ticks\":\"\"}},\"ternary\":{\"bgcolor\":\"#E5ECF6\",\"aaxis\":{\"gridcolor\":\"white\",\"linecolor\":\"white\",\"ticks\":\"\"},\"baxis\":{\"gridcolor\":\"white\",\"linecolor\":\"white\",\"ticks\":\"\"},\"caxis\":{\"gridcolor\":\"white\",\"linecolor\":\"white\",\"ticks\":\"\"}},\"coloraxis\":{\"colorbar\":{\"outlinewidth\":0,\"ticks\":\"\"}},\"colorscale\":{\"sequential\":[[0.0,\"#0d0887\"],[0.1111111111111111,\"#46039f\"],[0.2222222222222222,\"#7201a8\"],[0.3333333333333333,\"#9c179e\"],[0.4444444444444444,\"#bd3786\"],[0.5555555555555556,\"#d8576b\"],[0.6666666666666666,\"#ed7953\"],[0.7777777777777778,\"#fb9f3a\"],[0.8888888888888888,\"#fdca26\"],[1.0,\"#f0f921\"]],\"sequentialminus\":[[0.0,\"#0d0887\"],[0.1111111111111111,\"#46039f\"],[0.2222222222222222,\"#7201a8\"],[0.3333333333333333,\"#9c179e\"],[0.4444444444444444,\"#bd3786\"],[0.5555555555555556,\"#d8576b\"],[0.6666666666666666,\"#ed7953\"],[0.7777777777777778,\"#fb9f3a\"],[0.8888888888888888,\"#fdca26\"],[1.0,\"#f0f921\"]],\"diverging\":[[0,\"#8e0152\"],[0.1,\"#c51b7d\"],[0.2,\"#de77ae\"],[0.3,\"#f1b6da\"],[0.4,\"#fde0ef\"],[0.5,\"#f7f7f7\"],[0.6,\"#e6f5d0\"],[0.7,\"#b8e186\"],[0.8,\"#7fbc41\"],[0.9,\"#4d9221\"],[1,\"#276419\"]]},\"xaxis\":{\"gridcolor\":\"white\",\"linecolor\":\"white\",\"ticks\":\"\",\"title\":{\"standoff\":15},\"zerolinecolor\":\"white\",\"automargin\":true,\"zerolinewidth\":2},\"yaxis\":{\"gridcolor\":\"white\",\"linecolor\":\"white\",\"ticks\":\"\",\"title\":{\"standoff\":15},\"zerolinecolor\":\"white\",\"automargin\":true,\"zerolinewidth\":2},\"scene\":{\"xaxis\":{\"backgroundcolor\":\"#E5ECF6\",\"gridcolor\":\"white\",\"linecolor\":\"white\",\"showbackground\":true,\"ticks\":\"\",\"zerolinecolor\":\"white\",\"gridwidth\":2},\"yaxis\":{\"backgroundcolor\":\"#E5ECF6\",\"gridcolor\":\"white\",\"linecolor\":\"white\",\"showbackground\":true,\"ticks\":\"\",\"zerolinecolor\":\"white\",\"gridwidth\":2},\"zaxis\":{\"backgroundcolor\":\"#E5ECF6\",\"gridcolor\":\"white\",\"linecolor\":\"white\",\"showbackground\":true,\"ticks\":\"\",\"zerolinecolor\":\"white\",\"gridwidth\":2}},\"shapedefaults\":{\"line\":{\"color\":\"#2a3f5f\"}},\"annotationdefaults\":{\"arrowcolor\":\"#2a3f5f\",\"arrowhead\":0,\"arrowwidth\":1},\"geo\":{\"bgcolor\":\"white\",\"landcolor\":\"#E5ECF6\",\"subunitcolor\":\"white\",\"showland\":true,\"showlakes\":true,\"lakecolor\":\"white\"},\"title\":{\"x\":0.05},\"mapbox\":{\"style\":\"light\"}}},\"xaxis\":{\"anchor\":\"y\",\"domain\":[0.0,1.0],\"title\":{\"text\":\"data\"}},\"yaxis\":{\"anchor\":\"x\",\"domain\":[0.0,1.0],\"title\":{\"text\":\"relu\"},\"range\":[-0.5,1.5]},\"legend\":{\"tracegroupgap\":0},\"margin\":{\"t\":60},\"width\":800},                        {\"responsive\": true}                    ).then(function(){\n",
              "                            \n",
              "var gd = document.getElementById('e534408f-7e6a-4a5a-85a9-71b03adcc244');\n",
              "var x = new MutationObserver(function (mutations, observer) {{\n",
              "        var display = window.getComputedStyle(gd).display;\n",
              "        if (!display || display === 'none') {{\n",
              "            console.log([gd, 'removed!']);\n",
              "            Plotly.purge(gd);\n",
              "            observer.disconnect();\n",
              "        }}\n",
              "}});\n",
              "\n",
              "// Listen for the removal of the full notebook cells\n",
              "var notebookContainer = gd.closest('#notebook-container');\n",
              "if (notebookContainer) {{\n",
              "    x.observe(notebookContainer, {childList: true});\n",
              "}}\n",
              "\n",
              "// Listen for the clearing of the current output cell\n",
              "var outputEl = gd.closest('.output');\n",
              "if (outputEl) {{\n",
              "    x.observe(outputEl, {childList: true});\n",
              "}}\n",
              "\n",
              "                        })                };                            </script>        </div>\n",
              "</body>\n",
              "</html>"
            ]
          },
          "metadata": {}
        }
      ]
    },
    {
      "cell_type": "code",
      "metadata": {
        "id": "5AF9VX1OgZNg",
        "colab": {
          "base_uri": "https://localhost:8080/",
          "height": 206
        },
        "outputId": "4b475512-db4a-44e1-b7d4-0f2770bc98a8"
      },
      "source": [
        "from tensorflow.keras.activations import tanh\n",
        "\n",
        "data = pd.DataFrame({'data': random_data, 'tanh': tanh(random_data)})\n",
        "data.head()"
      ],
      "execution_count": 12,
      "outputs": [
        {
          "output_type": "execute_result",
          "data": {
            "text/plain": [
              "       data      tanh\n",
              "0 -2.830073 -0.993060\n",
              "1 -2.261445 -0.978518\n",
              "2 -2.220692 -0.976715\n",
              "3 -2.143522 -0.972882\n",
              "4 -2.131811 -0.972248"
            ],
            "text/html": [
              "\n",
              "  <div id=\"df-cbdd3a01-b870-4c67-b6c3-f0e63db88133\" class=\"colab-df-container\">\n",
              "    <div>\n",
              "<style scoped>\n",
              "    .dataframe tbody tr th:only-of-type {\n",
              "        vertical-align: middle;\n",
              "    }\n",
              "\n",
              "    .dataframe tbody tr th {\n",
              "        vertical-align: top;\n",
              "    }\n",
              "\n",
              "    .dataframe thead th {\n",
              "        text-align: right;\n",
              "    }\n",
              "</style>\n",
              "<table border=\"1\" class=\"dataframe\">\n",
              "  <thead>\n",
              "    <tr style=\"text-align: right;\">\n",
              "      <th></th>\n",
              "      <th>data</th>\n",
              "      <th>tanh</th>\n",
              "    </tr>\n",
              "  </thead>\n",
              "  <tbody>\n",
              "    <tr>\n",
              "      <th>0</th>\n",
              "      <td>-2.830073</td>\n",
              "      <td>-0.993060</td>\n",
              "    </tr>\n",
              "    <tr>\n",
              "      <th>1</th>\n",
              "      <td>-2.261445</td>\n",
              "      <td>-0.978518</td>\n",
              "    </tr>\n",
              "    <tr>\n",
              "      <th>2</th>\n",
              "      <td>-2.220692</td>\n",
              "      <td>-0.976715</td>\n",
              "    </tr>\n",
              "    <tr>\n",
              "      <th>3</th>\n",
              "      <td>-2.143522</td>\n",
              "      <td>-0.972882</td>\n",
              "    </tr>\n",
              "    <tr>\n",
              "      <th>4</th>\n",
              "      <td>-2.131811</td>\n",
              "      <td>-0.972248</td>\n",
              "    </tr>\n",
              "  </tbody>\n",
              "</table>\n",
              "</div>\n",
              "    <div class=\"colab-df-buttons\">\n",
              "\n",
              "  <div class=\"colab-df-container\">\n",
              "    <button class=\"colab-df-convert\" onclick=\"convertToInteractive('df-cbdd3a01-b870-4c67-b6c3-f0e63db88133')\"\n",
              "            title=\"Convert this dataframe to an interactive table.\"\n",
              "            style=\"display:none;\">\n",
              "\n",
              "  <svg xmlns=\"http://www.w3.org/2000/svg\" height=\"24px\" viewBox=\"0 -960 960 960\">\n",
              "    <path d=\"M120-120v-720h720v720H120Zm60-500h600v-160H180v160Zm220 220h160v-160H400v160Zm0 220h160v-160H400v160ZM180-400h160v-160H180v160Zm440 0h160v-160H620v160ZM180-180h160v-160H180v160Zm440 0h160v-160H620v160Z\"/>\n",
              "  </svg>\n",
              "    </button>\n",
              "\n",
              "  <style>\n",
              "    .colab-df-container {\n",
              "      display:flex;\n",
              "      gap: 12px;\n",
              "    }\n",
              "\n",
              "    .colab-df-convert {\n",
              "      background-color: #E8F0FE;\n",
              "      border: none;\n",
              "      border-radius: 50%;\n",
              "      cursor: pointer;\n",
              "      display: none;\n",
              "      fill: #1967D2;\n",
              "      height: 32px;\n",
              "      padding: 0 0 0 0;\n",
              "      width: 32px;\n",
              "    }\n",
              "\n",
              "    .colab-df-convert:hover {\n",
              "      background-color: #E2EBFA;\n",
              "      box-shadow: 0px 1px 2px rgba(60, 64, 67, 0.3), 0px 1px 3px 1px rgba(60, 64, 67, 0.15);\n",
              "      fill: #174EA6;\n",
              "    }\n",
              "\n",
              "    .colab-df-buttons div {\n",
              "      margin-bottom: 4px;\n",
              "    }\n",
              "\n",
              "    [theme=dark] .colab-df-convert {\n",
              "      background-color: #3B4455;\n",
              "      fill: #D2E3FC;\n",
              "    }\n",
              "\n",
              "    [theme=dark] .colab-df-convert:hover {\n",
              "      background-color: #434B5C;\n",
              "      box-shadow: 0px 1px 3px 1px rgba(0, 0, 0, 0.15);\n",
              "      filter: drop-shadow(0px 1px 2px rgba(0, 0, 0, 0.3));\n",
              "      fill: #FFFFFF;\n",
              "    }\n",
              "  </style>\n",
              "\n",
              "    <script>\n",
              "      const buttonEl =\n",
              "        document.querySelector('#df-cbdd3a01-b870-4c67-b6c3-f0e63db88133 button.colab-df-convert');\n",
              "      buttonEl.style.display =\n",
              "        google.colab.kernel.accessAllowed ? 'block' : 'none';\n",
              "\n",
              "      async function convertToInteractive(key) {\n",
              "        const element = document.querySelector('#df-cbdd3a01-b870-4c67-b6c3-f0e63db88133');\n",
              "        const dataTable =\n",
              "          await google.colab.kernel.invokeFunction('convertToInteractive',\n",
              "                                                    [key], {});\n",
              "        if (!dataTable) return;\n",
              "\n",
              "        const docLinkHtml = 'Like what you see? Visit the ' +\n",
              "          '<a target=\"_blank\" href=https://colab.research.google.com/notebooks/data_table.ipynb>data table notebook</a>'\n",
              "          + ' to learn more about interactive tables.';\n",
              "        element.innerHTML = '';\n",
              "        dataTable['output_type'] = 'display_data';\n",
              "        await google.colab.output.renderOutput(dataTable, element);\n",
              "        const docLink = document.createElement('div');\n",
              "        docLink.innerHTML = docLinkHtml;\n",
              "        element.appendChild(docLink);\n",
              "      }\n",
              "    </script>\n",
              "  </div>\n",
              "\n",
              "\n",
              "<div id=\"df-ea17a88c-d045-416c-9e8f-0f13efeaa866\">\n",
              "  <button class=\"colab-df-quickchart\" onclick=\"quickchart('df-ea17a88c-d045-416c-9e8f-0f13efeaa866')\"\n",
              "            title=\"Suggest charts\"\n",
              "            style=\"display:none;\">\n",
              "\n",
              "<svg xmlns=\"http://www.w3.org/2000/svg\" height=\"24px\"viewBox=\"0 0 24 24\"\n",
              "     width=\"24px\">\n",
              "    <g>\n",
              "        <path d=\"M19 3H5c-1.1 0-2 .9-2 2v14c0 1.1.9 2 2 2h14c1.1 0 2-.9 2-2V5c0-1.1-.9-2-2-2zM9 17H7v-7h2v7zm4 0h-2V7h2v10zm4 0h-2v-4h2v4z\"/>\n",
              "    </g>\n",
              "</svg>\n",
              "  </button>\n",
              "\n",
              "<style>\n",
              "  .colab-df-quickchart {\n",
              "      --bg-color: #E8F0FE;\n",
              "      --fill-color: #1967D2;\n",
              "      --hover-bg-color: #E2EBFA;\n",
              "      --hover-fill-color: #174EA6;\n",
              "      --disabled-fill-color: #AAA;\n",
              "      --disabled-bg-color: #DDD;\n",
              "  }\n",
              "\n",
              "  [theme=dark] .colab-df-quickchart {\n",
              "      --bg-color: #3B4455;\n",
              "      --fill-color: #D2E3FC;\n",
              "      --hover-bg-color: #434B5C;\n",
              "      --hover-fill-color: #FFFFFF;\n",
              "      --disabled-bg-color: #3B4455;\n",
              "      --disabled-fill-color: #666;\n",
              "  }\n",
              "\n",
              "  .colab-df-quickchart {\n",
              "    background-color: var(--bg-color);\n",
              "    border: none;\n",
              "    border-radius: 50%;\n",
              "    cursor: pointer;\n",
              "    display: none;\n",
              "    fill: var(--fill-color);\n",
              "    height: 32px;\n",
              "    padding: 0;\n",
              "    width: 32px;\n",
              "  }\n",
              "\n",
              "  .colab-df-quickchart:hover {\n",
              "    background-color: var(--hover-bg-color);\n",
              "    box-shadow: 0 1px 2px rgba(60, 64, 67, 0.3), 0 1px 3px 1px rgba(60, 64, 67, 0.15);\n",
              "    fill: var(--button-hover-fill-color);\n",
              "  }\n",
              "\n",
              "  .colab-df-quickchart-complete:disabled,\n",
              "  .colab-df-quickchart-complete:disabled:hover {\n",
              "    background-color: var(--disabled-bg-color);\n",
              "    fill: var(--disabled-fill-color);\n",
              "    box-shadow: none;\n",
              "  }\n",
              "\n",
              "  .colab-df-spinner {\n",
              "    border: 2px solid var(--fill-color);\n",
              "    border-color: transparent;\n",
              "    border-bottom-color: var(--fill-color);\n",
              "    animation:\n",
              "      spin 1s steps(1) infinite;\n",
              "  }\n",
              "\n",
              "  @keyframes spin {\n",
              "    0% {\n",
              "      border-color: transparent;\n",
              "      border-bottom-color: var(--fill-color);\n",
              "      border-left-color: var(--fill-color);\n",
              "    }\n",
              "    20% {\n",
              "      border-color: transparent;\n",
              "      border-left-color: var(--fill-color);\n",
              "      border-top-color: var(--fill-color);\n",
              "    }\n",
              "    30% {\n",
              "      border-color: transparent;\n",
              "      border-left-color: var(--fill-color);\n",
              "      border-top-color: var(--fill-color);\n",
              "      border-right-color: var(--fill-color);\n",
              "    }\n",
              "    40% {\n",
              "      border-color: transparent;\n",
              "      border-right-color: var(--fill-color);\n",
              "      border-top-color: var(--fill-color);\n",
              "    }\n",
              "    60% {\n",
              "      border-color: transparent;\n",
              "      border-right-color: var(--fill-color);\n",
              "    }\n",
              "    80% {\n",
              "      border-color: transparent;\n",
              "      border-right-color: var(--fill-color);\n",
              "      border-bottom-color: var(--fill-color);\n",
              "    }\n",
              "    90% {\n",
              "      border-color: transparent;\n",
              "      border-bottom-color: var(--fill-color);\n",
              "    }\n",
              "  }\n",
              "</style>\n",
              "\n",
              "  <script>\n",
              "    async function quickchart(key) {\n",
              "      const quickchartButtonEl =\n",
              "        document.querySelector('#' + key + ' button');\n",
              "      quickchartButtonEl.disabled = true;  // To prevent multiple clicks.\n",
              "      quickchartButtonEl.classList.add('colab-df-spinner');\n",
              "      try {\n",
              "        const charts = await google.colab.kernel.invokeFunction(\n",
              "            'suggestCharts', [key], {});\n",
              "      } catch (error) {\n",
              "        console.error('Error during call to suggestCharts:', error);\n",
              "      }\n",
              "      quickchartButtonEl.classList.remove('colab-df-spinner');\n",
              "      quickchartButtonEl.classList.add('colab-df-quickchart-complete');\n",
              "    }\n",
              "    (() => {\n",
              "      let quickchartButtonEl =\n",
              "        document.querySelector('#df-ea17a88c-d045-416c-9e8f-0f13efeaa866 button');\n",
              "      quickchartButtonEl.style.display =\n",
              "        google.colab.kernel.accessAllowed ? 'block' : 'none';\n",
              "    })();\n",
              "  </script>\n",
              "</div>\n",
              "    </div>\n",
              "  </div>\n"
            ],
            "application/vnd.google.colaboratory.intrinsic+json": {
              "type": "dataframe",
              "variable_name": "data",
              "summary": "{\n  \"name\": \"data\",\n  \"rows\": 200,\n  \"fields\": [\n    {\n      \"column\": \"data\",\n      \"properties\": {\n        \"dtype\": \"number\",\n        \"std\": 1.031305081106959,\n        \"min\": -2.830073285745182,\n        \"max\": 2.882923564054132,\n        \"num_unique_values\": 200,\n        \"samples\": [\n          -0.2496561896339852,\n          -1.4486573487763683,\n          -0.9812293669192735\n        ],\n        \"semantic_type\": \"\",\n        \"description\": \"\"\n      }\n    },\n    {\n      \"column\": \"tanh\",\n      \"properties\": {\n        \"dtype\": \"number\",\n        \"std\": 0.6309891367818276,\n        \"min\": -0.9930601516013673,\n        \"max\": 0.9937540860132428,\n        \"num_unique_values\": 200,\n        \"samples\": [\n          -0.24459544835079172,\n          -0.8954270661744692,\n          -0.7535975951542319\n        ],\n        \"semantic_type\": \"\",\n        \"description\": \"\"\n      }\n    }\n  ]\n}"
            }
          },
          "metadata": {},
          "execution_count": 12
        }
      ]
    },
    {
      "cell_type": "code",
      "metadata": {
        "id": "60dxCfJpghZR",
        "colab": {
          "base_uri": "https://localhost:8080/",
          "height": 542
        },
        "outputId": "ec4f51ad-0b7c-4eb5-a1bd-e579f6522d4c"
      },
      "source": [
        "px.line(data, x='data', y='tanh', width=800, range_y=[-1.5, 1.5])"
      ],
      "execution_count": 13,
      "outputs": [
        {
          "output_type": "display_data",
          "data": {
            "text/html": [
              "<html>\n",
              "<head><meta charset=\"utf-8\" /></head>\n",
              "<body>\n",
              "    <div>            <script src=\"https://cdnjs.cloudflare.com/ajax/libs/mathjax/2.7.5/MathJax.js?config=TeX-AMS-MML_SVG\"></script><script type=\"text/javascript\">if (window.MathJax && window.MathJax.Hub && window.MathJax.Hub.Config) {window.MathJax.Hub.Config({SVG: {font: \"STIX-Web\"}});}</script>                <script type=\"text/javascript\">window.PlotlyConfig = {MathJaxConfig: 'local'};</script>\n",
              "        <script charset=\"utf-8\" src=\"https://cdn.plot.ly/plotly-2.24.1.min.js\"></script>                <div id=\"b9c9611a-c892-49ab-949f-9ac50db2ac69\" class=\"plotly-graph-div\" style=\"height:525px; width:800px;\"></div>            <script type=\"text/javascript\">                                    window.PLOTLYENV=window.PLOTLYENV || {};                                    if (document.getElementById(\"b9c9611a-c892-49ab-949f-9ac50db2ac69\")) {                    Plotly.newPlot(                        \"b9c9611a-c892-49ab-949f-9ac50db2ac69\",                        [{\"hovertemplate\":\"data=%{x}\\u003cbr\\u003etanh=%{y}\\u003cextra\\u003e\\u003c\\u002fextra\\u003e\",\"legendgroup\":\"\",\"line\":{\"color\":\"#636efa\",\"dash\":\"solid\"},\"marker\":{\"symbol\":\"circle\"},\"mode\":\"lines\",\"name\":\"\",\"orientation\":\"v\",\"showlegend\":false,\"x\":[-2.830073285745182,-2.261445433645979,-2.220691527610627,-2.1435217386787806,-2.131811349544527,-2.0076893087238283,-1.9787707630012554,-1.8711718599588136,-1.6908155812803758,-1.6790333273162397,-1.601608269858491,-1.587880964553168,-1.5395789350788682,-1.5142575152683806,-1.4985209267165724,-1.4486573487763683,-1.4148576032031688,-1.3819601244201793,-1.3762683993952955,-1.3542253724272526,-1.349770985237781,-1.2888366128124937,-1.2399841253740715,-1.2334672762942072,-1.2025362576187595,-1.1596570261231702,-1.1282649918390961,-1.1071869230781106,-1.046596209864421,-0.9977651307170426,-0.9812293669192735,-0.9810457308088318,-0.945744716321827,-0.8945199609279343,-0.8694878498173025,-0.8312481707006051,-0.803384542556702,-0.7715023461789474,-0.7634424806031833,-0.7624610499272936,-0.7382954553433014,-0.708030807035612,-0.7079603521021349,-0.6972410437791838,-0.6911007929452622,-0.6580577899595283,-0.6436097544736573,-0.6351906546565081,-0.6321630873390949,-0.6185727057730787,-0.607644792161902,-0.5928161779254603,-0.5815556251234661,-0.5637870470076582,-0.5632609354019615,-0.5524011835954572,-0.5486011874435412,-0.5213324189678387,-0.5107172845515364,-0.5036268856255307,-0.4964002181456416,-0.4842959406098623,-0.47777583538472324,-0.4741587938632549,-0.45578070993633024,-0.45281031880722394,-0.45104329986962155,-0.4469219496194569,-0.4448995257052334,-0.4438644024931553,-0.4100659791964407,-0.387965744972894,-0.37847108633459725,-0.3770225652724478,-0.368864975068068,-0.3676991708843384,-0.35818336269447143,-0.35335065201510235,-0.3499616322403122,-0.3414099741475006,-0.3404521217412876,-0.34012041380672614,-0.33855598369485734,-0.33506294991162494,-0.3090452309090729,-0.29227984485415226,-0.2909423635036963,-0.2867435337805795,-0.28307823699047824,-0.2812973169604135,-0.2724111130335958,-0.2611562450621375,-0.26064448271574053,-0.2555999061834231,-0.25147877022745463,-0.2496561896339852,-0.23242745569171966,-0.21283777961363426,-0.17376654890890053,-0.1636546481990109,-0.15401018651158604,-0.12954954992438344,-0.12440077674534383,-0.12111498229840996,-0.11287805715373325,-0.08820307768654281,-0.06540838753813624,-0.03504270123369992,-0.02618584331776621,-0.015079112659735055,0.036515109511726415,0.06207769315316156,0.0793127096700642,0.10557645100020627,0.16620449067152512,0.17148066187781327,0.17333458295784376,0.18565803158370764,0.200302032259772,0.20247954267772605,0.22247951198941407,0.22664000483365568,0.25325215767709414,0.2554350186937871,0.2675943256598685,0.269102383123708,0.28548469277884764,0.31071892545157587,0.33648402596916693,0.3390785808162357,0.34431891696860656,0.34693511778026936,0.35571653239970874,0.3898952695629419,0.3959342637334536,0.3964553032513761,0.42833847672181813,0.4527047379842921,0.49745958416363767,0.499311676332752,0.5161699732629625,0.5528589780866089,0.5598675611346705,0.5686778946340876,0.5806033363587974,0.6420951575402668,0.6548738420999153,0.6637795741279585,0.6783664315186261,0.6811436416950186,0.7204813890411333,0.7230038884838699,0.7328886016259153,0.769548244445792,0.7726020213800058,0.7792007462459867,0.8025824301670816,0.8172154181246223,0.8266206980573025,0.8360258530632049,0.852242202647699,0.8806518093291886,0.8824478868180873,0.9070962008935363,0.9531653478583303,0.9540187877483921,0.9577876579654324,0.9803570308903252,0.9989979161416714,1.000018730073259,1.0583183651525259,1.061646984033626,1.0950453498392283,1.1109595207064344,1.137991062111512,1.2016142189001942,1.2896531742208237,1.2991846733564119,1.3156768171877344,1.3675932777641764,1.3782091894199862,1.3849829248473209,1.3886176565973734,1.4509615421602222,1.4843218459250773,1.5085892072312825,1.5969390784507735,1.6831681082675918,1.7231499262716647,1.7651147766661053,1.8111531144357407,1.9663681623398783,1.9956648566149924,2.0346375291429815,2.0357373166104455,2.0670913813861143,2.469252032530592,2.6304577161013865,2.631877153919458,2.882923564054132],\"xaxis\":\"x\",\"y\":[-0.9930601516013673,-0.9785180612860526,-0.976715017874699,-0.9728817457254793,-0.97224803614762,-0.964566828164611,-0.9624966148806734,-0.9537002438430009,-0.9342510110611657,-0.9327359957929213,-0.9219102840431354,-0.9198237962946889,-0.9120495877804321,-0.9076916855618956,-0.9048806171717442,-0.8954270661744692,-0.8885212291341364,-0.8813894314694877,-0.8801129178253482,-0.8750469304963434,-0.8739992225156529,-0.8588215405520303,-0.8454510681458356,-0.8435821104885441,-0.8344265824100394,-0.8209280768919869,-0.8104246233146449,-0.8030657630142577,-0.7804795103436531,-0.7606539695084314,-0.7535975951542319,-0.7535182367238895,-0.7378505229250314,-0.7136190555917075,-0.701113827097478,-0.681145645266425,-0.6659246660942013,-0.6478021892505775,-0.6431001792237526,-0.6425242832308137,-0.6281142112191564,-0.6094405183699971,-0.6093962297474709,-0.6026136379333302,-0.5986887037047431,-0.5770694285829056,-0.5673523808031955,-0.5616160295818694,-0.559539871225222,-0.5501334820058263,-0.5424670832323516,-0.5319180093332241,-0.5237951709864425,-0.5107818578591512,-0.5103929032878929,-0.5023176853818537,-0.4994710959924679,-0.4787277219813052,-0.4705038838546637,-0.4649647280920967,-0.4592814119085808,-0.44967748179232214,-0.4444605842583816,-0.4415534109795612,-0.4266391425187067,-0.42420634894025494,-0.4227562213960069,-0.4193655620578869,-0.41769740418149165,-0.41684251075360795,-0.38852870098849596,-0.36960519033658423,-0.3613789570715968,-0.36011894656613697,-0.35299851904161844,-0.3519775636441687,-0.3436128880926836,-0.33934371860913876,-0.3363415173922291,-0.32873557951121435,-0.327880970580757,-0.32758489102551097,-0.3261876278854501,-0.3230626994127735,-0.2995682588928742,-0.2842318292698749,-0.2830019331878504,-0.2791348156521436,-0.27575165882793046,-0.27410535138836406,-0.26586695134297567,-0.25537668932128754,-0.25489824022175694,-0.2501753927008608,-0.24630822409334371,-0.24459544835079172,-0.22833052446965862,-0.20968112102597808,-0.1720384680304245,-0.16220908709041934,-0.15280396648719163,-0.12882963541893988,-0.12376300081360825,-0.12052623118595707,-0.11240107771312803,-0.08797505365236025,-0.06531526892160182,-0.03502836423641694,-0.02617985976205644,-0.01507796986927817,0.03649888898310147,0.0619980741864935,0.07914682137630467,0.10518592675440314,0.16469080681188253,0.16981936811458515,0.1716192559493384,0.18355389474740855,0.1976655688971601,0.1997570967924263,0.21888006088300882,0.2228376040675967,0.2479732950836823,0.25002081876953425,0.2613849346028861,0.26278940375468124,0.2779736514108004,0.3010909892790325,0.32433487355443635,0.3266545418908174,0.33132767530953394,0.3336546523754858,0.34143547476470365,0.3712699371371074,0.3764647975685521,0.376911904631375,0.4039318148895747,0.42411976361712,0.46011690905684693,0.461575654513337,0.47473858343717956,0.5026598890510293,0.507879162088707,0.514387656003776,0.5231038088371062,0.5663244330041073,0.574941862502143,0.5808732053354895,0.5904563784786987,0.5922623794503613,0.6172073977294786,0.6187665329602494,0.6248293861219916,0.6466666858131931,0.6484399337403284,0.6522477157754792,0.6654780165039534,0.67355143033815,0.6786573065687032,0.6836983503494215,0.6922390338193475,0.7067457081218043,0.7076435231461613,0.719735601940533,0.741212718254957,0.7415970382258933,0.7432884219382976,0.7532204190434924,0.7611729851584583,0.7616020219937425,0.7850193921910583,0.7862933978379896,0.7987122327735032,0.8044013047257861,0.8137365170688973,0.8341463139373776,0.8590356769208385,0.8615131196447328,0.8657047783084041,0.8781425399724221,0.8805496278275993,0.8820621830189477,0.8828663891221387,0.8958828400195735,0.9022745618543238,0.906688368905879,0.9212065007543514,0.9332714638759749,0.9382412050938906,0.9430715221418117,0.9479488952045749,0.9615727995267412,0.9637200151719786,0.9663947597170619,0.9664673577693202,0.9684734248001228,0.9857713343977915,0.9896725035053509,0.9897016296549394,0.9937540860132428],\"yaxis\":\"y\",\"type\":\"scatter\"}],                        {\"template\":{\"data\":{\"histogram2dcontour\":[{\"type\":\"histogram2dcontour\",\"colorbar\":{\"outlinewidth\":0,\"ticks\":\"\"},\"colorscale\":[[0.0,\"#0d0887\"],[0.1111111111111111,\"#46039f\"],[0.2222222222222222,\"#7201a8\"],[0.3333333333333333,\"#9c179e\"],[0.4444444444444444,\"#bd3786\"],[0.5555555555555556,\"#d8576b\"],[0.6666666666666666,\"#ed7953\"],[0.7777777777777778,\"#fb9f3a\"],[0.8888888888888888,\"#fdca26\"],[1.0,\"#f0f921\"]]}],\"choropleth\":[{\"type\":\"choropleth\",\"colorbar\":{\"outlinewidth\":0,\"ticks\":\"\"}}],\"histogram2d\":[{\"type\":\"histogram2d\",\"colorbar\":{\"outlinewidth\":0,\"ticks\":\"\"},\"colorscale\":[[0.0,\"#0d0887\"],[0.1111111111111111,\"#46039f\"],[0.2222222222222222,\"#7201a8\"],[0.3333333333333333,\"#9c179e\"],[0.4444444444444444,\"#bd3786\"],[0.5555555555555556,\"#d8576b\"],[0.6666666666666666,\"#ed7953\"],[0.7777777777777778,\"#fb9f3a\"],[0.8888888888888888,\"#fdca26\"],[1.0,\"#f0f921\"]]}],\"heatmap\":[{\"type\":\"heatmap\",\"colorbar\":{\"outlinewidth\":0,\"ticks\":\"\"},\"colorscale\":[[0.0,\"#0d0887\"],[0.1111111111111111,\"#46039f\"],[0.2222222222222222,\"#7201a8\"],[0.3333333333333333,\"#9c179e\"],[0.4444444444444444,\"#bd3786\"],[0.5555555555555556,\"#d8576b\"],[0.6666666666666666,\"#ed7953\"],[0.7777777777777778,\"#fb9f3a\"],[0.8888888888888888,\"#fdca26\"],[1.0,\"#f0f921\"]]}],\"heatmapgl\":[{\"type\":\"heatmapgl\",\"colorbar\":{\"outlinewidth\":0,\"ticks\":\"\"},\"colorscale\":[[0.0,\"#0d0887\"],[0.1111111111111111,\"#46039f\"],[0.2222222222222222,\"#7201a8\"],[0.3333333333333333,\"#9c179e\"],[0.4444444444444444,\"#bd3786\"],[0.5555555555555556,\"#d8576b\"],[0.6666666666666666,\"#ed7953\"],[0.7777777777777778,\"#fb9f3a\"],[0.8888888888888888,\"#fdca26\"],[1.0,\"#f0f921\"]]}],\"contourcarpet\":[{\"type\":\"contourcarpet\",\"colorbar\":{\"outlinewidth\":0,\"ticks\":\"\"}}],\"contour\":[{\"type\":\"contour\",\"colorbar\":{\"outlinewidth\":0,\"ticks\":\"\"},\"colorscale\":[[0.0,\"#0d0887\"],[0.1111111111111111,\"#46039f\"],[0.2222222222222222,\"#7201a8\"],[0.3333333333333333,\"#9c179e\"],[0.4444444444444444,\"#bd3786\"],[0.5555555555555556,\"#d8576b\"],[0.6666666666666666,\"#ed7953\"],[0.7777777777777778,\"#fb9f3a\"],[0.8888888888888888,\"#fdca26\"],[1.0,\"#f0f921\"]]}],\"surface\":[{\"type\":\"surface\",\"colorbar\":{\"outlinewidth\":0,\"ticks\":\"\"},\"colorscale\":[[0.0,\"#0d0887\"],[0.1111111111111111,\"#46039f\"],[0.2222222222222222,\"#7201a8\"],[0.3333333333333333,\"#9c179e\"],[0.4444444444444444,\"#bd3786\"],[0.5555555555555556,\"#d8576b\"],[0.6666666666666666,\"#ed7953\"],[0.7777777777777778,\"#fb9f3a\"],[0.8888888888888888,\"#fdca26\"],[1.0,\"#f0f921\"]]}],\"mesh3d\":[{\"type\":\"mesh3d\",\"colorbar\":{\"outlinewidth\":0,\"ticks\":\"\"}}],\"scatter\":[{\"fillpattern\":{\"fillmode\":\"overlay\",\"size\":10,\"solidity\":0.2},\"type\":\"scatter\"}],\"parcoords\":[{\"type\":\"parcoords\",\"line\":{\"colorbar\":{\"outlinewidth\":0,\"ticks\":\"\"}}}],\"scatterpolargl\":[{\"type\":\"scatterpolargl\",\"marker\":{\"colorbar\":{\"outlinewidth\":0,\"ticks\":\"\"}}}],\"bar\":[{\"error_x\":{\"color\":\"#2a3f5f\"},\"error_y\":{\"color\":\"#2a3f5f\"},\"marker\":{\"line\":{\"color\":\"#E5ECF6\",\"width\":0.5},\"pattern\":{\"fillmode\":\"overlay\",\"size\":10,\"solidity\":0.2}},\"type\":\"bar\"}],\"scattergeo\":[{\"type\":\"scattergeo\",\"marker\":{\"colorbar\":{\"outlinewidth\":0,\"ticks\":\"\"}}}],\"scatterpolar\":[{\"type\":\"scatterpolar\",\"marker\":{\"colorbar\":{\"outlinewidth\":0,\"ticks\":\"\"}}}],\"histogram\":[{\"marker\":{\"pattern\":{\"fillmode\":\"overlay\",\"size\":10,\"solidity\":0.2}},\"type\":\"histogram\"}],\"scattergl\":[{\"type\":\"scattergl\",\"marker\":{\"colorbar\":{\"outlinewidth\":0,\"ticks\":\"\"}}}],\"scatter3d\":[{\"type\":\"scatter3d\",\"line\":{\"colorbar\":{\"outlinewidth\":0,\"ticks\":\"\"}},\"marker\":{\"colorbar\":{\"outlinewidth\":0,\"ticks\":\"\"}}}],\"scattermapbox\":[{\"type\":\"scattermapbox\",\"marker\":{\"colorbar\":{\"outlinewidth\":0,\"ticks\":\"\"}}}],\"scatterternary\":[{\"type\":\"scatterternary\",\"marker\":{\"colorbar\":{\"outlinewidth\":0,\"ticks\":\"\"}}}],\"scattercarpet\":[{\"type\":\"scattercarpet\",\"marker\":{\"colorbar\":{\"outlinewidth\":0,\"ticks\":\"\"}}}],\"carpet\":[{\"aaxis\":{\"endlinecolor\":\"#2a3f5f\",\"gridcolor\":\"white\",\"linecolor\":\"white\",\"minorgridcolor\":\"white\",\"startlinecolor\":\"#2a3f5f\"},\"baxis\":{\"endlinecolor\":\"#2a3f5f\",\"gridcolor\":\"white\",\"linecolor\":\"white\",\"minorgridcolor\":\"white\",\"startlinecolor\":\"#2a3f5f\"},\"type\":\"carpet\"}],\"table\":[{\"cells\":{\"fill\":{\"color\":\"#EBF0F8\"},\"line\":{\"color\":\"white\"}},\"header\":{\"fill\":{\"color\":\"#C8D4E3\"},\"line\":{\"color\":\"white\"}},\"type\":\"table\"}],\"barpolar\":[{\"marker\":{\"line\":{\"color\":\"#E5ECF6\",\"width\":0.5},\"pattern\":{\"fillmode\":\"overlay\",\"size\":10,\"solidity\":0.2}},\"type\":\"barpolar\"}],\"pie\":[{\"automargin\":true,\"type\":\"pie\"}]},\"layout\":{\"autotypenumbers\":\"strict\",\"colorway\":[\"#636efa\",\"#EF553B\",\"#00cc96\",\"#ab63fa\",\"#FFA15A\",\"#19d3f3\",\"#FF6692\",\"#B6E880\",\"#FF97FF\",\"#FECB52\"],\"font\":{\"color\":\"#2a3f5f\"},\"hovermode\":\"closest\",\"hoverlabel\":{\"align\":\"left\"},\"paper_bgcolor\":\"white\",\"plot_bgcolor\":\"#E5ECF6\",\"polar\":{\"bgcolor\":\"#E5ECF6\",\"angularaxis\":{\"gridcolor\":\"white\",\"linecolor\":\"white\",\"ticks\":\"\"},\"radialaxis\":{\"gridcolor\":\"white\",\"linecolor\":\"white\",\"ticks\":\"\"}},\"ternary\":{\"bgcolor\":\"#E5ECF6\",\"aaxis\":{\"gridcolor\":\"white\",\"linecolor\":\"white\",\"ticks\":\"\"},\"baxis\":{\"gridcolor\":\"white\",\"linecolor\":\"white\",\"ticks\":\"\"},\"caxis\":{\"gridcolor\":\"white\",\"linecolor\":\"white\",\"ticks\":\"\"}},\"coloraxis\":{\"colorbar\":{\"outlinewidth\":0,\"ticks\":\"\"}},\"colorscale\":{\"sequential\":[[0.0,\"#0d0887\"],[0.1111111111111111,\"#46039f\"],[0.2222222222222222,\"#7201a8\"],[0.3333333333333333,\"#9c179e\"],[0.4444444444444444,\"#bd3786\"],[0.5555555555555556,\"#d8576b\"],[0.6666666666666666,\"#ed7953\"],[0.7777777777777778,\"#fb9f3a\"],[0.8888888888888888,\"#fdca26\"],[1.0,\"#f0f921\"]],\"sequentialminus\":[[0.0,\"#0d0887\"],[0.1111111111111111,\"#46039f\"],[0.2222222222222222,\"#7201a8\"],[0.3333333333333333,\"#9c179e\"],[0.4444444444444444,\"#bd3786\"],[0.5555555555555556,\"#d8576b\"],[0.6666666666666666,\"#ed7953\"],[0.7777777777777778,\"#fb9f3a\"],[0.8888888888888888,\"#fdca26\"],[1.0,\"#f0f921\"]],\"diverging\":[[0,\"#8e0152\"],[0.1,\"#c51b7d\"],[0.2,\"#de77ae\"],[0.3,\"#f1b6da\"],[0.4,\"#fde0ef\"],[0.5,\"#f7f7f7\"],[0.6,\"#e6f5d0\"],[0.7,\"#b8e186\"],[0.8,\"#7fbc41\"],[0.9,\"#4d9221\"],[1,\"#276419\"]]},\"xaxis\":{\"gridcolor\":\"white\",\"linecolor\":\"white\",\"ticks\":\"\",\"title\":{\"standoff\":15},\"zerolinecolor\":\"white\",\"automargin\":true,\"zerolinewidth\":2},\"yaxis\":{\"gridcolor\":\"white\",\"linecolor\":\"white\",\"ticks\":\"\",\"title\":{\"standoff\":15},\"zerolinecolor\":\"white\",\"automargin\":true,\"zerolinewidth\":2},\"scene\":{\"xaxis\":{\"backgroundcolor\":\"#E5ECF6\",\"gridcolor\":\"white\",\"linecolor\":\"white\",\"showbackground\":true,\"ticks\":\"\",\"zerolinecolor\":\"white\",\"gridwidth\":2},\"yaxis\":{\"backgroundcolor\":\"#E5ECF6\",\"gridcolor\":\"white\",\"linecolor\":\"white\",\"showbackground\":true,\"ticks\":\"\",\"zerolinecolor\":\"white\",\"gridwidth\":2},\"zaxis\":{\"backgroundcolor\":\"#E5ECF6\",\"gridcolor\":\"white\",\"linecolor\":\"white\",\"showbackground\":true,\"ticks\":\"\",\"zerolinecolor\":\"white\",\"gridwidth\":2}},\"shapedefaults\":{\"line\":{\"color\":\"#2a3f5f\"}},\"annotationdefaults\":{\"arrowcolor\":\"#2a3f5f\",\"arrowhead\":0,\"arrowwidth\":1},\"geo\":{\"bgcolor\":\"white\",\"landcolor\":\"#E5ECF6\",\"subunitcolor\":\"white\",\"showland\":true,\"showlakes\":true,\"lakecolor\":\"white\"},\"title\":{\"x\":0.05},\"mapbox\":{\"style\":\"light\"}}},\"xaxis\":{\"anchor\":\"y\",\"domain\":[0.0,1.0],\"title\":{\"text\":\"data\"}},\"yaxis\":{\"anchor\":\"x\",\"domain\":[0.0,1.0],\"title\":{\"text\":\"tanh\"},\"range\":[-1.5,1.5]},\"legend\":{\"tracegroupgap\":0},\"margin\":{\"t\":60},\"width\":800},                        {\"responsive\": true}                    ).then(function(){\n",
              "                            \n",
              "var gd = document.getElementById('b9c9611a-c892-49ab-949f-9ac50db2ac69');\n",
              "var x = new MutationObserver(function (mutations, observer) {{\n",
              "        var display = window.getComputedStyle(gd).display;\n",
              "        if (!display || display === 'none') {{\n",
              "            console.log([gd, 'removed!']);\n",
              "            Plotly.purge(gd);\n",
              "            observer.disconnect();\n",
              "        }}\n",
              "}});\n",
              "\n",
              "// Listen for the removal of the full notebook cells\n",
              "var notebookContainer = gd.closest('#notebook-container');\n",
              "if (notebookContainer) {{\n",
              "    x.observe(notebookContainer, {childList: true});\n",
              "}}\n",
              "\n",
              "// Listen for the clearing of the current output cell\n",
              "var outputEl = gd.closest('.output');\n",
              "if (outputEl) {{\n",
              "    x.observe(outputEl, {childList: true});\n",
              "}}\n",
              "\n",
              "                        })                };                            </script>        </div>\n",
              "</body>\n",
              "</html>"
            ]
          },
          "metadata": {}
        }
      ]
    },
    {
      "cell_type": "code",
      "metadata": {
        "id": "hUCtW1HMgjkV",
        "colab": {
          "base_uri": "https://localhost:8080/"
        },
        "outputId": "a99bfadc-259b-4cf1-ad81-8416c08f8502"
      },
      "source": [
        "model = Sequential()\n",
        "model.add(Dense(units=8, activation='relu', input_shape=(10,)))\n",
        "model.add(Dense(units=1, activation='sigmoid'))\n",
        "model.summary()"
      ],
      "execution_count": 14,
      "outputs": [
        {
          "output_type": "stream",
          "name": "stdout",
          "text": [
            "Model: \"sequential_1\"\n",
            "_________________________________________________________________\n",
            " Layer (type)                Output Shape              Param #   \n",
            "=================================================================\n",
            " dense_2 (Dense)             (None, 8)                 88        \n",
            "                                                                 \n",
            " dense_3 (Dense)             (None, 1)                 9         \n",
            "                                                                 \n",
            "=================================================================\n",
            "Total params: 97 (388.00 Byte)\n",
            "Trainable params: 97 (388.00 Byte)\n",
            "Non-trainable params: 0 (0.00 Byte)\n",
            "_________________________________________________________________\n"
          ]
        }
      ]
    },
    {
      "cell_type": "markdown",
      "metadata": {
        "id": "NNWU1zbwimbx"
      },
      "source": [
        "### <a name='a2'></a>Kompilacja modelu\n",
        "Przed rozpoczęciem trenowania sieci należy odpowiednio skonfigurować proces uczenia. W tym kroku określamy:\n",
        "* rodzaj optymalizatora ([Keras - Optymalizatory](https://keras.io/optimizers/))\n",
        "* funkcję straty ([Keras - Funkcje Straty](https://keras.io/losses/))\n",
        "* metryki, które będziemy obserwować podczas trenowania sieci ([Keras - Metryki](https://keras.io/metrics/))"
      ]
    },
    {
      "cell_type": "code",
      "metadata": {
        "id": "oBRtQd7diI0e"
      },
      "source": [
        "# klasyfikacja binarna\n",
        "model.compile(optimizer='rmsprop',\n",
        "              loss='binary_crossentropy',\n",
        "              metrics=['accuracy'])\n",
        "\n",
        "# klasyfikacja wieloklasowa\n",
        "model.compile(optimizer='rmsprop',\n",
        "              loss='categorical_crossentropy',\n",
        "              metrics=['accuracy'])\n",
        "\n",
        "# regresja\n",
        "model.compile(optimizer='rmsprop',\n",
        "              loss='mse')"
      ],
      "execution_count": 15,
      "outputs": []
    },
    {
      "cell_type": "markdown",
      "metadata": {
        "id": "TqsJw4K-knNP"
      },
      "source": [
        "### <a name='a3'></a>Trenowanie modelu\n",
        "Za dane wejściowe do modelu należy przekazać Numpy arrays:\n",
        "* **epochs** - krotność przejścia danych przez sieć w procesie uczenia\n",
        "* **batch_size** - rozmiar wsadu po którym następuje aktualizacja wag\n",
        "* **validation_split** - część danych treningowych, które zostaną wykorzystane jako zbiór walidacyjny\n",
        "* **validation_data** - (x_val, y_val) - dane wykorzystane do walidacji modelu"
      ]
    },
    {
      "cell_type": "code",
      "metadata": {
        "id": "HBn1AzzGkS2h"
      },
      "source": [
        "# model.fit(data, labels, epochs=10, batch_size=32)\n",
        "# model.fit(data, labels, epochs=10, batch_size=32, validation_split=0.2)\n",
        "# model.fit(data, labels, epochs=10, batch_size=32, validation_data=(x_val, y_val))"
      ],
      "execution_count": null,
      "outputs": []
    },
    {
      "cell_type": "markdown",
      "metadata": {
        "id": "8fmOZzNywvx6"
      },
      "source": [
        "### <a name='a4'></a> Przykład - klasyfikacja binarna"
      ]
    },
    {
      "cell_type": "code",
      "metadata": {
        "id": "gELP58XdwKSj",
        "colab": {
          "base_uri": "https://localhost:8080/"
        },
        "outputId": "57fdb077-63d9-4366-9030-84adf0129d91"
      },
      "source": [
        "data = np.random.randn(1000, 150)\n",
        "labels = np.random.randint(2, size=(1000, 1))\n",
        "\n",
        "print(data.shape)\n",
        "print(labels.shape)"
      ],
      "execution_count": 16,
      "outputs": [
        {
          "output_type": "stream",
          "name": "stdout",
          "text": [
            "(1000, 150)\n",
            "(1000, 1)\n"
          ]
        }
      ]
    },
    {
      "cell_type": "code",
      "metadata": {
        "id": "B_ItRZ5EwcdR",
        "colab": {
          "base_uri": "https://localhost:8080/"
        },
        "outputId": "4f98a8c9-d3ba-4fee-cdc7-16bc2d6621e8"
      },
      "source": [
        "data[:3]"
      ],
      "execution_count": 17,
      "outputs": [
        {
          "output_type": "execute_result",
          "data": {
            "text/plain": [
              "array([[-7.39868959e-01, -3.12413951e-01,  2.34894814e-01,\n",
              "         1.56744605e+00, -1.08816955e+00, -1.22212086e+00,\n",
              "        -8.25006605e-01,  1.68368956e-01,  4.39138078e-01,\n",
              "        -6.06538777e-01, -1.73063175e+00, -2.36286612e-01,\n",
              "         1.19239499e-01,  1.17515006e+00,  3.09100347e-01,\n",
              "        -1.03742185e-01,  1.02167191e+00, -8.73571459e-02,\n",
              "         1.98458247e-01,  5.36982587e-01, -4.58724800e-01,\n",
              "        -7.06952735e-02, -3.64224062e-01,  3.45863691e-01,\n",
              "        -8.67942830e-01,  2.27843176e-01, -3.44136470e-01,\n",
              "        -1.15191230e+00, -1.98556893e+00, -1.32004052e+00,\n",
              "         7.16266623e-01,  8.46389949e-01,  4.74417294e-01,\n",
              "        -1.84894114e+00,  8.67197335e-01,  1.60952737e+00,\n",
              "         7.80329693e-01, -1.73824930e-01, -1.06838512e+00,\n",
              "         9.87723537e-01,  8.49247761e-01,  1.52752491e+00,\n",
              "        -7.98626170e-01, -4.59485538e-01,  6.75516952e-01,\n",
              "        -6.38088435e-01, -1.65573421e-01,  1.85843357e+00,\n",
              "        -9.55959359e-02, -1.78624121e+00, -1.36807421e+00,\n",
              "         7.47229479e-01,  9.38276139e-01,  2.38616698e+00,\n",
              "        -2.21631315e-01,  6.38399712e-01,  7.87270254e-01,\n",
              "         4.54553603e-01, -1.32476450e+00, -7.89109724e-02,\n",
              "        -4.18309153e-01, -5.13011407e-01, -8.89649010e-01,\n",
              "        -1.12323700e+00, -3.61635556e-01, -5.95298403e-01,\n",
              "         2.46088972e-01,  1.37811991e+00,  2.63854331e-01,\n",
              "        -7.23428432e-01, -2.45564819e-01, -4.87715168e-01,\n",
              "        -1.45378785e+00, -5.03766927e-01, -4.66337225e-01,\n",
              "        -1.72000692e-01, -3.96250895e-01, -6.52515145e-01,\n",
              "        -1.54011495e-01,  1.66992573e-01, -3.90868978e-01,\n",
              "         7.07619654e-01,  2.39814668e-01, -2.70967210e+00,\n",
              "        -1.14591070e+00, -1.05204693e+00,  7.51839688e-01,\n",
              "        -5.63826477e-01, -8.31373610e-01, -1.43604421e-01,\n",
              "         3.04493605e-01, -9.14234441e-01, -1.55740759e-01,\n",
              "        -1.26293987e+00,  3.40604399e-03,  1.04118949e+00,\n",
              "         7.00558386e-01, -7.97747602e-01,  2.10181144e+00,\n",
              "        -1.41866649e+00,  3.47028471e-01, -2.41857519e-02,\n",
              "        -7.13692290e-02,  4.92067411e-01, -9.88827415e-01,\n",
              "         4.19508528e-01, -9.49833309e-01, -4.08450554e-01,\n",
              "         6.51606121e-01, -6.73472297e-01,  6.32850748e-01,\n",
              "        -8.82911807e-01, -7.62115420e-01, -1.06425662e+00,\n",
              "         1.10608369e+00,  5.68443952e-01, -5.30338630e-01,\n",
              "         1.20305604e+00, -1.55488939e+00, -6.92824036e-01,\n",
              "        -9.44317344e-02,  1.74110605e-01,  8.07578974e-01,\n",
              "        -4.12502265e-01, -3.92531554e-01,  1.52887581e-01,\n",
              "         1.13909180e+00,  6.80695214e-01,  4.72140597e-01,\n",
              "         1.50026651e+00,  3.08660683e-01, -2.05901492e-01,\n",
              "        -1.04894067e+00,  2.80492352e-01, -6.63866845e-01,\n",
              "        -8.19382523e-01,  8.86129937e-01, -8.56892159e-01,\n",
              "        -3.74130971e-01, -1.63896816e-01,  5.81632102e-02,\n",
              "        -6.48757789e-01,  7.77721979e-01,  7.76779224e-02,\n",
              "         1.57189753e-01,  1.27910268e+00, -1.47622147e+00,\n",
              "         4.95978419e-01, -4.15353765e-01,  2.70457469e-01],\n",
              "       [-1.62546895e+00,  2.12470899e-02, -8.82469285e-01,\n",
              "        -1.69822557e+00,  1.67010852e+00, -1.00166009e+00,\n",
              "         1.94577134e+00,  1.28153453e+00,  3.24027044e-01,\n",
              "        -3.71050187e-01,  7.36093719e-02,  1.15169887e-01,\n",
              "        -8.31278666e-02,  7.90514657e-01, -6.46708020e-01,\n",
              "         1.85948241e+00, -3.68157152e-01,  1.12357828e+00,\n",
              "        -8.60859495e-01, -1.10813870e+00, -2.50925998e-01,\n",
              "        -4.20803432e-01, -6.23633401e-01, -3.64370401e-01,\n",
              "        -3.64486211e-01,  3.84240216e-01, -1.53398157e-01,\n",
              "         8.76556086e-02,  1.17828051e+00,  1.84212416e+00,\n",
              "        -1.10843678e+00,  2.56822798e-01,  7.13905781e-01,\n",
              "         4.92074030e-01, -1.76920089e+00,  1.22512020e+00,\n",
              "         1.75430044e-01, -8.02250508e-01,  7.02894905e-01,\n",
              "         1.26716980e+00,  1.13014908e+00, -6.68703694e-01,\n",
              "        -6.00802976e-01,  8.16128712e-01,  8.52416204e-02,\n",
              "         1.43895819e+00, -4.91777527e-01,  8.33150398e-01,\n",
              "         1.47971904e+00,  1.17486993e-01,  1.35615655e+00,\n",
              "         2.99677751e-01, -7.09894984e-01,  1.12472131e-01,\n",
              "        -2.77814514e+00,  8.80796107e-01, -9.43945620e-01,\n",
              "        -6.09653237e-01,  4.90927362e-02,  3.79215682e-01,\n",
              "        -1.46422326e+00, -1.15575455e+00,  1.22497118e+00,\n",
              "         5.89990552e-01, -1.09322095e+00,  8.92407173e-01,\n",
              "        -1.60943076e-01,  6.63709154e-01, -1.80879061e+00,\n",
              "         1.99300161e+00, -4.85547541e-01,  2.73830788e-01,\n",
              "        -2.99839121e+00, -2.03174195e-01, -1.50137608e+00,\n",
              "         9.63982892e-01,  2.41498122e-01,  3.00339565e-01,\n",
              "        -4.36477343e-01, -6.46771306e-01, -5.66255686e-01,\n",
              "         4.68185953e-02, -2.14983455e+00,  6.55043259e-01,\n",
              "         3.52060029e-01,  1.64256723e-01, -4.53605649e-01,\n",
              "         7.29965470e-01,  1.19070051e+00,  3.64469687e-01,\n",
              "        -9.70092163e-01, -7.76175288e-01,  1.28833782e+00,\n",
              "         8.92710080e-01, -1.51776601e+00, -1.69671990e+00,\n",
              "         5.41077000e-01,  1.10694542e+00,  1.02035130e+00,\n",
              "        -2.45149983e-01, -2.32577572e-01,  1.26063943e+00,\n",
              "         5.69848075e-01,  1.56255976e+00,  6.68817322e-01,\n",
              "        -8.51695266e-01,  8.91168863e-02,  7.16411073e-01,\n",
              "        -1.16477178e+00, -6.33359091e-01, -2.67365998e-01,\n",
              "        -9.08940387e-01, -9.21065971e-02, -7.47423126e-01,\n",
              "        -5.27351909e-01,  6.49268262e-01, -8.58780450e-01,\n",
              "         1.26859202e+00, -4.85609178e-01, -3.40667633e+00,\n",
              "        -8.17615268e-01,  1.76427830e+00, -3.71392058e-01,\n",
              "        -2.04225427e+00,  2.48681543e-01, -3.08413850e-01,\n",
              "        -1.30398520e-01, -8.43317398e-02,  1.31515667e-01,\n",
              "         4.37048414e-01, -4.90889431e-01,  6.27171797e-01,\n",
              "        -4.89281191e-02, -3.75733330e-01, -2.34326584e-01,\n",
              "         1.88458885e+00,  4.67859514e-01,  1.99215441e+00,\n",
              "         2.55220361e-01,  2.88839001e+00,  1.19269169e+00,\n",
              "         3.49509762e-02,  1.01383169e+00, -9.07933210e-01,\n",
              "        -5.82832940e-01, -2.62933902e-01,  6.40065027e-01,\n",
              "        -8.90390798e-01,  4.01203664e-01,  3.98080329e-01],\n",
              "       [ 6.82072312e-01,  6.38742136e-01,  5.84293986e-01,\n",
              "        -3.54819550e-01, -1.94214436e+00, -1.15180935e+00,\n",
              "         8.16909517e-01,  1.07007299e+00, -1.19170309e+00,\n",
              "         6.65088942e-01,  1.19973747e+00, -2.47848692e+00,\n",
              "        -9.82291680e-01, -9.85834882e-01, -3.23726943e-01,\n",
              "         5.99761607e-01, -7.81019599e-01,  7.97887332e-03,\n",
              "        -1.26959549e+00, -1.42116168e-01, -2.03528405e-01,\n",
              "         3.87772201e-01,  9.18938358e-01,  2.75815832e-02,\n",
              "        -2.94798849e+00,  1.30349293e+00,  5.56810942e-01,\n",
              "        -5.89054641e-01, -7.02002735e-02,  1.10158026e+00,\n",
              "        -1.48515267e-01, -2.07337205e-01,  1.70578673e+00,\n",
              "        -8.96399443e-01,  5.56748510e-01,  8.16244572e-01,\n",
              "         2.29507114e+00,  1.06864323e+00, -2.71025561e-01,\n",
              "         5.17879352e-01, -1.69203144e-01, -1.37992277e+00,\n",
              "         2.30970183e-01, -5.23623154e-01, -4.49358634e-01,\n",
              "         2.12994386e-01, -1.00795341e-01, -1.62876263e-01,\n",
              "        -1.54647422e-01,  7.34096858e-01, -3.30645205e-01,\n",
              "         6.62967309e-01, -1.87054712e+00,  2.50870929e-01,\n",
              "        -9.22477973e-01, -2.00248132e-01,  7.33198275e-01,\n",
              "        -2.40533730e+00,  5.12392242e-01,  1.55100696e+00,\n",
              "         1.60884622e-02,  5.21153679e-01, -7.49330467e-01,\n",
              "         2.77919924e+00, -6.56432298e-01, -7.62061539e-01,\n",
              "         9.49651352e-01,  1.29853440e+00,  2.18319341e-01,\n",
              "        -1.49468642e+00,  2.27401776e-01, -1.67263778e+00,\n",
              "         2.01887926e+00,  5.97198063e-02, -2.58895285e-01,\n",
              "         1.91579495e-01,  2.11650832e+00,  7.41830127e-01,\n",
              "         4.18187056e-01,  2.22022316e+00, -1.99654990e-02,\n",
              "         3.73499512e-01, -8.36137537e-01, -7.58292885e-01,\n",
              "         1.05746448e+00, -5.18237882e-02, -5.96235119e-01,\n",
              "        -2.38707684e-01,  2.69653216e-01, -1.89818910e-01,\n",
              "         1.33736635e+00, -6.89869422e-01,  2.02632027e+00,\n",
              "        -2.48260378e-01,  2.30987837e-01,  1.97370439e-01,\n",
              "        -3.94241390e-01, -6.59540756e-01,  4.44734983e-01,\n",
              "         2.01746619e+00,  1.98485488e+00,  1.84256387e-01,\n",
              "         8.33955718e-01, -8.43826011e-01,  6.86263104e-01,\n",
              "         1.38548341e+00, -2.44269540e+00,  1.24289018e-02,\n",
              "         3.73116109e-02,  2.20680012e-01, -1.42813189e+00,\n",
              "         4.61261704e-01,  4.17610797e-01,  1.57768827e+00,\n",
              "        -7.81282788e-01, -3.10207639e-01, -1.12665017e+00,\n",
              "         1.84109374e+00,  1.30329714e+00, -8.54519707e-01,\n",
              "        -1.40261285e+00, -1.29326739e+00,  9.24651123e-01,\n",
              "         3.99056145e-02,  9.28884013e-01, -4.00857906e-01,\n",
              "         4.66075618e-01, -1.29908866e+00,  1.12197532e+00,\n",
              "         1.46615875e+00,  1.34989113e+00, -4.40407306e-02,\n",
              "         1.37383914e+00,  3.03743884e-01, -8.58540889e-01,\n",
              "         1.58006032e+00,  3.33117245e-01,  1.07596073e+00,\n",
              "         2.88034774e-02, -1.77494487e-01, -3.39725893e-02,\n",
              "        -6.67648836e-01,  4.27427083e-01,  9.73342261e-01,\n",
              "         3.21497452e-01,  2.10969352e+00, -5.96857231e-01,\n",
              "         5.53874942e-01, -9.02033421e-01, -3.42778659e-01]])"
            ]
          },
          "metadata": {},
          "execution_count": 17
        }
      ]
    },
    {
      "cell_type": "code",
      "metadata": {
        "id": "2AKkBXaZwmNq",
        "colab": {
          "base_uri": "https://localhost:8080/"
        },
        "outputId": "9c938588-2744-40f0-b27f-5a9ec3420f37"
      },
      "source": [
        "labels[:10]"
      ],
      "execution_count": 18,
      "outputs": [
        {
          "output_type": "execute_result",
          "data": {
            "text/plain": [
              "array([[1],\n",
              "       [0],\n",
              "       [1],\n",
              "       [0],\n",
              "       [0],\n",
              "       [1],\n",
              "       [0],\n",
              "       [0],\n",
              "       [0],\n",
              "       [1]])"
            ]
          },
          "metadata": {},
          "execution_count": 18
        }
      ]
    },
    {
      "cell_type": "code",
      "metadata": {
        "id": "3YmwwLjZwpvE",
        "colab": {
          "base_uri": "https://localhost:8080/"
        },
        "outputId": "8ccc7b70-bf02-4d62-f0ea-2d9319cb2654"
      },
      "source": [
        "model = Sequential()\n",
        "model.add(Dense(units=32, activation='relu', input_shape=(150,)))\n",
        "model.add(Dense(1, activation='sigmoid'))\n",
        "\n",
        "model.compile(optimizer='rmsprop',\n",
        "              loss='binary_crossentropy',\n",
        "              metrics=['accuracy'])\n",
        "\n",
        "model.fit(data, labels, epochs=20)"
      ],
      "execution_count": 19,
      "outputs": [
        {
          "output_type": "stream",
          "name": "stdout",
          "text": [
            "Epoch 1/20\n",
            "32/32 [==============================] - 1s 3ms/step - loss: 0.9226 - accuracy: 0.5020\n",
            "Epoch 2/20\n",
            "32/32 [==============================] - 0s 2ms/step - loss: 0.7465 - accuracy: 0.5680\n",
            "Epoch 3/20\n",
            "32/32 [==============================] - 0s 2ms/step - loss: 0.6662 - accuracy: 0.6220\n",
            "Epoch 4/20\n",
            "32/32 [==============================] - 0s 3ms/step - loss: 0.6122 - accuracy: 0.6810\n",
            "Epoch 5/20\n",
            "32/32 [==============================] - 0s 2ms/step - loss: 0.5723 - accuracy: 0.7150\n",
            "Epoch 6/20\n",
            "32/32 [==============================] - 0s 2ms/step - loss: 0.5373 - accuracy: 0.7390\n",
            "Epoch 7/20\n",
            "32/32 [==============================] - 0s 2ms/step - loss: 0.5072 - accuracy: 0.7670\n",
            "Epoch 8/20\n",
            "32/32 [==============================] - 0s 2ms/step - loss: 0.4795 - accuracy: 0.7970\n",
            "Epoch 9/20\n",
            "32/32 [==============================] - 0s 2ms/step - loss: 0.4545 - accuracy: 0.8160\n",
            "Epoch 10/20\n",
            "32/32 [==============================] - 0s 3ms/step - loss: 0.4302 - accuracy: 0.8390\n",
            "Epoch 11/20\n",
            "32/32 [==============================] - 0s 4ms/step - loss: 0.4059 - accuracy: 0.8620\n",
            "Epoch 12/20\n",
            "32/32 [==============================] - 0s 4ms/step - loss: 0.3836 - accuracy: 0.8810\n",
            "Epoch 13/20\n",
            "32/32 [==============================] - 0s 4ms/step - loss: 0.3627 - accuracy: 0.8950\n",
            "Epoch 14/20\n",
            "32/32 [==============================] - 0s 4ms/step - loss: 0.3415 - accuracy: 0.9090\n",
            "Epoch 15/20\n",
            "32/32 [==============================] - 0s 3ms/step - loss: 0.3190 - accuracy: 0.9270\n",
            "Epoch 16/20\n",
            "32/32 [==============================] - 0s 4ms/step - loss: 0.2996 - accuracy: 0.9360\n",
            "Epoch 17/20\n",
            "32/32 [==============================] - 0s 3ms/step - loss: 0.2776 - accuracy: 0.9530\n",
            "Epoch 18/20\n",
            "32/32 [==============================] - 0s 3ms/step - loss: 0.2589 - accuracy: 0.9670\n",
            "Epoch 19/20\n",
            "32/32 [==============================] - 0s 3ms/step - loss: 0.2406 - accuracy: 0.9710\n",
            "Epoch 20/20\n",
            "32/32 [==============================] - 0s 3ms/step - loss: 0.2232 - accuracy: 0.9780\n"
          ]
        },
        {
          "output_type": "execute_result",
          "data": {
            "text/plain": [
              "<keras.src.callbacks.History at 0x7cb7ed179210>"
            ]
          },
          "metadata": {},
          "execution_count": 19
        }
      ]
    },
    {
      "cell_type": "code",
      "metadata": {
        "id": "5X_mtwLfy2d9",
        "colab": {
          "base_uri": "https://localhost:8080/"
        },
        "outputId": "674192b5-6a45-4fba-edfd-ae83571ce165"
      },
      "source": [
        "model = Sequential()\n",
        "model.add(Dense(units=32, activation='relu', input_shape=(150,)))\n",
        "model.add(Dense(1, activation='sigmoid'))\n",
        "\n",
        "model.compile(optimizer='rmsprop',\n",
        "              loss='binary_crossentropy',\n",
        "              metrics=['accuracy'])\n",
        "\n",
        "model.fit(data, labels, epochs=20, batch_size=30)"
      ],
      "execution_count": 20,
      "outputs": [
        {
          "output_type": "stream",
          "name": "stdout",
          "text": [
            "Epoch 1/20\n",
            "34/34 [==============================] - 1s 4ms/step - loss: 0.8234 - accuracy: 0.4820\n",
            "Epoch 2/20\n",
            "34/34 [==============================] - 0s 3ms/step - loss: 0.7288 - accuracy: 0.5320\n",
            "Epoch 3/20\n",
            "34/34 [==============================] - 0s 3ms/step - loss: 0.6744 - accuracy: 0.5860\n",
            "Epoch 4/20\n",
            "34/34 [==============================] - 0s 4ms/step - loss: 0.6332 - accuracy: 0.6420\n",
            "Epoch 5/20\n",
            "34/34 [==============================] - 0s 3ms/step - loss: 0.5990 - accuracy: 0.6630\n",
            "Epoch 6/20\n",
            "34/34 [==============================] - 0s 3ms/step - loss: 0.5677 - accuracy: 0.7080\n",
            "Epoch 7/20\n",
            "34/34 [==============================] - 0s 3ms/step - loss: 0.5396 - accuracy: 0.7520\n",
            "Epoch 8/20\n",
            "34/34 [==============================] - 0s 3ms/step - loss: 0.5145 - accuracy: 0.7650\n",
            "Epoch 9/20\n",
            "34/34 [==============================] - 0s 3ms/step - loss: 0.4907 - accuracy: 0.7780\n",
            "Epoch 10/20\n",
            "34/34 [==============================] - 0s 3ms/step - loss: 0.4675 - accuracy: 0.8020\n",
            "Epoch 11/20\n",
            "34/34 [==============================] - 0s 3ms/step - loss: 0.4457 - accuracy: 0.8200\n",
            "Epoch 12/20\n",
            "34/34 [==============================] - 0s 3ms/step - loss: 0.4233 - accuracy: 0.8430\n",
            "Epoch 13/20\n",
            "34/34 [==============================] - 0s 2ms/step - loss: 0.4020 - accuracy: 0.8610\n",
            "Epoch 14/20\n",
            "34/34 [==============================] - 0s 3ms/step - loss: 0.3814 - accuracy: 0.8810\n",
            "Epoch 15/20\n",
            "34/34 [==============================] - 0s 2ms/step - loss: 0.3582 - accuracy: 0.9000\n",
            "Epoch 16/20\n",
            "34/34 [==============================] - 0s 3ms/step - loss: 0.3383 - accuracy: 0.9170\n",
            "Epoch 17/20\n",
            "34/34 [==============================] - 0s 2ms/step - loss: 0.3169 - accuracy: 0.9340\n",
            "Epoch 18/20\n",
            "34/34 [==============================] - 0s 3ms/step - loss: 0.2963 - accuracy: 0.9450\n",
            "Epoch 19/20\n",
            "34/34 [==============================] - 0s 3ms/step - loss: 0.2767 - accuracy: 0.9540\n",
            "Epoch 20/20\n",
            "34/34 [==============================] - 0s 3ms/step - loss: 0.2566 - accuracy: 0.9700\n"
          ]
        },
        {
          "output_type": "execute_result",
          "data": {
            "text/plain": [
              "<keras.src.callbacks.History at 0x7cb7ec631c90>"
            ]
          },
          "metadata": {},
          "execution_count": 20
        }
      ]
    },
    {
      "cell_type": "code",
      "metadata": {
        "id": "xj5leE1dxK0-",
        "colab": {
          "base_uri": "https://localhost:8080/"
        },
        "outputId": "7479c9d2-f824-4878-eb2b-c09c79d19318"
      },
      "source": [
        "model = Sequential()\n",
        "model.add(Dense(units=32, activation='relu', input_shape=(150,)))\n",
        "model.add(Dense(1, activation='sigmoid'))\n",
        "\n",
        "model.compile(optimizer='rmsprop',\n",
        "              loss='binary_crossentropy',\n",
        "              metrics=['accuracy'])\n",
        "\n",
        "model.fit(data, labels, epochs=20, batch_size=32, validation_split=0.2)"
      ],
      "execution_count": 21,
      "outputs": [
        {
          "output_type": "stream",
          "name": "stdout",
          "text": [
            "Epoch 1/20\n",
            "25/25 [==============================] - 1s 11ms/step - loss: 0.8021 - accuracy: 0.4988 - val_loss: 0.7758 - val_accuracy: 0.4950\n",
            "Epoch 2/20\n",
            "25/25 [==============================] - 0s 3ms/step - loss: 0.7065 - accuracy: 0.5638 - val_loss: 0.7645 - val_accuracy: 0.4900\n",
            "Epoch 3/20\n",
            "25/25 [==============================] - 0s 4ms/step - loss: 0.6536 - accuracy: 0.6125 - val_loss: 0.7613 - val_accuracy: 0.4750\n",
            "Epoch 4/20\n",
            "25/25 [==============================] - 0s 3ms/step - loss: 0.6115 - accuracy: 0.6538 - val_loss: 0.7617 - val_accuracy: 0.4700\n",
            "Epoch 5/20\n",
            "25/25 [==============================] - 0s 3ms/step - loss: 0.5760 - accuracy: 0.7063 - val_loss: 0.7649 - val_accuracy: 0.4700\n",
            "Epoch 6/20\n",
            "25/25 [==============================] - 0s 4ms/step - loss: 0.5442 - accuracy: 0.7412 - val_loss: 0.7710 - val_accuracy: 0.4850\n",
            "Epoch 7/20\n",
            "25/25 [==============================] - 0s 3ms/step - loss: 0.5151 - accuracy: 0.7725 - val_loss: 0.7791 - val_accuracy: 0.4800\n",
            "Epoch 8/20\n",
            "25/25 [==============================] - 0s 3ms/step - loss: 0.4879 - accuracy: 0.8087 - val_loss: 0.7871 - val_accuracy: 0.4950\n",
            "Epoch 9/20\n",
            "25/25 [==============================] - 0s 3ms/step - loss: 0.4614 - accuracy: 0.8313 - val_loss: 0.7985 - val_accuracy: 0.4950\n",
            "Epoch 10/20\n",
            "25/25 [==============================] - 0s 4ms/step - loss: 0.4370 - accuracy: 0.8413 - val_loss: 0.8091 - val_accuracy: 0.5100\n",
            "Epoch 11/20\n",
            "25/25 [==============================] - 0s 3ms/step - loss: 0.4127 - accuracy: 0.8637 - val_loss: 0.8214 - val_accuracy: 0.5200\n",
            "Epoch 12/20\n",
            "25/25 [==============================] - 0s 4ms/step - loss: 0.3889 - accuracy: 0.8838 - val_loss: 0.8337 - val_accuracy: 0.5250\n",
            "Epoch 13/20\n",
            "25/25 [==============================] - 0s 4ms/step - loss: 0.3655 - accuracy: 0.9125 - val_loss: 0.8450 - val_accuracy: 0.5100\n",
            "Epoch 14/20\n",
            "25/25 [==============================] - 0s 4ms/step - loss: 0.3429 - accuracy: 0.9212 - val_loss: 0.8571 - val_accuracy: 0.5150\n",
            "Epoch 15/20\n",
            "25/25 [==============================] - 0s 3ms/step - loss: 0.3215 - accuracy: 0.9337 - val_loss: 0.8712 - val_accuracy: 0.5200\n",
            "Epoch 16/20\n",
            "25/25 [==============================] - 0s 3ms/step - loss: 0.3003 - accuracy: 0.9513 - val_loss: 0.8856 - val_accuracy: 0.5300\n",
            "Epoch 17/20\n",
            "25/25 [==============================] - 0s 3ms/step - loss: 0.2793 - accuracy: 0.9613 - val_loss: 0.8989 - val_accuracy: 0.5150\n",
            "Epoch 18/20\n",
            "25/25 [==============================] - 0s 3ms/step - loss: 0.2594 - accuracy: 0.9700 - val_loss: 0.9143 - val_accuracy: 0.5350\n",
            "Epoch 19/20\n",
            "25/25 [==============================] - 0s 3ms/step - loss: 0.2397 - accuracy: 0.9750 - val_loss: 0.9284 - val_accuracy: 0.5300\n",
            "Epoch 20/20\n",
            "25/25 [==============================] - 0s 4ms/step - loss: 0.2218 - accuracy: 0.9825 - val_loss: 0.9404 - val_accuracy: 0.5300\n"
          ]
        },
        {
          "output_type": "execute_result",
          "data": {
            "text/plain": [
              "<keras.src.callbacks.History at 0x7cb7ee4daec0>"
            ]
          },
          "metadata": {},
          "execution_count": 21
        }
      ]
    },
    {
      "cell_type": "code",
      "metadata": {
        "id": "N8O4byzjzHJC",
        "colab": {
          "base_uri": "https://localhost:8080/"
        },
        "outputId": "211f81ae-df44-4e30-deaa-64d8d47e3b7a"
      },
      "source": [
        "model = Sequential()\n",
        "model.add(Dense(units=32, activation='relu', input_shape=(150,)))\n",
        "model.add(Dense(1, activation='sigmoid'))\n",
        "\n",
        "model.compile(optimizer='rmsprop',\n",
        "              loss='binary_crossentropy',\n",
        "              metrics=['accuracy'])\n",
        "\n",
        "model.fit(data, labels, epochs=20, batch_size=32, validation_split=0.2, verbose=0)"
      ],
      "execution_count": 22,
      "outputs": [
        {
          "output_type": "execute_result",
          "data": {
            "text/plain": [
              "<keras.src.callbacks.History at 0x7cb7ee3cdfc0>"
            ]
          },
          "metadata": {},
          "execution_count": 22
        }
      ]
    },
    {
      "cell_type": "code",
      "metadata": {
        "id": "suJlatlYzQOD"
      },
      "source": [
        "model = Sequential()\n",
        "model.add(Dense(units=32, activation='relu', input_shape=(150,)))\n",
        "model.add(Dense(1, activation='sigmoid'))\n",
        "\n",
        "model.compile(optimizer='rmsprop',\n",
        "              loss='binary_crossentropy',\n",
        "              metrics=['accuracy'])\n",
        "\n",
        "history = model.fit(data, labels, epochs=20, batch_size=32, validation_split=0.2, verbose=0)"
      ],
      "execution_count": 23,
      "outputs": []
    },
    {
      "cell_type": "code",
      "metadata": {
        "id": "InFcS0sgzkf6",
        "colab": {
          "base_uri": "https://localhost:8080/"
        },
        "outputId": "f3483887-3a44-4020-9239-77b04830d902"
      },
      "source": [
        "metrics = history.history\n",
        "metrics.keys()"
      ],
      "execution_count": 24,
      "outputs": [
        {
          "output_type": "execute_result",
          "data": {
            "text/plain": [
              "dict_keys(['loss', 'accuracy', 'val_loss', 'val_accuracy'])"
            ]
          },
          "metadata": {},
          "execution_count": 24
        }
      ]
    },
    {
      "cell_type": "code",
      "metadata": {
        "id": "d9bUtGmXzzoY",
        "colab": {
          "base_uri": "https://localhost:8080/"
        },
        "outputId": "198dc9b8-97d8-44ec-dcb0-d4a938cbf55e"
      },
      "source": [
        "model = Sequential()\n",
        "model.add(Dense(units=32, activation='relu', input_shape=(150,)))\n",
        "model.add(Dense(1, activation='sigmoid'))\n",
        "\n",
        "model.compile(optimizer='rmsprop',\n",
        "              loss='binary_crossentropy',\n",
        "              metrics=['accuracy'])\n",
        "\n",
        "history = model.fit(data, labels, epochs=20, batch_size=32, validation_split=0.2, verbose=1)"
      ],
      "execution_count": 25,
      "outputs": [
        {
          "output_type": "stream",
          "name": "stdout",
          "text": [
            "Epoch 1/20\n",
            "25/25 [==============================] - 1s 10ms/step - loss: 0.7877 - accuracy: 0.5113 - val_loss: 0.8018 - val_accuracy: 0.5200\n",
            "Epoch 2/20\n",
            "25/25 [==============================] - 0s 3ms/step - loss: 0.6956 - accuracy: 0.5650 - val_loss: 0.7821 - val_accuracy: 0.5150\n",
            "Epoch 3/20\n",
            "25/25 [==============================] - 0s 3ms/step - loss: 0.6435 - accuracy: 0.6325 - val_loss: 0.7707 - val_accuracy: 0.5100\n",
            "Epoch 4/20\n",
            "25/25 [==============================] - 0s 3ms/step - loss: 0.6017 - accuracy: 0.6787 - val_loss: 0.7645 - val_accuracy: 0.5200\n",
            "Epoch 5/20\n",
            "25/25 [==============================] - 0s 3ms/step - loss: 0.5661 - accuracy: 0.7212 - val_loss: 0.7614 - val_accuracy: 0.5150\n",
            "Epoch 6/20\n",
            "25/25 [==============================] - 0s 3ms/step - loss: 0.5345 - accuracy: 0.7550 - val_loss: 0.7629 - val_accuracy: 0.5100\n",
            "Epoch 7/20\n",
            "25/25 [==============================] - 0s 3ms/step - loss: 0.5059 - accuracy: 0.7850 - val_loss: 0.7662 - val_accuracy: 0.5000\n",
            "Epoch 8/20\n",
            "25/25 [==============================] - 0s 3ms/step - loss: 0.4801 - accuracy: 0.8050 - val_loss: 0.7714 - val_accuracy: 0.5050\n",
            "Epoch 9/20\n",
            "25/25 [==============================] - 0s 4ms/step - loss: 0.4549 - accuracy: 0.8288 - val_loss: 0.7772 - val_accuracy: 0.5150\n",
            "Epoch 10/20\n",
            "25/25 [==============================] - 0s 3ms/step - loss: 0.4303 - accuracy: 0.8400 - val_loss: 0.7842 - val_accuracy: 0.5200\n",
            "Epoch 11/20\n",
            "25/25 [==============================] - 0s 4ms/step - loss: 0.4077 - accuracy: 0.8600 - val_loss: 0.7924 - val_accuracy: 0.5250\n",
            "Epoch 12/20\n",
            "25/25 [==============================] - 0s 4ms/step - loss: 0.3852 - accuracy: 0.8800 - val_loss: 0.8010 - val_accuracy: 0.5400\n",
            "Epoch 13/20\n",
            "25/25 [==============================] - 0s 3ms/step - loss: 0.3636 - accuracy: 0.8975 - val_loss: 0.8108 - val_accuracy: 0.5450\n",
            "Epoch 14/20\n",
            "25/25 [==============================] - 0s 3ms/step - loss: 0.3421 - accuracy: 0.9062 - val_loss: 0.8194 - val_accuracy: 0.5400\n",
            "Epoch 15/20\n",
            "25/25 [==============================] - 0s 4ms/step - loss: 0.3216 - accuracy: 0.9275 - val_loss: 0.8315 - val_accuracy: 0.5550\n",
            "Epoch 16/20\n",
            "25/25 [==============================] - 0s 3ms/step - loss: 0.3004 - accuracy: 0.9362 - val_loss: 0.8449 - val_accuracy: 0.5500\n",
            "Epoch 17/20\n",
            "25/25 [==============================] - 0s 3ms/step - loss: 0.2805 - accuracy: 0.9438 - val_loss: 0.8585 - val_accuracy: 0.5350\n",
            "Epoch 18/20\n",
            "25/25 [==============================] - 0s 4ms/step - loss: 0.2607 - accuracy: 0.9563 - val_loss: 0.8706 - val_accuracy: 0.5400\n",
            "Epoch 19/20\n",
            "25/25 [==============================] - 0s 3ms/step - loss: 0.2417 - accuracy: 0.9675 - val_loss: 0.8850 - val_accuracy: 0.5400\n",
            "Epoch 20/20\n",
            "25/25 [==============================] - 0s 3ms/step - loss: 0.2233 - accuracy: 0.9762 - val_loss: 0.8975 - val_accuracy: 0.5350\n"
          ]
        }
      ]
    },
    {
      "cell_type": "code",
      "metadata": {
        "id": "b1xtUueg0Tr9"
      },
      "source": [
        "test_data = np.random.randn(5, 150)\n",
        "test_labels = np.random.randint(2, size=(5, 1))"
      ],
      "execution_count": 26,
      "outputs": []
    },
    {
      "cell_type": "code",
      "metadata": {
        "id": "MIODWVx90nDf",
        "colab": {
          "base_uri": "https://localhost:8080/"
        },
        "outputId": "3e7067fe-ae1a-408b-9209-02df5b642a41"
      },
      "source": [
        "model.predict(test_data)"
      ],
      "execution_count": 27,
      "outputs": [
        {
          "output_type": "stream",
          "name": "stdout",
          "text": [
            "1/1 [==============================] - 0s 92ms/step\n"
          ]
        },
        {
          "output_type": "execute_result",
          "data": {
            "text/plain": [
              "array([[0.13844213],\n",
              "       [0.01177152],\n",
              "       [0.82608587],\n",
              "       [0.8736388 ],\n",
              "       [0.30251023]], dtype=float32)"
            ]
          },
          "metadata": {},
          "execution_count": 27
        }
      ]
    },
    {
      "cell_type": "code",
      "metadata": {
        "id": "c142k6Ev14k5",
        "colab": {
          "base_uri": "https://localhost:8080/"
        },
        "outputId": "04518bde-befe-4b59-a750-dede40362f3b"
      },
      "source": [
        "# model.predict_classes(test_data)\n",
        "np.argmax(model.predict([test_data]),axis=1)"
      ],
      "execution_count": 30,
      "outputs": [
        {
          "output_type": "stream",
          "name": "stdout",
          "text": [
            "1/1 [==============================] - 0s 27ms/step\n"
          ]
        },
        {
          "output_type": "execute_result",
          "data": {
            "text/plain": [
              "array([0, 0, 0, 0, 0])"
            ]
          },
          "metadata": {},
          "execution_count": 30
        }
      ]
    },
    {
      "cell_type": "markdown",
      "metadata": {
        "id": "AZymszuI28k-"
      },
      "source": [
        "### <a name='a5'></a> Przykład - klasyfikacja wieloklasowa"
      ]
    },
    {
      "cell_type": "code",
      "metadata": {
        "id": "tWIc_gVG2-_L"
      },
      "source": [
        "data = np.random.random((1000, 150))\n",
        "labels = np.random.randint(10, size=(1000, 1))"
      ],
      "execution_count": 31,
      "outputs": []
    },
    {
      "cell_type": "code",
      "metadata": {
        "id": "fnKrv8Mk3HSs",
        "colab": {
          "base_uri": "https://localhost:8080/"
        },
        "outputId": "20e0920d-5c54-41a4-9044-c4ac0224f550"
      },
      "source": [
        "print(data.shape)\n",
        "print(labels.shape)"
      ],
      "execution_count": 32,
      "outputs": [
        {
          "output_type": "stream",
          "name": "stdout",
          "text": [
            "(1000, 150)\n",
            "(1000, 1)\n"
          ]
        }
      ]
    },
    {
      "cell_type": "code",
      "metadata": {
        "id": "GEY2kQdz3Fi2",
        "colab": {
          "base_uri": "https://localhost:8080/"
        },
        "outputId": "1139dba0-ccb0-4c29-cfc7-b3a3e3731a82"
      },
      "source": [
        "data[:3]"
      ],
      "execution_count": 33,
      "outputs": [
        {
          "output_type": "execute_result",
          "data": {
            "text/plain": [
              "array([[0.87059882, 0.18526764, 0.62655261, 0.24254654, 0.39698467,\n",
              "        0.2083173 , 0.36746478, 0.54267581, 0.18665382, 0.52259485,\n",
              "        0.76532271, 0.22034749, 0.59892326, 0.33704254, 0.29890304,\n",
              "        0.5764454 , 0.33051808, 0.89748431, 0.26548045, 0.56633716,\n",
              "        0.19612378, 0.26875532, 0.65953067, 0.54493049, 0.47099873,\n",
              "        0.21745652, 0.35748556, 0.60944563, 0.19964613, 0.22024367,\n",
              "        0.70092363, 0.57789448, 0.45381274, 0.93655545, 0.47031412,\n",
              "        0.88579751, 0.46024371, 0.91015562, 0.51591922, 0.66208445,\n",
              "        0.92901845, 0.64967254, 0.48422373, 0.06034776, 0.94281289,\n",
              "        0.73987612, 0.77062622, 0.33369539, 0.80749066, 0.10670259,\n",
              "        0.42405703, 0.19262626, 0.09719076, 0.24770021, 0.84725227,\n",
              "        0.42993659, 0.76006786, 0.82505741, 0.17538209, 0.54280804,\n",
              "        0.59523593, 0.0756474 , 0.73979277, 0.13465165, 0.24407931,\n",
              "        0.09250047, 0.82159955, 0.91336674, 0.77325153, 0.41897029,\n",
              "        0.4339543 , 0.30141416, 0.59221951, 0.79282878, 0.35236957,\n",
              "        0.53566146, 0.39605312, 0.95944341, 0.56081398, 0.42426398,\n",
              "        0.17901975, 0.45847616, 0.33229113, 0.8547838 , 0.99342356,\n",
              "        0.2177628 , 0.75915505, 0.78486337, 0.56332261, 0.00400578,\n",
              "        0.12278152, 0.03614031, 0.02946474, 0.62167115, 0.19517985,\n",
              "        0.72141433, 0.2133255 , 0.03062469, 0.47939486, 0.15788537,\n",
              "        0.84527573, 0.76335725, 0.16570903, 0.57857846, 0.62588377,\n",
              "        0.50928878, 0.02587608, 0.49083034, 0.27877196, 0.03859752,\n",
              "        0.7857175 , 0.80477322, 0.95180527, 0.1988291 , 0.88463207,\n",
              "        0.88194128, 0.19949682, 0.71481496, 0.36586256, 0.04407205,\n",
              "        0.82499462, 0.66555021, 0.36962198, 0.44251644, 0.09312476,\n",
              "        0.63894691, 0.81081834, 0.54576491, 0.63503035, 0.16723083,\n",
              "        0.72457114, 0.90478432, 0.42078292, 0.34065412, 0.56442512,\n",
              "        0.64644146, 0.26023818, 0.90026818, 0.38172473, 0.0420656 ,\n",
              "        0.24722445, 0.27947784, 0.36235586, 0.65814575, 0.84065375,\n",
              "        0.70555546, 0.24038957, 0.90813714, 0.00209514, 0.27439786],\n",
              "       [0.90252882, 0.05933401, 0.73642661, 0.62468786, 0.12012433,\n",
              "        0.34796797, 0.77749919, 0.37333462, 0.48605762, 0.6974906 ,\n",
              "        0.49233454, 0.792316  , 0.88920239, 0.61151836, 0.33763186,\n",
              "        0.98107131, 0.52798202, 0.80915201, 0.68744386, 0.40008413,\n",
              "        0.07998409, 0.68859474, 0.58546484, 0.51113837, 0.67919097,\n",
              "        0.05313696, 0.73747253, 0.67209843, 0.82484702, 0.21630392,\n",
              "        0.14346112, 0.40605806, 0.91628977, 0.2353306 , 0.62214824,\n",
              "        0.0279933 , 0.21540261, 0.70387791, 0.20654085, 0.26810178,\n",
              "        0.50907657, 0.62972824, 0.83505255, 0.66299231, 0.36741485,\n",
              "        0.52890738, 0.09799881, 0.88562425, 0.17704189, 0.9736606 ,\n",
              "        0.87214026, 0.16196287, 0.25444152, 0.98932721, 0.2658833 ,\n",
              "        0.31890121, 0.32915345, 0.68545684, 0.01800242, 0.3558573 ,\n",
              "        0.55919378, 0.60052947, 0.21592834, 0.3999432 , 0.58608033,\n",
              "        0.23066969, 0.3922045 , 0.42389176, 0.63725775, 0.50387937,\n",
              "        0.48509379, 0.84070854, 0.04391834, 0.4645694 , 0.08985146,\n",
              "        0.02731462, 0.17476453, 0.38900162, 0.6909478 , 0.31244737,\n",
              "        0.391396  , 0.63101425, 0.97945998, 0.2037405 , 0.54278299,\n",
              "        0.72431143, 0.97943303, 0.27765738, 0.68512068, 0.71722288,\n",
              "        0.16786674, 0.18065956, 0.87548361, 0.98235393, 0.15440457,\n",
              "        0.62365482, 0.60653848, 0.15795831, 0.86711558, 0.8430677 ,\n",
              "        0.35968565, 0.01775362, 0.34760708, 0.23825965, 0.93014819,\n",
              "        0.94337464, 0.59134013, 0.89132764, 0.27614083, 0.68120292,\n",
              "        0.99273452, 0.80721276, 0.32270374, 0.89109538, 0.53569805,\n",
              "        0.75944172, 0.54435327, 0.60553957, 0.13898403, 0.92750417,\n",
              "        0.72536186, 0.99151161, 0.98797252, 0.02110089, 0.2444469 ,\n",
              "        0.670864  , 0.81272365, 0.18149756, 0.95744655, 0.24148453,\n",
              "        0.77397859, 0.23562482, 0.88825533, 0.39185051, 0.58027823,\n",
              "        0.13558009, 0.84537476, 0.97516699, 0.22722951, 0.85197113,\n",
              "        0.44960656, 0.95997167, 0.15673983, 0.57413975, 0.79274319,\n",
              "        0.49664737, 0.46874774, 0.8603589 , 0.02872277, 0.08476873],\n",
              "       [0.54149605, 0.6472212 , 0.7825616 , 0.08740177, 0.29291409,\n",
              "        0.068804  , 0.45962833, 0.10461415, 0.34398031, 0.79335815,\n",
              "        0.95703036, 0.34958426, 0.7072706 , 0.15019349, 0.66243686,\n",
              "        0.09775797, 0.00988711, 0.83911736, 0.2032394 , 0.48074036,\n",
              "        0.24648545, 0.60939719, 0.84062815, 0.41629892, 0.97463931,\n",
              "        0.06180367, 0.45710449, 0.94212728, 0.50302471, 0.10975018,\n",
              "        0.79813158, 0.04390275, 0.17179141, 0.19646646, 0.14001346,\n",
              "        0.52883851, 0.43340543, 0.88983428, 0.7849879 , 0.35572008,\n",
              "        0.9080058 , 0.53758235, 0.61308333, 0.14873961, 0.18216481,\n",
              "        0.94299492, 0.10441194, 0.65258898, 0.39180098, 0.07982035,\n",
              "        0.3355779 , 0.28240901, 0.47209535, 0.10570571, 0.79482338,\n",
              "        0.03230667, 0.85445155, 0.47136144, 0.84546173, 0.92665861,\n",
              "        0.81570694, 0.61706322, 0.12537609, 0.14967844, 0.60711279,\n",
              "        0.17420864, 0.17853688, 0.46517686, 0.98794142, 0.28556065,\n",
              "        0.69082737, 0.59070329, 0.70128823, 0.87585041, 0.37761305,\n",
              "        0.17897757, 0.94990395, 0.81540461, 0.58283642, 0.53119639,\n",
              "        0.9162702 , 0.85209847, 0.27820121, 0.98669845, 0.95725247,\n",
              "        0.34071206, 0.16523935, 0.93872692, 0.93713687, 0.22330451,\n",
              "        0.79278804, 0.59808635, 0.63793594, 0.01066323, 0.19092274,\n",
              "        0.80093911, 0.72330015, 0.79257558, 0.53166445, 0.15012932,\n",
              "        0.37226599, 0.81650357, 0.62672059, 0.89898557, 0.59933087,\n",
              "        0.66605565, 0.12999346, 0.01704559, 0.02310429, 0.97050454,\n",
              "        0.42997137, 0.71011207, 0.74273366, 0.68753861, 0.56305436,\n",
              "        0.42970255, 0.08840487, 0.15832563, 0.04780562, 0.1325399 ,\n",
              "        0.26905288, 0.18725751, 0.98442643, 0.40082002, 0.38553198,\n",
              "        0.40210783, 0.19119939, 0.15065032, 0.89995363, 0.36216086,\n",
              "        0.78405822, 0.13835508, 0.36633441, 0.02155948, 0.94779404,\n",
              "        0.62146237, 0.25659895, 0.25353335, 0.18237898, 0.37663244,\n",
              "        0.48481711, 0.29093198, 0.85209244, 0.65004155, 0.88543589,\n",
              "        0.48920546, 0.48024329, 0.36501101, 0.65242755, 0.61673953]])"
            ]
          },
          "metadata": {},
          "execution_count": 33
        }
      ]
    },
    {
      "cell_type": "code",
      "metadata": {
        "id": "-UM9ArPU3GZm",
        "colab": {
          "base_uri": "https://localhost:8080/"
        },
        "outputId": "7a748470-1bd8-44ac-e39e-fecef9a85252"
      },
      "source": [
        "labels[:10]"
      ],
      "execution_count": 34,
      "outputs": [
        {
          "output_type": "execute_result",
          "data": {
            "text/plain": [
              "array([[3],\n",
              "       [5],\n",
              "       [0],\n",
              "       [6],\n",
              "       [7],\n",
              "       [9],\n",
              "       [6],\n",
              "       [0],\n",
              "       [9],\n",
              "       [6]])"
            ]
          },
          "metadata": {},
          "execution_count": 34
        }
      ]
    },
    {
      "cell_type": "code",
      "metadata": {
        "id": "llauNV3D3OFK",
        "colab": {
          "base_uri": "https://localhost:8080/"
        },
        "outputId": "2f0c0712-ed5e-467d-dfa4-1fba7f2bedbc"
      },
      "source": [
        "from tensorflow.keras.utils import to_categorical\n",
        "labels = to_categorical(labels, num_classes=10)\n",
        "labels"
      ],
      "execution_count": 35,
      "outputs": [
        {
          "output_type": "execute_result",
          "data": {
            "text/plain": [
              "array([[0., 0., 0., ..., 0., 0., 0.],\n",
              "       [0., 0., 0., ..., 0., 0., 0.],\n",
              "       [1., 0., 0., ..., 0., 0., 0.],\n",
              "       ...,\n",
              "       [0., 0., 0., ..., 0., 1., 0.],\n",
              "       [0., 0., 0., ..., 0., 0., 0.],\n",
              "       [1., 0., 0., ..., 0., 0., 0.]], dtype=float32)"
            ]
          },
          "metadata": {},
          "execution_count": 35
        }
      ]
    },
    {
      "cell_type": "code",
      "metadata": {
        "id": "vORrZXRz7HUp",
        "colab": {
          "base_uri": "https://localhost:8080/"
        },
        "outputId": "f5b21cd6-70aa-4dfa-a59f-386e033ada2b"
      },
      "source": [
        "labels[1]"
      ],
      "execution_count": 36,
      "outputs": [
        {
          "output_type": "execute_result",
          "data": {
            "text/plain": [
              "array([0., 0., 0., 0., 0., 1., 0., 0., 0., 0.], dtype=float32)"
            ]
          },
          "metadata": {},
          "execution_count": 36
        }
      ]
    },
    {
      "cell_type": "code",
      "metadata": {
        "id": "k03Mdkup5yZ1",
        "colab": {
          "base_uri": "https://localhost:8080/"
        },
        "outputId": "6ad37903-85ce-4488-ae28-4cf2eb133314"
      },
      "source": [
        "model = Sequential()\n",
        "model.add(Dense(units=32, activation='relu', input_shape=(150,)))\n",
        "model.add(Dense(units=10, activation='softmax'))\n",
        "\n",
        "model.compile(optimizer='rmsprop',\n",
        "              loss='categorical_crossentropy',\n",
        "              metrics=['accuracy'])\n",
        "\n",
        "model.fit(data, labels, batch_size=32, epochs=30, validation_split=0.2)"
      ],
      "execution_count": 37,
      "outputs": [
        {
          "output_type": "stream",
          "name": "stdout",
          "text": [
            "Epoch 1/30\n",
            "25/25 [==============================] - 1s 11ms/step - loss: 2.3886 - accuracy: 0.0850 - val_loss: 2.3789 - val_accuracy: 0.1150\n",
            "Epoch 2/30\n",
            "25/25 [==============================] - 0s 4ms/step - loss: 2.3355 - accuracy: 0.1000 - val_loss: 2.3836 - val_accuracy: 0.1100\n",
            "Epoch 3/30\n",
            "25/25 [==============================] - 0s 3ms/step - loss: 2.3098 - accuracy: 0.1175 - val_loss: 2.3875 - val_accuracy: 0.0950\n",
            "Epoch 4/30\n",
            "25/25 [==============================] - 0s 3ms/step - loss: 2.2925 - accuracy: 0.1200 - val_loss: 2.3940 - val_accuracy: 0.1000\n",
            "Epoch 5/30\n",
            "25/25 [==============================] - 0s 3ms/step - loss: 2.2769 - accuracy: 0.1412 - val_loss: 2.4027 - val_accuracy: 0.0850\n",
            "Epoch 6/30\n",
            "25/25 [==============================] - 0s 4ms/step - loss: 2.2625 - accuracy: 0.1312 - val_loss: 2.4001 - val_accuracy: 0.0800\n",
            "Epoch 7/30\n",
            "25/25 [==============================] - 0s 4ms/step - loss: 2.2466 - accuracy: 0.1625 - val_loss: 2.3873 - val_accuracy: 0.0800\n",
            "Epoch 8/30\n",
            "25/25 [==============================] - 0s 3ms/step - loss: 2.2303 - accuracy: 0.1700 - val_loss: 2.4114 - val_accuracy: 0.0650\n",
            "Epoch 9/30\n",
            "25/25 [==============================] - 0s 4ms/step - loss: 2.2151 - accuracy: 0.1875 - val_loss: 2.3851 - val_accuracy: 0.1050\n",
            "Epoch 10/30\n",
            "25/25 [==============================] - 0s 4ms/step - loss: 2.1993 - accuracy: 0.1925 - val_loss: 2.3877 - val_accuracy: 0.1000\n",
            "Epoch 11/30\n",
            "25/25 [==============================] - 0s 4ms/step - loss: 2.1820 - accuracy: 0.2087 - val_loss: 2.3770 - val_accuracy: 0.1000\n",
            "Epoch 12/30\n",
            "25/25 [==============================] - 0s 3ms/step - loss: 2.1702 - accuracy: 0.2262 - val_loss: 2.4090 - val_accuracy: 0.0950\n",
            "Epoch 13/30\n",
            "25/25 [==============================] - 0s 3ms/step - loss: 2.1533 - accuracy: 0.2250 - val_loss: 2.4093 - val_accuracy: 0.1050\n",
            "Epoch 14/30\n",
            "25/25 [==============================] - 0s 3ms/step - loss: 2.1349 - accuracy: 0.2250 - val_loss: 2.4363 - val_accuracy: 0.0750\n",
            "Epoch 15/30\n",
            "25/25 [==============================] - 0s 4ms/step - loss: 2.1231 - accuracy: 0.2400 - val_loss: 2.4124 - val_accuracy: 0.0850\n",
            "Epoch 16/30\n",
            "25/25 [==============================] - 0s 4ms/step - loss: 2.1079 - accuracy: 0.2488 - val_loss: 2.4135 - val_accuracy: 0.1050\n",
            "Epoch 17/30\n",
            "25/25 [==============================] - 0s 4ms/step - loss: 2.0912 - accuracy: 0.2587 - val_loss: 2.4278 - val_accuracy: 0.1000\n",
            "Epoch 18/30\n",
            "25/25 [==============================] - 0s 4ms/step - loss: 2.0792 - accuracy: 0.2612 - val_loss: 2.4091 - val_accuracy: 0.1150\n",
            "Epoch 19/30\n",
            "25/25 [==============================] - 0s 5ms/step - loss: 2.0615 - accuracy: 0.2912 - val_loss: 2.4321 - val_accuracy: 0.0950\n",
            "Epoch 20/30\n",
            "25/25 [==============================] - 0s 4ms/step - loss: 2.0430 - accuracy: 0.2862 - val_loss: 2.4401 - val_accuracy: 0.0900\n",
            "Epoch 21/30\n",
            "25/25 [==============================] - 0s 3ms/step - loss: 2.0305 - accuracy: 0.3038 - val_loss: 2.4400 - val_accuracy: 0.1050\n",
            "Epoch 22/30\n",
            "25/25 [==============================] - 0s 5ms/step - loss: 2.0140 - accuracy: 0.3088 - val_loss: 2.4536 - val_accuracy: 0.0950\n",
            "Epoch 23/30\n",
            "25/25 [==============================] - 0s 3ms/step - loss: 1.9943 - accuracy: 0.3187 - val_loss: 2.4446 - val_accuracy: 0.0900\n",
            "Epoch 24/30\n",
            "25/25 [==============================] - 0s 4ms/step - loss: 1.9812 - accuracy: 0.3363 - val_loss: 2.4843 - val_accuracy: 0.1050\n",
            "Epoch 25/30\n",
            "25/25 [==============================] - 0s 5ms/step - loss: 1.9647 - accuracy: 0.3462 - val_loss: 2.4700 - val_accuracy: 0.1350\n",
            "Epoch 26/30\n",
            "25/25 [==============================] - 0s 4ms/step - loss: 1.9481 - accuracy: 0.3675 - val_loss: 2.4645 - val_accuracy: 0.0850\n",
            "Epoch 27/30\n",
            "25/25 [==============================] - 0s 4ms/step - loss: 1.9318 - accuracy: 0.3663 - val_loss: 2.4909 - val_accuracy: 0.1000\n",
            "Epoch 28/30\n",
            "25/25 [==============================] - 0s 4ms/step - loss: 1.9095 - accuracy: 0.3650 - val_loss: 2.5019 - val_accuracy: 0.0900\n",
            "Epoch 29/30\n",
            "25/25 [==============================] - 0s 5ms/step - loss: 1.9014 - accuracy: 0.3787 - val_loss: 2.5050 - val_accuracy: 0.0950\n",
            "Epoch 30/30\n",
            "25/25 [==============================] - 0s 6ms/step - loss: 1.8781 - accuracy: 0.4025 - val_loss: 2.5241 - val_accuracy: 0.0950\n"
          ]
        },
        {
          "output_type": "execute_result",
          "data": {
            "text/plain": [
              "<keras.src.callbacks.History at 0x7cb7ede94f10>"
            ]
          },
          "metadata": {},
          "execution_count": 37
        }
      ]
    },
    {
      "cell_type": "code",
      "metadata": {
        "id": "apTq9u_O63vu",
        "colab": {
          "base_uri": "https://localhost:8080/"
        },
        "outputId": "6ff82510-20f8-4e3c-c3aa-a1c87a7dc037"
      },
      "source": [
        "test_data = np.random.random((10, 150))\n",
        "\n",
        "model.predict(test_data)"
      ],
      "execution_count": 38,
      "outputs": [
        {
          "output_type": "stream",
          "name": "stdout",
          "text": [
            "1/1 [==============================] - 0s 65ms/step\n"
          ]
        },
        {
          "output_type": "execute_result",
          "data": {
            "text/plain": [
              "array([[0.034423  , 0.19718066, 0.02782645, 0.10375426, 0.05479557,\n",
              "        0.10958991, 0.08476692, 0.05603995, 0.25238806, 0.07923514],\n",
              "       [0.06338953, 0.12050509, 0.05425838, 0.0673142 , 0.07621435,\n",
              "        0.08992819, 0.2782857 , 0.06630394, 0.1562993 , 0.02750133],\n",
              "       [0.05700229, 0.1644979 , 0.04569856, 0.03740943, 0.03914012,\n",
              "        0.15948883, 0.04979756, 0.18156423, 0.1286781 , 0.13672301],\n",
              "       [0.02891554, 0.22784333, 0.05868195, 0.04762591, 0.02228471,\n",
              "        0.09557649, 0.06280507, 0.20774649, 0.16907524, 0.07944521],\n",
              "       [0.03411413, 0.08796184, 0.04910204, 0.1312851 , 0.02078518,\n",
              "        0.18763824, 0.05405382, 0.3276781 , 0.04179151, 0.0655901 ],\n",
              "       [0.09000365, 0.14075032, 0.1498025 , 0.08498677, 0.05459753,\n",
              "        0.13173008, 0.06813964, 0.08253836, 0.16117826, 0.03627285],\n",
              "       [0.08761305, 0.21909505, 0.04181908, 0.02528271, 0.0135838 ,\n",
              "        0.1605419 , 0.08622306, 0.21793467, 0.04750093, 0.10040581],\n",
              "       [0.12954499, 0.191891  , 0.0894362 , 0.07697958, 0.02143187,\n",
              "        0.11473753, 0.03912989, 0.11079183, 0.13467057, 0.09138649],\n",
              "       [0.02992166, 0.15252832, 0.06335456, 0.13771725, 0.09763834,\n",
              "        0.02586003, 0.09950224, 0.08752412, 0.10492592, 0.20102757],\n",
              "       [0.05894812, 0.14453207, 0.0628182 , 0.07017089, 0.09040678,\n",
              "        0.05691492, 0.26627976, 0.08941758, 0.1081086 , 0.05240311]],\n",
              "      dtype=float32)"
            ]
          },
          "metadata": {},
          "execution_count": 38
        }
      ]
    },
    {
      "cell_type": "code",
      "metadata": {
        "id": "Pd6vGftg8SHk",
        "colab": {
          "base_uri": "https://localhost:8080/"
        },
        "outputId": "3a7ab6a1-e54e-4564-92f7-47bf8f57b1b9"
      },
      "source": [
        "np.argmax(model.predict([test_data]),axis=1)"
      ],
      "execution_count": 39,
      "outputs": [
        {
          "output_type": "stream",
          "name": "stdout",
          "text": [
            "1/1 [==============================] - 0s 55ms/step\n"
          ]
        },
        {
          "output_type": "execute_result",
          "data": {
            "text/plain": [
              "array([8, 6, 7, 1, 7, 8, 1, 1, 9, 6])"
            ]
          },
          "metadata": {},
          "execution_count": 39
        }
      ]
    },
    {
      "cell_type": "markdown",
      "metadata": {
        "id": "FZuyR0UW8fP2"
      },
      "source": [
        "### <a name='a6'></a> Przykład - regresja"
      ]
    },
    {
      "cell_type": "code",
      "metadata": {
        "id": "Uj04-RVU8WNh"
      },
      "source": [
        "data = np.random.random((1000, 150))\n",
        "labels = 50 * np.random.random(1000)"
      ],
      "execution_count": 40,
      "outputs": []
    },
    {
      "cell_type": "code",
      "metadata": {
        "id": "nzjtUUE38pj4",
        "colab": {
          "base_uri": "https://localhost:8080/"
        },
        "outputId": "8ee8b372-5741-49d0-805e-f606a983de69"
      },
      "source": [
        "data[:3]"
      ],
      "execution_count": 41,
      "outputs": [
        {
          "output_type": "execute_result",
          "data": {
            "text/plain": [
              "array([[0.43397094, 0.4421883 , 0.89371478, 0.71394469, 0.66764667,\n",
              "        0.32047434, 0.85167535, 0.40884153, 0.24471669, 0.96528199,\n",
              "        0.94995253, 0.69350052, 0.84048874, 0.71622756, 0.52851942,\n",
              "        0.19358404, 0.19392345, 0.64826157, 0.72871542, 0.43651476,\n",
              "        0.84852477, 0.85540207, 0.95239853, 0.9582112 , 0.56735504,\n",
              "        0.18692151, 0.17620789, 0.49592157, 0.3119545 , 0.11535785,\n",
              "        0.37429963, 0.34511782, 0.06244098, 0.15638146, 0.02446566,\n",
              "        0.66286253, 0.98974502, 0.59456814, 0.16919683, 0.05272636,\n",
              "        0.53516802, 0.58589251, 0.13111043, 0.6427448 , 0.2882978 ,\n",
              "        0.99796352, 0.86872875, 0.65900401, 0.32499126, 0.14799482,\n",
              "        0.23500171, 0.3550156 , 0.29599146, 0.71469721, 0.95390892,\n",
              "        0.03011662, 0.93488357, 0.93977155, 0.52099488, 0.52818759,\n",
              "        0.11933072, 0.04080208, 0.53728012, 0.94547635, 0.44169857,\n",
              "        0.60810411, 0.93300083, 0.32197077, 0.27438265, 0.92321994,\n",
              "        0.8553804 , 0.76879964, 0.47203161, 0.03448588, 0.03955104,\n",
              "        0.10292286, 0.03955603, 0.25501409, 0.84011982, 0.62640444,\n",
              "        0.50841553, 0.4080893 , 0.59139093, 0.6236305 , 0.83591662,\n",
              "        0.06066297, 0.44111468, 0.81513117, 0.73976513, 0.77486509,\n",
              "        0.6536688 , 0.80397968, 0.46544717, 0.8771801 , 0.01294137,\n",
              "        0.6393418 , 0.04856146, 0.56092142, 0.50410904, 0.34056231,\n",
              "        0.1021008 , 0.65065192, 0.28654081, 0.69814823, 0.26364965,\n",
              "        0.72458675, 0.38953536, 0.75513782, 0.48031305, 0.05660106,\n",
              "        0.9437651 , 0.47628554, 0.96181572, 0.90224201, 0.98776778,\n",
              "        0.46801896, 0.46237332, 0.53873899, 0.22051836, 0.60887262,\n",
              "        0.15517347, 0.55934183, 0.45215314, 0.91925927, 0.69496795,\n",
              "        0.10225207, 0.19742595, 0.8585808 , 0.7640074 , 0.53529275,\n",
              "        0.98498398, 0.29975326, 0.28857098, 0.60984089, 0.68749499,\n",
              "        0.44298197, 0.29243323, 0.84405557, 0.77709796, 0.24376492,\n",
              "        0.09062887, 0.14156376, 0.34644865, 0.69000391, 0.11955727,\n",
              "        0.90041717, 0.64847136, 0.17430061, 0.43910799, 0.22298292],\n",
              "       [0.4900235 , 0.98622494, 0.80400824, 0.24598964, 0.94707451,\n",
              "        0.44366861, 0.34316798, 0.8774811 , 0.49245794, 0.73138758,\n",
              "        0.13936242, 0.49189647, 0.34848524, 0.89505979, 0.64296296,\n",
              "        0.70710191, 0.43124337, 0.01921631, 0.05591239, 0.88245038,\n",
              "        0.6624102 , 0.70258012, 0.96625851, 0.3716072 , 0.91962026,\n",
              "        0.8087296 , 0.59792749, 0.32512213, 0.25733863, 0.2443058 ,\n",
              "        0.80923701, 0.62637906, 0.78207649, 0.2455221 , 0.55558972,\n",
              "        0.10130886, 0.18491909, 0.71143299, 0.34308305, 0.05299219,\n",
              "        0.25114695, 0.61352111, 0.77260419, 0.11115357, 0.52369473,\n",
              "        0.31239794, 0.49661282, 0.95845567, 0.68772815, 0.29542702,\n",
              "        0.74036178, 0.03223895, 0.77149692, 0.56230785, 0.06934223,\n",
              "        0.78090983, 0.78314404, 0.3354583 , 0.23640589, 0.88080234,\n",
              "        0.12410677, 0.92183467, 0.55597873, 0.20368397, 0.94347319,\n",
              "        0.64936718, 0.13024459, 0.67142994, 0.27333164, 0.73731338,\n",
              "        0.25013608, 0.39120541, 0.28672535, 0.83464451, 0.35191922,\n",
              "        0.58871011, 0.46378504, 0.68168727, 0.33783276, 0.12769352,\n",
              "        0.68375222, 0.90627543, 0.9506299 , 0.65172455, 0.15752908,\n",
              "        0.12480829, 0.60596766, 0.78068789, 0.31239386, 0.15727632,\n",
              "        0.76201334, 0.64999191, 0.72130818, 0.14631592, 0.04298141,\n",
              "        0.15705337, 0.76608662, 0.48762626, 0.49258234, 0.35654717,\n",
              "        0.82870677, 0.3907221 , 0.90768692, 0.87104872, 0.2929704 ,\n",
              "        0.83339108, 0.07508112, 0.8713555 , 0.85041108, 0.62831571,\n",
              "        0.28682535, 0.60078304, 0.86971206, 0.79462191, 0.5347258 ,\n",
              "        0.77651115, 0.80141749, 0.42388586, 0.35406965, 0.37435699,\n",
              "        0.83545814, 0.8931679 , 0.36517055, 0.15006998, 0.70800378,\n",
              "        0.7614604 , 0.31497561, 0.40525055, 0.60154698, 0.07235353,\n",
              "        0.63483865, 0.5859094 , 0.13555978, 0.29003606, 0.09384107,\n",
              "        0.11921455, 0.17966497, 0.32150076, 0.88152944, 0.78046178,\n",
              "        0.10331288, 0.94101204, 0.67484174, 0.19152681, 0.41504353,\n",
              "        0.61378556, 0.21522552, 0.98708233, 0.9271441 , 0.11184224],\n",
              "       [0.37278018, 0.74895288, 0.78268813, 0.58214245, 0.16720103,\n",
              "        0.97563546, 0.31563306, 0.46249417, 0.16827534, 0.9625457 ,\n",
              "        0.33250598, 0.83824427, 0.51482919, 0.1026695 , 0.53058098,\n",
              "        0.36808153, 0.31453219, 0.97876944, 0.40757516, 0.61944613,\n",
              "        0.27529459, 0.57943374, 0.24019694, 0.70379965, 0.6306149 ,\n",
              "        0.83561743, 0.70642976, 0.60277155, 0.36046761, 0.0743677 ,\n",
              "        0.98858836, 0.87458561, 0.50054005, 0.52565559, 0.91569349,\n",
              "        0.33147545, 0.79929578, 0.88447551, 0.71122692, 0.04071757,\n",
              "        0.09226208, 0.37931387, 0.18495627, 0.57836043, 0.75485304,\n",
              "        0.73150702, 0.88494003, 0.71730014, 0.70991834, 0.78802995,\n",
              "        0.99725585, 0.06561373, 0.56424482, 0.06140028, 0.28505755,\n",
              "        0.96811031, 0.91531496, 0.72401382, 0.09471694, 0.77477394,\n",
              "        0.77989746, 0.69303191, 0.50036305, 0.23913078, 0.9191667 ,\n",
              "        0.89740438, 0.50009032, 0.00824254, 0.23846536, 0.18541531,\n",
              "        0.91785974, 0.26177404, 0.73622899, 0.16046611, 0.49021026,\n",
              "        0.84180816, 0.93775815, 0.9615962 , 0.30608303, 0.24787958,\n",
              "        0.91389935, 0.61360363, 0.46962178, 0.48959137, 0.86847857,\n",
              "        0.15764989, 0.21495281, 0.49123955, 0.53430476, 0.17159835,\n",
              "        0.0912536 , 0.73220938, 0.49527064, 0.75869732, 0.69487458,\n",
              "        0.65456405, 0.61026136, 0.73161734, 0.97685325, 0.08902589,\n",
              "        0.3081835 , 0.98266464, 0.98552242, 0.63689786, 0.60820396,\n",
              "        0.89635864, 0.25463367, 0.02963812, 0.05741805, 0.87755359,\n",
              "        0.25129113, 0.79495651, 0.57141435, 0.29216349, 0.43009091,\n",
              "        0.45088292, 0.28248204, 0.12501325, 0.43484043, 0.71725481,\n",
              "        0.79787283, 0.34432855, 0.08998519, 0.97723739, 0.67842127,\n",
              "        0.9556001 , 0.86101291, 0.71929106, 0.84148254, 0.91603609,\n",
              "        0.00723314, 0.47132585, 0.02796283, 0.02287869, 0.27458199,\n",
              "        0.25167524, 0.96955349, 0.71287128, 0.25143747, 0.68725204,\n",
              "        0.30667254, 0.75996313, 0.43574054, 0.97275451, 0.69835104,\n",
              "        0.94006404, 0.66196956, 0.90404681, 0.8004884 , 0.31795984]])"
            ]
          },
          "metadata": {},
          "execution_count": 41
        }
      ]
    },
    {
      "cell_type": "code",
      "metadata": {
        "id": "G9T_X5kr8qht",
        "colab": {
          "base_uri": "https://localhost:8080/"
        },
        "outputId": "2e78c298-74cf-4b7f-f933-6a592c8dabb5"
      },
      "source": [
        "labels[:10]"
      ],
      "execution_count": 42,
      "outputs": [
        {
          "output_type": "execute_result",
          "data": {
            "text/plain": [
              "array([46.03725189, 14.17700972, 23.72676303,  4.18379694, 41.44210331,\n",
              "       16.83861338,  0.7721302 , 22.35169655,  8.49587438,  2.96544863])"
            ]
          },
          "metadata": {},
          "execution_count": 42
        }
      ]
    },
    {
      "cell_type": "code",
      "metadata": {
        "id": "M3MEGPvy8rqz",
        "colab": {
          "base_uri": "https://localhost:8080/"
        },
        "outputId": "2d68f32c-0cfa-4874-b8ce-74018bd2853e"
      },
      "source": [
        "model = Sequential()\n",
        "model.add(Dense(units=32, activation='relu', input_shape=(150,)))\n",
        "model.add(Dense(units=1))\n",
        "\n",
        "model.compile(optimizer='rmsprop',\n",
        "              loss='mse')\n",
        "\n",
        "model.fit(data, labels, epochs=30, batch_size=32, validation_split=0.2)"
      ],
      "execution_count": 43,
      "outputs": [
        {
          "output_type": "stream",
          "name": "stdout",
          "text": [
            "Epoch 1/30\n",
            "25/25 [==============================] - 1s 8ms/step - loss: 527.3259 - val_loss: 342.5654\n",
            "Epoch 2/30\n",
            "25/25 [==============================] - 0s 4ms/step - loss: 267.5217 - val_loss: 210.2194\n",
            "Epoch 3/30\n",
            "25/25 [==============================] - 0s 3ms/step - loss: 205.3557 - val_loss: 200.2827\n",
            "Epoch 4/30\n",
            "25/25 [==============================] - 0s 4ms/step - loss: 202.6317 - val_loss: 200.2581\n",
            "Epoch 5/30\n",
            "25/25 [==============================] - 0s 4ms/step - loss: 202.3902 - val_loss: 199.6437\n",
            "Epoch 6/30\n",
            "25/25 [==============================] - 0s 3ms/step - loss: 202.2240 - val_loss: 199.6629\n",
            "Epoch 7/30\n",
            "25/25 [==============================] - 0s 3ms/step - loss: 200.9842 - val_loss: 199.9751\n",
            "Epoch 8/30\n",
            "25/25 [==============================] - 0s 3ms/step - loss: 200.6561 - val_loss: 199.7587\n",
            "Epoch 9/30\n",
            "25/25 [==============================] - 0s 4ms/step - loss: 200.0852 - val_loss: 200.6038\n",
            "Epoch 10/30\n",
            "25/25 [==============================] - 0s 3ms/step - loss: 199.4227 - val_loss: 200.4043\n",
            "Epoch 11/30\n",
            "25/25 [==============================] - 0s 4ms/step - loss: 199.7028 - val_loss: 200.1614\n",
            "Epoch 12/30\n",
            "25/25 [==============================] - 0s 4ms/step - loss: 198.7982 - val_loss: 200.9127\n",
            "Epoch 13/30\n",
            "25/25 [==============================] - 0s 4ms/step - loss: 198.4890 - val_loss: 201.2346\n",
            "Epoch 14/30\n",
            "25/25 [==============================] - 0s 4ms/step - loss: 197.7966 - val_loss: 200.6322\n",
            "Epoch 15/30\n",
            "25/25 [==============================] - 0s 3ms/step - loss: 198.1201 - val_loss: 200.8587\n",
            "Epoch 16/30\n",
            "25/25 [==============================] - 0s 4ms/step - loss: 197.2403 - val_loss: 200.3417\n",
            "Epoch 17/30\n",
            "25/25 [==============================] - 0s 4ms/step - loss: 197.0798 - val_loss: 201.0617\n",
            "Epoch 18/30\n",
            "25/25 [==============================] - 0s 3ms/step - loss: 196.4893 - val_loss: 201.2700\n",
            "Epoch 19/30\n",
            "25/25 [==============================] - 0s 4ms/step - loss: 196.2766 - val_loss: 202.0732\n",
            "Epoch 20/30\n",
            "25/25 [==============================] - 0s 3ms/step - loss: 196.3932 - val_loss: 200.9431\n",
            "Epoch 21/30\n",
            "25/25 [==============================] - 0s 3ms/step - loss: 195.2121 - val_loss: 201.4417\n",
            "Epoch 22/30\n",
            "25/25 [==============================] - 0s 3ms/step - loss: 195.2482 - val_loss: 201.0224\n",
            "Epoch 23/30\n",
            "25/25 [==============================] - 0s 3ms/step - loss: 194.5206 - val_loss: 201.2878\n",
            "Epoch 24/30\n",
            "25/25 [==============================] - 0s 4ms/step - loss: 194.4050 - val_loss: 201.5464\n",
            "Epoch 25/30\n",
            "25/25 [==============================] - 0s 4ms/step - loss: 194.0394 - val_loss: 201.4326\n",
            "Epoch 26/30\n",
            "25/25 [==============================] - 0s 3ms/step - loss: 193.1527 - val_loss: 201.5676\n",
            "Epoch 27/30\n",
            "25/25 [==============================] - 0s 7ms/step - loss: 193.7059 - val_loss: 201.7075\n",
            "Epoch 28/30\n",
            "25/25 [==============================] - 0s 12ms/step - loss: 192.5201 - val_loss: 201.9070\n",
            "Epoch 29/30\n",
            "25/25 [==============================] - 0s 12ms/step - loss: 192.4059 - val_loss: 202.0292\n",
            "Epoch 30/30\n",
            "25/25 [==============================] - 0s 7ms/step - loss: 191.7878 - val_loss: 202.8703\n"
          ]
        },
        {
          "output_type": "execute_result",
          "data": {
            "text/plain": [
              "<keras.src.callbacks.History at 0x7cb7eddca320>"
            ]
          },
          "metadata": {},
          "execution_count": 43
        }
      ]
    },
    {
      "cell_type": "code",
      "metadata": {
        "id": "jLUGCiun-ePp",
        "colab": {
          "base_uri": "https://localhost:8080/"
        },
        "outputId": "f96f8b8e-b020-4a69-fae0-3f6ede959423"
      },
      "source": [
        "model = Sequential()\n",
        "model.add(Dense(units=32, activation='relu', input_shape=(150,)))\n",
        "model.add(Dense(units=1))\n",
        "\n",
        "model.compile(optimizer='rmsprop',\n",
        "              loss='mae',\n",
        "              metrics=['mse'])\n",
        "\n",
        "model.fit(data, labels, epochs=30, batch_size=32, validation_split=0.2)"
      ],
      "execution_count": 44,
      "outputs": [
        {
          "output_type": "stream",
          "name": "stdout",
          "text": [
            "Epoch 1/30\n",
            "25/25 [==============================] - 1s 10ms/step - loss: 22.1055 - mse: 680.5535 - val_loss: 19.1588 - val_mse: 527.9791\n",
            "Epoch 2/30\n",
            "25/25 [==============================] - 0s 4ms/step - loss: 16.8877 - mse: 432.3296 - val_loss: 15.0180 - val_mse: 334.4890\n",
            "Epoch 3/30\n",
            "25/25 [==============================] - 0s 3ms/step - loss: 13.8521 - mse: 283.0201 - val_loss: 12.8673 - val_mse: 232.4642\n",
            "Epoch 4/30\n",
            "25/25 [==============================] - 0s 4ms/step - loss: 12.6268 - mse: 217.5674 - val_loss: 12.0920 - val_mse: 204.2663\n",
            "Epoch 5/30\n",
            "25/25 [==============================] - 0s 4ms/step - loss: 12.4383 - mse: 204.0243 - val_loss: 11.9746 - val_mse: 200.9927\n",
            "Epoch 6/30\n",
            "25/25 [==============================] - 0s 4ms/step - loss: 12.4082 - mse: 202.0670 - val_loss: 11.9605 - val_mse: 200.5426\n",
            "Epoch 7/30\n",
            "25/25 [==============================] - 0s 3ms/step - loss: 12.4003 - mse: 202.2694 - val_loss: 11.9630 - val_mse: 200.5944\n",
            "Epoch 8/30\n",
            "25/25 [==============================] - 0s 4ms/step - loss: 12.3897 - mse: 202.0845 - val_loss: 11.9811 - val_mse: 201.0404\n",
            "Epoch 9/30\n",
            "25/25 [==============================] - 0s 4ms/step - loss: 12.3688 - mse: 202.7017 - val_loss: 11.9603 - val_mse: 200.4158\n",
            "Epoch 10/30\n",
            "25/25 [==============================] - 0s 4ms/step - loss: 12.3512 - mse: 200.8179 - val_loss: 11.9950 - val_mse: 201.3281\n",
            "Epoch 11/30\n",
            "25/25 [==============================] - 0s 3ms/step - loss: 12.3461 - mse: 201.5426 - val_loss: 11.9688 - val_mse: 200.6006\n",
            "Epoch 12/30\n",
            "25/25 [==============================] - 0s 3ms/step - loss: 12.3583 - mse: 201.0258 - val_loss: 11.9673 - val_mse: 200.6275\n",
            "Epoch 13/30\n",
            "25/25 [==============================] - 0s 3ms/step - loss: 12.3330 - mse: 200.6247 - val_loss: 11.9684 - val_mse: 200.5875\n",
            "Epoch 14/30\n",
            "25/25 [==============================] - 0s 3ms/step - loss: 12.3364 - mse: 201.2460 - val_loss: 11.9750 - val_mse: 200.7385\n",
            "Epoch 15/30\n",
            "25/25 [==============================] - 0s 3ms/step - loss: 12.3158 - mse: 200.3059 - val_loss: 11.9747 - val_mse: 200.7319\n",
            "Epoch 16/30\n",
            "25/25 [==============================] - 0s 4ms/step - loss: 12.3103 - mse: 200.4249 - val_loss: 11.9822 - val_mse: 200.8924\n",
            "Epoch 17/30\n",
            "25/25 [==============================] - 0s 3ms/step - loss: 12.2967 - mse: 199.3809 - val_loss: 12.0329 - val_mse: 202.2489\n",
            "Epoch 18/30\n",
            "25/25 [==============================] - 0s 3ms/step - loss: 12.2710 - mse: 199.5728 - val_loss: 12.0311 - val_mse: 202.1533\n",
            "Epoch 19/30\n",
            "25/25 [==============================] - 0s 3ms/step - loss: 12.2616 - mse: 199.5296 - val_loss: 12.0397 - val_mse: 202.2142\n",
            "Epoch 20/30\n",
            "25/25 [==============================] - 0s 4ms/step - loss: 12.2661 - mse: 198.8147 - val_loss: 12.0202 - val_mse: 201.8506\n",
            "Epoch 21/30\n",
            "25/25 [==============================] - 0s 3ms/step - loss: 12.2222 - mse: 198.3152 - val_loss: 11.9988 - val_mse: 201.2325\n",
            "Epoch 22/30\n",
            "25/25 [==============================] - 0s 4ms/step - loss: 12.2201 - mse: 197.8579 - val_loss: 12.0113 - val_mse: 201.4652\n",
            "Epoch 23/30\n",
            "25/25 [==============================] - 0s 3ms/step - loss: 12.2041 - mse: 197.8944 - val_loss: 12.0318 - val_mse: 201.9749\n",
            "Epoch 24/30\n",
            "25/25 [==============================] - 0s 4ms/step - loss: 12.1959 - mse: 197.2644 - val_loss: 12.0134 - val_mse: 201.5891\n",
            "Epoch 25/30\n",
            "25/25 [==============================] - 0s 3ms/step - loss: 12.1729 - mse: 196.8904 - val_loss: 12.0452 - val_mse: 202.2778\n",
            "Epoch 26/30\n",
            "25/25 [==============================] - 0s 4ms/step - loss: 12.1672 - mse: 197.0828 - val_loss: 12.0345 - val_mse: 201.9286\n",
            "Epoch 27/30\n",
            "25/25 [==============================] - 0s 3ms/step - loss: 12.1362 - mse: 195.5992 - val_loss: 12.1001 - val_mse: 203.8036\n",
            "Epoch 28/30\n",
            "25/25 [==============================] - 0s 3ms/step - loss: 12.1448 - mse: 196.7662 - val_loss: 12.0519 - val_mse: 202.4541\n",
            "Epoch 29/30\n",
            "25/25 [==============================] - 0s 4ms/step - loss: 12.1080 - mse: 195.5948 - val_loss: 12.0747 - val_mse: 203.0095\n",
            "Epoch 30/30\n",
            "25/25 [==============================] - 0s 3ms/step - loss: 12.0950 - mse: 195.5220 - val_loss: 12.0425 - val_mse: 202.1464\n"
          ]
        },
        {
          "output_type": "execute_result",
          "data": {
            "text/plain": [
              "<keras.src.callbacks.History at 0x7cb7d97550f0>"
            ]
          },
          "metadata": {},
          "execution_count": 44
        }
      ]
    },
    {
      "cell_type": "code",
      "metadata": {
        "id": "0T9od2mo9KAF",
        "colab": {
          "base_uri": "https://localhost:8080/"
        },
        "outputId": "022b324d-8899-4b67-da4a-47408a58635b"
      },
      "source": [
        "test_data = np.random.random((10, 150))\n",
        "\n",
        "model.predict(test_data)"
      ],
      "execution_count": 46,
      "outputs": [
        {
          "output_type": "stream",
          "name": "stdout",
          "text": [
            "1/1 [==============================] - 0s 21ms/step\n"
          ]
        },
        {
          "output_type": "execute_result",
          "data": {
            "text/plain": [
              "array([[26.954998],\n",
              "       [24.652166],\n",
              "       [25.66503 ],\n",
              "       [24.35692 ],\n",
              "       [25.317545],\n",
              "       [22.911661],\n",
              "       [23.484037],\n",
              "       [28.524988],\n",
              "       [26.174173],\n",
              "       [25.29324 ]], dtype=float32)"
            ]
          },
          "metadata": {},
          "execution_count": 46
        }
      ]
    }
  ]
}