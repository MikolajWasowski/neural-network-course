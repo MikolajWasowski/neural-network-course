{
  "nbformat": 4,
  "nbformat_minor": 0,
  "metadata": {
    "colab": {
      "name": "Untitled0.ipynb",
      "provenance": [],
      "include_colab_link": true
    },
    "kernelspec": {
      "name": "python3",
      "display_name": "Python 3"
    }
  },
  "cells": [
    {
      "cell_type": "markdown",
      "metadata": {
        "id": "view-in-github",
        "colab_type": "text"
      },
      "source": [
        "<a href=\"https://colab.research.google.com/github/MikolajWasowski/neural-network-course/blob/master/02_basics/05_regression_metrics.ipynb\" target=\"_parent\"><img src=\"https://colab.research.google.com/assets/colab-badge.svg\" alt=\"Open In Colab\"/></a>"
      ]
    },
    {
      "cell_type": "markdown",
      "metadata": {
        "id": "s7odle6bUA9l"
      },
      "source": [
        "* @author: krakowiakpawel9@gmail.com  \n",
        "* @site: e-smartdata.org"
      ]
    },
    {
      "cell_type": "markdown",
      "metadata": {
        "id": "5gjFu2l9IMsj"
      },
      "source": [
        "### Metryki - Problem regresji:\n",
        "1. [Import bibliotek](#a0)\n",
        "2. [Metryki](#a1)\n",
        "    1. [Interpretacja graficzna](#a2)\n",
        "    2. [Mean Absolute Error - MAE](#a3)\n",
        "    3. [Mean Squared Error - MSE](#a4)\n",
        "    4. [Root Mean Squared Error - RMSE](#a5)\n",
        "    5. [Max Error](#a6)\n",
        "    6. [R2 score - współczynnik determinacji](#a7)\n",
        "\n",
        "    "
      ]
    },
    {
      "cell_type": "markdown",
      "metadata": {
        "id": "1Dc4DhtS7LTD"
      },
      "source": [
        "### <a name='a0'></a> 1. Import bibliotek"
      ]
    },
    {
      "cell_type": "code",
      "metadata": {
        "id": "qQZ7LNIt7KAY",
        "colab": {
          "base_uri": "https://localhost:8080/",
          "height": 35
        },
        "outputId": "abeb172f-a065-4c76-b70a-c0715ef08571"
      },
      "source": [
        "import numpy as np\n",
        "import pandas as pd\n",
        "import plotly.express as px\n",
        "import plotly.graph_objects as go\n",
        "import tensorflow as tf\n",
        "tf.__version__"
      ],
      "execution_count": 2,
      "outputs": [
        {
          "output_type": "execute_result",
          "data": {
            "text/plain": [
              "'2.15.0'"
            ],
            "application/vnd.google.colaboratory.intrinsic+json": {
              "type": "string"
            }
          },
          "metadata": {},
          "execution_count": 2
        }
      ]
    },
    {
      "cell_type": "code",
      "metadata": {
        "id": "GhNVhidb7SG7",
        "colab": {
          "base_uri": "https://localhost:8080/"
        },
        "outputId": "f2d4e4ae-57b2-40e9-bef6-13cd64f90311"
      },
      "source": [
        "y_true = 100 + 20 * np.random.randn(50)\n",
        "y_true"
      ],
      "execution_count": 3,
      "outputs": [
        {
          "output_type": "execute_result",
          "data": {
            "text/plain": [
              "array([123.92389659,  89.39931381, 121.14423549,  84.63020683,\n",
              "        99.14156389,  68.05849165, 115.39621296,  97.6188764 ,\n",
              "        97.58625716, 126.57903538,  83.40546409,  81.65539043,\n",
              "       124.50065955,  68.96696764,  82.91261483, 101.24511589,\n",
              "        96.26153077,  98.3008419 , 102.18640597,  70.54994806,\n",
              "        93.15377585,  93.30287284,  87.48530346, 122.6960646 ,\n",
              "        73.19810302, 135.10613117, 102.91543809,  86.32416435,\n",
              "       108.52949543, 108.99468291, 117.95962506, 107.23824803,\n",
              "       103.6891406 , 110.12715677, 108.62386682,  70.15670672,\n",
              "       117.71796318, 108.79136727, 118.75704215, 106.10814578,\n",
              "       104.10972574,  75.02620014,  85.90288784, 117.6277488 ,\n",
              "       118.41868757, 123.12723979,  82.33879737, 101.40450409,\n",
              "       106.45015329, 110.90819584])"
            ]
          },
          "metadata": {},
          "execution_count": 3
        }
      ]
    },
    {
      "cell_type": "code",
      "metadata": {
        "id": "HuAJr61k7cJV",
        "colab": {
          "base_uri": "https://localhost:8080/"
        },
        "outputId": "0a798289-c1cc-4c8c-ae11-4d9a5e4a82be"
      },
      "source": [
        "y_pred = y_true + 10 * np.random.randn(50)\n",
        "y_pred"
      ],
      "execution_count": 4,
      "outputs": [
        {
          "output_type": "execute_result",
          "data": {
            "text/plain": [
              "array([128.72995168,  93.98312015, 123.39373668,  85.47212599,\n",
              "        69.87352396,  77.10117156, 122.42247999,  95.08091471,\n",
              "       104.35305488, 124.01104997,  82.29090629,  79.79584917,\n",
              "       121.73358808,  75.13929055,  83.87615905, 101.12977869,\n",
              "       109.63393567,  83.49700727, 123.45194133,  76.92769988,\n",
              "        90.54638778,  92.57913662,  98.71592956, 122.55574541,\n",
              "        83.9466003 , 141.50594936, 123.7523451 ,  95.86821098,\n",
              "       118.34306392, 130.38232345, 117.45061294, 116.66362073,\n",
              "       111.83710436,  83.17547352, 127.32374207,  67.20517118,\n",
              "       117.76419571,  97.80179886, 115.92432735, 110.07183935,\n",
              "       104.23035725,  82.68262085,  90.68542208, 107.21550897,\n",
              "       121.73723564, 131.69827843,  90.22063191, 103.04237368,\n",
              "       110.80233663, 113.62240687])"
            ]
          },
          "metadata": {},
          "execution_count": 4
        }
      ]
    },
    {
      "cell_type": "code",
      "metadata": {
        "id": "8V3ah8zL7n2P",
        "colab": {
          "base_uri": "https://localhost:8080/",
          "height": 206
        },
        "outputId": "2e5e1e66-6914-4eed-9950-073857156233"
      },
      "source": [
        "results = pd.DataFrame({'y_true': y_true, 'y_pred': y_pred})\n",
        "results.head()"
      ],
      "execution_count": 5,
      "outputs": [
        {
          "output_type": "execute_result",
          "data": {
            "text/plain": [
              "       y_true      y_pred\n",
              "0  123.923897  128.729952\n",
              "1   89.399314   93.983120\n",
              "2  121.144235  123.393737\n",
              "3   84.630207   85.472126\n",
              "4   99.141564   69.873524"
            ],
            "text/html": [
              "\n",
              "  <div id=\"df-447e0ad8-35c0-4b7e-b9b5-d2216f5be75f\" class=\"colab-df-container\">\n",
              "    <div>\n",
              "<style scoped>\n",
              "    .dataframe tbody tr th:only-of-type {\n",
              "        vertical-align: middle;\n",
              "    }\n",
              "\n",
              "    .dataframe tbody tr th {\n",
              "        vertical-align: top;\n",
              "    }\n",
              "\n",
              "    .dataframe thead th {\n",
              "        text-align: right;\n",
              "    }\n",
              "</style>\n",
              "<table border=\"1\" class=\"dataframe\">\n",
              "  <thead>\n",
              "    <tr style=\"text-align: right;\">\n",
              "      <th></th>\n",
              "      <th>y_true</th>\n",
              "      <th>y_pred</th>\n",
              "    </tr>\n",
              "  </thead>\n",
              "  <tbody>\n",
              "    <tr>\n",
              "      <th>0</th>\n",
              "      <td>123.923897</td>\n",
              "      <td>128.729952</td>\n",
              "    </tr>\n",
              "    <tr>\n",
              "      <th>1</th>\n",
              "      <td>89.399314</td>\n",
              "      <td>93.983120</td>\n",
              "    </tr>\n",
              "    <tr>\n",
              "      <th>2</th>\n",
              "      <td>121.144235</td>\n",
              "      <td>123.393737</td>\n",
              "    </tr>\n",
              "    <tr>\n",
              "      <th>3</th>\n",
              "      <td>84.630207</td>\n",
              "      <td>85.472126</td>\n",
              "    </tr>\n",
              "    <tr>\n",
              "      <th>4</th>\n",
              "      <td>99.141564</td>\n",
              "      <td>69.873524</td>\n",
              "    </tr>\n",
              "  </tbody>\n",
              "</table>\n",
              "</div>\n",
              "    <div class=\"colab-df-buttons\">\n",
              "\n",
              "  <div class=\"colab-df-container\">\n",
              "    <button class=\"colab-df-convert\" onclick=\"convertToInteractive('df-447e0ad8-35c0-4b7e-b9b5-d2216f5be75f')\"\n",
              "            title=\"Convert this dataframe to an interactive table.\"\n",
              "            style=\"display:none;\">\n",
              "\n",
              "  <svg xmlns=\"http://www.w3.org/2000/svg\" height=\"24px\" viewBox=\"0 -960 960 960\">\n",
              "    <path d=\"M120-120v-720h720v720H120Zm60-500h600v-160H180v160Zm220 220h160v-160H400v160Zm0 220h160v-160H400v160ZM180-400h160v-160H180v160Zm440 0h160v-160H620v160ZM180-180h160v-160H180v160Zm440 0h160v-160H620v160Z\"/>\n",
              "  </svg>\n",
              "    </button>\n",
              "\n",
              "  <style>\n",
              "    .colab-df-container {\n",
              "      display:flex;\n",
              "      gap: 12px;\n",
              "    }\n",
              "\n",
              "    .colab-df-convert {\n",
              "      background-color: #E8F0FE;\n",
              "      border: none;\n",
              "      border-radius: 50%;\n",
              "      cursor: pointer;\n",
              "      display: none;\n",
              "      fill: #1967D2;\n",
              "      height: 32px;\n",
              "      padding: 0 0 0 0;\n",
              "      width: 32px;\n",
              "    }\n",
              "\n",
              "    .colab-df-convert:hover {\n",
              "      background-color: #E2EBFA;\n",
              "      box-shadow: 0px 1px 2px rgba(60, 64, 67, 0.3), 0px 1px 3px 1px rgba(60, 64, 67, 0.15);\n",
              "      fill: #174EA6;\n",
              "    }\n",
              "\n",
              "    .colab-df-buttons div {\n",
              "      margin-bottom: 4px;\n",
              "    }\n",
              "\n",
              "    [theme=dark] .colab-df-convert {\n",
              "      background-color: #3B4455;\n",
              "      fill: #D2E3FC;\n",
              "    }\n",
              "\n",
              "    [theme=dark] .colab-df-convert:hover {\n",
              "      background-color: #434B5C;\n",
              "      box-shadow: 0px 1px 3px 1px rgba(0, 0, 0, 0.15);\n",
              "      filter: drop-shadow(0px 1px 2px rgba(0, 0, 0, 0.3));\n",
              "      fill: #FFFFFF;\n",
              "    }\n",
              "  </style>\n",
              "\n",
              "    <script>\n",
              "      const buttonEl =\n",
              "        document.querySelector('#df-447e0ad8-35c0-4b7e-b9b5-d2216f5be75f button.colab-df-convert');\n",
              "      buttonEl.style.display =\n",
              "        google.colab.kernel.accessAllowed ? 'block' : 'none';\n",
              "\n",
              "      async function convertToInteractive(key) {\n",
              "        const element = document.querySelector('#df-447e0ad8-35c0-4b7e-b9b5-d2216f5be75f');\n",
              "        const dataTable =\n",
              "          await google.colab.kernel.invokeFunction('convertToInteractive',\n",
              "                                                    [key], {});\n",
              "        if (!dataTable) return;\n",
              "\n",
              "        const docLinkHtml = 'Like what you see? Visit the ' +\n",
              "          '<a target=\"_blank\" href=https://colab.research.google.com/notebooks/data_table.ipynb>data table notebook</a>'\n",
              "          + ' to learn more about interactive tables.';\n",
              "        element.innerHTML = '';\n",
              "        dataTable['output_type'] = 'display_data';\n",
              "        await google.colab.output.renderOutput(dataTable, element);\n",
              "        const docLink = document.createElement('div');\n",
              "        docLink.innerHTML = docLinkHtml;\n",
              "        element.appendChild(docLink);\n",
              "      }\n",
              "    </script>\n",
              "  </div>\n",
              "\n",
              "\n",
              "<div id=\"df-9fa9793d-8a49-429c-ae00-782ebf7e63d9\">\n",
              "  <button class=\"colab-df-quickchart\" onclick=\"quickchart('df-9fa9793d-8a49-429c-ae00-782ebf7e63d9')\"\n",
              "            title=\"Suggest charts\"\n",
              "            style=\"display:none;\">\n",
              "\n",
              "<svg xmlns=\"http://www.w3.org/2000/svg\" height=\"24px\"viewBox=\"0 0 24 24\"\n",
              "     width=\"24px\">\n",
              "    <g>\n",
              "        <path d=\"M19 3H5c-1.1 0-2 .9-2 2v14c0 1.1.9 2 2 2h14c1.1 0 2-.9 2-2V5c0-1.1-.9-2-2-2zM9 17H7v-7h2v7zm4 0h-2V7h2v10zm4 0h-2v-4h2v4z\"/>\n",
              "    </g>\n",
              "</svg>\n",
              "  </button>\n",
              "\n",
              "<style>\n",
              "  .colab-df-quickchart {\n",
              "      --bg-color: #E8F0FE;\n",
              "      --fill-color: #1967D2;\n",
              "      --hover-bg-color: #E2EBFA;\n",
              "      --hover-fill-color: #174EA6;\n",
              "      --disabled-fill-color: #AAA;\n",
              "      --disabled-bg-color: #DDD;\n",
              "  }\n",
              "\n",
              "  [theme=dark] .colab-df-quickchart {\n",
              "      --bg-color: #3B4455;\n",
              "      --fill-color: #D2E3FC;\n",
              "      --hover-bg-color: #434B5C;\n",
              "      --hover-fill-color: #FFFFFF;\n",
              "      --disabled-bg-color: #3B4455;\n",
              "      --disabled-fill-color: #666;\n",
              "  }\n",
              "\n",
              "  .colab-df-quickchart {\n",
              "    background-color: var(--bg-color);\n",
              "    border: none;\n",
              "    border-radius: 50%;\n",
              "    cursor: pointer;\n",
              "    display: none;\n",
              "    fill: var(--fill-color);\n",
              "    height: 32px;\n",
              "    padding: 0;\n",
              "    width: 32px;\n",
              "  }\n",
              "\n",
              "  .colab-df-quickchart:hover {\n",
              "    background-color: var(--hover-bg-color);\n",
              "    box-shadow: 0 1px 2px rgba(60, 64, 67, 0.3), 0 1px 3px 1px rgba(60, 64, 67, 0.15);\n",
              "    fill: var(--button-hover-fill-color);\n",
              "  }\n",
              "\n",
              "  .colab-df-quickchart-complete:disabled,\n",
              "  .colab-df-quickchart-complete:disabled:hover {\n",
              "    background-color: var(--disabled-bg-color);\n",
              "    fill: var(--disabled-fill-color);\n",
              "    box-shadow: none;\n",
              "  }\n",
              "\n",
              "  .colab-df-spinner {\n",
              "    border: 2px solid var(--fill-color);\n",
              "    border-color: transparent;\n",
              "    border-bottom-color: var(--fill-color);\n",
              "    animation:\n",
              "      spin 1s steps(1) infinite;\n",
              "  }\n",
              "\n",
              "  @keyframes spin {\n",
              "    0% {\n",
              "      border-color: transparent;\n",
              "      border-bottom-color: var(--fill-color);\n",
              "      border-left-color: var(--fill-color);\n",
              "    }\n",
              "    20% {\n",
              "      border-color: transparent;\n",
              "      border-left-color: var(--fill-color);\n",
              "      border-top-color: var(--fill-color);\n",
              "    }\n",
              "    30% {\n",
              "      border-color: transparent;\n",
              "      border-left-color: var(--fill-color);\n",
              "      border-top-color: var(--fill-color);\n",
              "      border-right-color: var(--fill-color);\n",
              "    }\n",
              "    40% {\n",
              "      border-color: transparent;\n",
              "      border-right-color: var(--fill-color);\n",
              "      border-top-color: var(--fill-color);\n",
              "    }\n",
              "    60% {\n",
              "      border-color: transparent;\n",
              "      border-right-color: var(--fill-color);\n",
              "    }\n",
              "    80% {\n",
              "      border-color: transparent;\n",
              "      border-right-color: var(--fill-color);\n",
              "      border-bottom-color: var(--fill-color);\n",
              "    }\n",
              "    90% {\n",
              "      border-color: transparent;\n",
              "      border-bottom-color: var(--fill-color);\n",
              "    }\n",
              "  }\n",
              "</style>\n",
              "\n",
              "  <script>\n",
              "    async function quickchart(key) {\n",
              "      const quickchartButtonEl =\n",
              "        document.querySelector('#' + key + ' button');\n",
              "      quickchartButtonEl.disabled = true;  // To prevent multiple clicks.\n",
              "      quickchartButtonEl.classList.add('colab-df-spinner');\n",
              "      try {\n",
              "        const charts = await google.colab.kernel.invokeFunction(\n",
              "            'suggestCharts', [key], {});\n",
              "      } catch (error) {\n",
              "        console.error('Error during call to suggestCharts:', error);\n",
              "      }\n",
              "      quickchartButtonEl.classList.remove('colab-df-spinner');\n",
              "      quickchartButtonEl.classList.add('colab-df-quickchart-complete');\n",
              "    }\n",
              "    (() => {\n",
              "      let quickchartButtonEl =\n",
              "        document.querySelector('#df-9fa9793d-8a49-429c-ae00-782ebf7e63d9 button');\n",
              "      quickchartButtonEl.style.display =\n",
              "        google.colab.kernel.accessAllowed ? 'block' : 'none';\n",
              "    })();\n",
              "  </script>\n",
              "</div>\n",
              "    </div>\n",
              "  </div>\n"
            ],
            "application/vnd.google.colaboratory.intrinsic+json": {
              "type": "dataframe",
              "variable_name": "results",
              "summary": "{\n  \"name\": \"results\",\n  \"rows\": 50,\n  \"fields\": [\n    {\n      \"column\": \"y_true\",\n      \"properties\": {\n        \"dtype\": \"number\",\n        \"std\": 17.18376293233927,\n        \"min\": 68.05849165172673,\n        \"max\": 135.10613116674148,\n        \"num_unique_values\": 50,\n        \"samples\": [\n          68.96696764462556,\n          106.10814577745853,\n          117.95962506371373\n        ],\n        \"semantic_type\": \"\",\n        \"description\": \"\"\n      }\n    },\n    {\n      \"column\": \"y_pred\",\n      \"properties\": {\n        \"dtype\": \"number\",\n        \"std\": 18.821581449301977,\n        \"min\": 67.2051711801855,\n        \"max\": 141.5059493622939,\n        \"num_unique_values\": 50,\n        \"samples\": [\n          75.13929055162549,\n          110.07183935097797,\n          117.45061293502262\n        ],\n        \"semantic_type\": \"\",\n        \"description\": \"\"\n      }\n    }\n  ]\n}"
            }
          },
          "metadata": {},
          "execution_count": 5
        }
      ]
    },
    {
      "cell_type": "code",
      "metadata": {
        "id": "SPMt-m1e78VI",
        "colab": {
          "base_uri": "https://localhost:8080/",
          "height": 206
        },
        "outputId": "01040857-7f9b-402b-b1a4-b51394e6764d"
      },
      "source": [
        "results['error'] = results['y_true'] - results['y_pred']\n",
        "results.head()"
      ],
      "execution_count": 6,
      "outputs": [
        {
          "output_type": "execute_result",
          "data": {
            "text/plain": [
              "       y_true      y_pred      error\n",
              "0  123.923897  128.729952  -4.806055\n",
              "1   89.399314   93.983120  -4.583806\n",
              "2  121.144235  123.393737  -2.249501\n",
              "3   84.630207   85.472126  -0.841919\n",
              "4   99.141564   69.873524  29.268040"
            ],
            "text/html": [
              "\n",
              "  <div id=\"df-198358f3-fcb7-47ec-abab-fa4bd1911d39\" class=\"colab-df-container\">\n",
              "    <div>\n",
              "<style scoped>\n",
              "    .dataframe tbody tr th:only-of-type {\n",
              "        vertical-align: middle;\n",
              "    }\n",
              "\n",
              "    .dataframe tbody tr th {\n",
              "        vertical-align: top;\n",
              "    }\n",
              "\n",
              "    .dataframe thead th {\n",
              "        text-align: right;\n",
              "    }\n",
              "</style>\n",
              "<table border=\"1\" class=\"dataframe\">\n",
              "  <thead>\n",
              "    <tr style=\"text-align: right;\">\n",
              "      <th></th>\n",
              "      <th>y_true</th>\n",
              "      <th>y_pred</th>\n",
              "      <th>error</th>\n",
              "    </tr>\n",
              "  </thead>\n",
              "  <tbody>\n",
              "    <tr>\n",
              "      <th>0</th>\n",
              "      <td>123.923897</td>\n",
              "      <td>128.729952</td>\n",
              "      <td>-4.806055</td>\n",
              "    </tr>\n",
              "    <tr>\n",
              "      <th>1</th>\n",
              "      <td>89.399314</td>\n",
              "      <td>93.983120</td>\n",
              "      <td>-4.583806</td>\n",
              "    </tr>\n",
              "    <tr>\n",
              "      <th>2</th>\n",
              "      <td>121.144235</td>\n",
              "      <td>123.393737</td>\n",
              "      <td>-2.249501</td>\n",
              "    </tr>\n",
              "    <tr>\n",
              "      <th>3</th>\n",
              "      <td>84.630207</td>\n",
              "      <td>85.472126</td>\n",
              "      <td>-0.841919</td>\n",
              "    </tr>\n",
              "    <tr>\n",
              "      <th>4</th>\n",
              "      <td>99.141564</td>\n",
              "      <td>69.873524</td>\n",
              "      <td>29.268040</td>\n",
              "    </tr>\n",
              "  </tbody>\n",
              "</table>\n",
              "</div>\n",
              "    <div class=\"colab-df-buttons\">\n",
              "\n",
              "  <div class=\"colab-df-container\">\n",
              "    <button class=\"colab-df-convert\" onclick=\"convertToInteractive('df-198358f3-fcb7-47ec-abab-fa4bd1911d39')\"\n",
              "            title=\"Convert this dataframe to an interactive table.\"\n",
              "            style=\"display:none;\">\n",
              "\n",
              "  <svg xmlns=\"http://www.w3.org/2000/svg\" height=\"24px\" viewBox=\"0 -960 960 960\">\n",
              "    <path d=\"M120-120v-720h720v720H120Zm60-500h600v-160H180v160Zm220 220h160v-160H400v160Zm0 220h160v-160H400v160ZM180-400h160v-160H180v160Zm440 0h160v-160H620v160ZM180-180h160v-160H180v160Zm440 0h160v-160H620v160Z\"/>\n",
              "  </svg>\n",
              "    </button>\n",
              "\n",
              "  <style>\n",
              "    .colab-df-container {\n",
              "      display:flex;\n",
              "      gap: 12px;\n",
              "    }\n",
              "\n",
              "    .colab-df-convert {\n",
              "      background-color: #E8F0FE;\n",
              "      border: none;\n",
              "      border-radius: 50%;\n",
              "      cursor: pointer;\n",
              "      display: none;\n",
              "      fill: #1967D2;\n",
              "      height: 32px;\n",
              "      padding: 0 0 0 0;\n",
              "      width: 32px;\n",
              "    }\n",
              "\n",
              "    .colab-df-convert:hover {\n",
              "      background-color: #E2EBFA;\n",
              "      box-shadow: 0px 1px 2px rgba(60, 64, 67, 0.3), 0px 1px 3px 1px rgba(60, 64, 67, 0.15);\n",
              "      fill: #174EA6;\n",
              "    }\n",
              "\n",
              "    .colab-df-buttons div {\n",
              "      margin-bottom: 4px;\n",
              "    }\n",
              "\n",
              "    [theme=dark] .colab-df-convert {\n",
              "      background-color: #3B4455;\n",
              "      fill: #D2E3FC;\n",
              "    }\n",
              "\n",
              "    [theme=dark] .colab-df-convert:hover {\n",
              "      background-color: #434B5C;\n",
              "      box-shadow: 0px 1px 3px 1px rgba(0, 0, 0, 0.15);\n",
              "      filter: drop-shadow(0px 1px 2px rgba(0, 0, 0, 0.3));\n",
              "      fill: #FFFFFF;\n",
              "    }\n",
              "  </style>\n",
              "\n",
              "    <script>\n",
              "      const buttonEl =\n",
              "        document.querySelector('#df-198358f3-fcb7-47ec-abab-fa4bd1911d39 button.colab-df-convert');\n",
              "      buttonEl.style.display =\n",
              "        google.colab.kernel.accessAllowed ? 'block' : 'none';\n",
              "\n",
              "      async function convertToInteractive(key) {\n",
              "        const element = document.querySelector('#df-198358f3-fcb7-47ec-abab-fa4bd1911d39');\n",
              "        const dataTable =\n",
              "          await google.colab.kernel.invokeFunction('convertToInteractive',\n",
              "                                                    [key], {});\n",
              "        if (!dataTable) return;\n",
              "\n",
              "        const docLinkHtml = 'Like what you see? Visit the ' +\n",
              "          '<a target=\"_blank\" href=https://colab.research.google.com/notebooks/data_table.ipynb>data table notebook</a>'\n",
              "          + ' to learn more about interactive tables.';\n",
              "        element.innerHTML = '';\n",
              "        dataTable['output_type'] = 'display_data';\n",
              "        await google.colab.output.renderOutput(dataTable, element);\n",
              "        const docLink = document.createElement('div');\n",
              "        docLink.innerHTML = docLinkHtml;\n",
              "        element.appendChild(docLink);\n",
              "      }\n",
              "    </script>\n",
              "  </div>\n",
              "\n",
              "\n",
              "<div id=\"df-2496fa0c-18a4-4e58-8e11-b46d42591a91\">\n",
              "  <button class=\"colab-df-quickchart\" onclick=\"quickchart('df-2496fa0c-18a4-4e58-8e11-b46d42591a91')\"\n",
              "            title=\"Suggest charts\"\n",
              "            style=\"display:none;\">\n",
              "\n",
              "<svg xmlns=\"http://www.w3.org/2000/svg\" height=\"24px\"viewBox=\"0 0 24 24\"\n",
              "     width=\"24px\">\n",
              "    <g>\n",
              "        <path d=\"M19 3H5c-1.1 0-2 .9-2 2v14c0 1.1.9 2 2 2h14c1.1 0 2-.9 2-2V5c0-1.1-.9-2-2-2zM9 17H7v-7h2v7zm4 0h-2V7h2v10zm4 0h-2v-4h2v4z\"/>\n",
              "    </g>\n",
              "</svg>\n",
              "  </button>\n",
              "\n",
              "<style>\n",
              "  .colab-df-quickchart {\n",
              "      --bg-color: #E8F0FE;\n",
              "      --fill-color: #1967D2;\n",
              "      --hover-bg-color: #E2EBFA;\n",
              "      --hover-fill-color: #174EA6;\n",
              "      --disabled-fill-color: #AAA;\n",
              "      --disabled-bg-color: #DDD;\n",
              "  }\n",
              "\n",
              "  [theme=dark] .colab-df-quickchart {\n",
              "      --bg-color: #3B4455;\n",
              "      --fill-color: #D2E3FC;\n",
              "      --hover-bg-color: #434B5C;\n",
              "      --hover-fill-color: #FFFFFF;\n",
              "      --disabled-bg-color: #3B4455;\n",
              "      --disabled-fill-color: #666;\n",
              "  }\n",
              "\n",
              "  .colab-df-quickchart {\n",
              "    background-color: var(--bg-color);\n",
              "    border: none;\n",
              "    border-radius: 50%;\n",
              "    cursor: pointer;\n",
              "    display: none;\n",
              "    fill: var(--fill-color);\n",
              "    height: 32px;\n",
              "    padding: 0;\n",
              "    width: 32px;\n",
              "  }\n",
              "\n",
              "  .colab-df-quickchart:hover {\n",
              "    background-color: var(--hover-bg-color);\n",
              "    box-shadow: 0 1px 2px rgba(60, 64, 67, 0.3), 0 1px 3px 1px rgba(60, 64, 67, 0.15);\n",
              "    fill: var(--button-hover-fill-color);\n",
              "  }\n",
              "\n",
              "  .colab-df-quickchart-complete:disabled,\n",
              "  .colab-df-quickchart-complete:disabled:hover {\n",
              "    background-color: var(--disabled-bg-color);\n",
              "    fill: var(--disabled-fill-color);\n",
              "    box-shadow: none;\n",
              "  }\n",
              "\n",
              "  .colab-df-spinner {\n",
              "    border: 2px solid var(--fill-color);\n",
              "    border-color: transparent;\n",
              "    border-bottom-color: var(--fill-color);\n",
              "    animation:\n",
              "      spin 1s steps(1) infinite;\n",
              "  }\n",
              "\n",
              "  @keyframes spin {\n",
              "    0% {\n",
              "      border-color: transparent;\n",
              "      border-bottom-color: var(--fill-color);\n",
              "      border-left-color: var(--fill-color);\n",
              "    }\n",
              "    20% {\n",
              "      border-color: transparent;\n",
              "      border-left-color: var(--fill-color);\n",
              "      border-top-color: var(--fill-color);\n",
              "    }\n",
              "    30% {\n",
              "      border-color: transparent;\n",
              "      border-left-color: var(--fill-color);\n",
              "      border-top-color: var(--fill-color);\n",
              "      border-right-color: var(--fill-color);\n",
              "    }\n",
              "    40% {\n",
              "      border-color: transparent;\n",
              "      border-right-color: var(--fill-color);\n",
              "      border-top-color: var(--fill-color);\n",
              "    }\n",
              "    60% {\n",
              "      border-color: transparent;\n",
              "      border-right-color: var(--fill-color);\n",
              "    }\n",
              "    80% {\n",
              "      border-color: transparent;\n",
              "      border-right-color: var(--fill-color);\n",
              "      border-bottom-color: var(--fill-color);\n",
              "    }\n",
              "    90% {\n",
              "      border-color: transparent;\n",
              "      border-bottom-color: var(--fill-color);\n",
              "    }\n",
              "  }\n",
              "</style>\n",
              "\n",
              "  <script>\n",
              "    async function quickchart(key) {\n",
              "      const quickchartButtonEl =\n",
              "        document.querySelector('#' + key + ' button');\n",
              "      quickchartButtonEl.disabled = true;  // To prevent multiple clicks.\n",
              "      quickchartButtonEl.classList.add('colab-df-spinner');\n",
              "      try {\n",
              "        const charts = await google.colab.kernel.invokeFunction(\n",
              "            'suggestCharts', [key], {});\n",
              "      } catch (error) {\n",
              "        console.error('Error during call to suggestCharts:', error);\n",
              "      }\n",
              "      quickchartButtonEl.classList.remove('colab-df-spinner');\n",
              "      quickchartButtonEl.classList.add('colab-df-quickchart-complete');\n",
              "    }\n",
              "    (() => {\n",
              "      let quickchartButtonEl =\n",
              "        document.querySelector('#df-2496fa0c-18a4-4e58-8e11-b46d42591a91 button');\n",
              "      quickchartButtonEl.style.display =\n",
              "        google.colab.kernel.accessAllowed ? 'block' : 'none';\n",
              "    })();\n",
              "  </script>\n",
              "</div>\n",
              "    </div>\n",
              "  </div>\n"
            ],
            "application/vnd.google.colaboratory.intrinsic+json": {
              "type": "dataframe",
              "variable_name": "results",
              "summary": "{\n  \"name\": \"results\",\n  \"rows\": 50,\n  \"fields\": [\n    {\n      \"column\": \"y_true\",\n      \"properties\": {\n        \"dtype\": \"number\",\n        \"std\": 17.18376293233927,\n        \"min\": 68.05849165172673,\n        \"max\": 135.10613116674148,\n        \"num_unique_values\": 50,\n        \"samples\": [\n          68.96696764462556,\n          106.10814577745853,\n          117.95962506371373\n        ],\n        \"semantic_type\": \"\",\n        \"description\": \"\"\n      }\n    },\n    {\n      \"column\": \"y_pred\",\n      \"properties\": {\n        \"dtype\": \"number\",\n        \"std\": 18.821581449301977,\n        \"min\": 67.2051711801855,\n        \"max\": 141.5059493622939,\n        \"num_unique_values\": 50,\n        \"samples\": [\n          75.13929055162549,\n          110.07183935097797,\n          117.45061293502262\n        ],\n        \"semantic_type\": \"\",\n        \"description\": \"\"\n      }\n    },\n    {\n      \"column\": \"error\",\n      \"properties\": {\n        \"dtype\": \"number\",\n        \"std\": 9.853001379648981,\n        \"min\": -21.38764053772266,\n        \"max\": 29.26803992981226,\n        \"num_unique_values\": 50,\n        \"samples\": [\n          -6.172322906999938,\n          -3.9636935735194356,\n          0.5090121286911113\n        ],\n        \"semantic_type\": \"\",\n        \"description\": \"\"\n      }\n    }\n  ]\n}"
            }
          },
          "metadata": {},
          "execution_count": 6
        }
      ]
    },
    {
      "cell_type": "markdown",
      "metadata": {
        "id": "JkXYHzBlCrXB"
      },
      "source": [
        "### <a name='a1'></a> 2. Metryki\n",
        "### <a name='a2'></a> 2.1 Interpretacja graficzna"
      ]
    },
    {
      "cell_type": "code",
      "metadata": {
        "id": "aFdc5zl6_bih",
        "colab": {
          "base_uri": "https://localhost:8080/",
          "height": 542
        },
        "outputId": "5394fc59-48a5-4ece-d017-0e76850ea8e5"
      },
      "source": [
        "def plot_regression_results(y_true, y_pred):\n",
        "    results = pd.DataFrame({'y_true': y_true, 'y_pred': y_pred})\n",
        "    min = results[['y_true', 'y_pred']].min().min()\n",
        "    max = results[['y_true', 'y_pred']].max().max()\n",
        "\n",
        "    fig = go.Figure(data=[go.Scatter(x=results['y_true'], y=results['y_pred'], mode='markers'),\n",
        "                    go.Scatter(x=[min, max], y=[min, max])],\n",
        "                    layout=go.Layout(showlegend=False, width=800,\n",
        "                                     xaxis_title='y_true',\n",
        "                                     yaxis_title='y_pred',\n",
        "                                     title='Regression results'))\n",
        "    fig.show()\n",
        "plot_regression_results(y_true, y_pred)"
      ],
      "execution_count": 7,
      "outputs": [
        {
          "output_type": "display_data",
          "data": {
            "text/html": [
              "<html>\n",
              "<head><meta charset=\"utf-8\" /></head>\n",
              "<body>\n",
              "    <div>            <script src=\"https://cdnjs.cloudflare.com/ajax/libs/mathjax/2.7.5/MathJax.js?config=TeX-AMS-MML_SVG\"></script><script type=\"text/javascript\">if (window.MathJax && window.MathJax.Hub && window.MathJax.Hub.Config) {window.MathJax.Hub.Config({SVG: {font: \"STIX-Web\"}});}</script>                <script type=\"text/javascript\">window.PlotlyConfig = {MathJaxConfig: 'local'};</script>\n",
              "        <script charset=\"utf-8\" src=\"https://cdn.plot.ly/plotly-2.24.1.min.js\"></script>                <div id=\"f680bd26-a45e-47f8-ac71-4964308c8bee\" class=\"plotly-graph-div\" style=\"height:525px; width:800px;\"></div>            <script type=\"text/javascript\">                                    window.PLOTLYENV=window.PLOTLYENV || {};                                    if (document.getElementById(\"f680bd26-a45e-47f8-ac71-4964308c8bee\")) {                    Plotly.newPlot(                        \"f680bd26-a45e-47f8-ac71-4964308c8bee\",                        [{\"mode\":\"markers\",\"x\":[123.92389659078896,89.39931380699016,121.14423548568826,84.6302068283353,99.14156389205709,68.05849165172673,115.39621296359589,97.6188764015831,97.58625716342915,126.57903538447233,83.40546408517011,81.65539043483588,124.5006595523005,68.96696764462556,82.91261483184785,101.24511589066354,96.26153076989564,98.30084190221194,102.18640596703118,70.54994805590914,93.15377584673712,93.30287283762314,87.48530346358402,122.69606460118185,73.19810302317745,135.10613116674148,102.91543809380386,86.32416435066814,108.5294954319779,108.99468291045542,117.95962506371373,107.23824803093216,103.68914059840269,110.12715677187762,108.6238668165006,70.1567067249958,117.71796317757659,108.79136726976037,118.75704215043693,106.10814577745853,104.10972574424592,75.02620013526489,85.90288784224042,117.62774879859548,118.41868757273798,123.12723979441861,82.33879736897569,101.40450409401664,106.45015328820357,110.9081958387199],\"y\":[128.72995168107664,93.98312015386689,123.39373668486162,85.47212598509148,69.87352396224483,77.10117155552766,122.42247999159774,95.08091471076185,104.35305487575589,124.01104996773006,82.29090629219036,79.79584916967366,121.73358808404895,75.13929055162549,83.87615904626642,101.12977869280502,109.63393566537864,83.49700726855588,123.45194133274842,76.92769987950827,90.54638778190663,92.57913662100418,98.71592955914892,122.55574540839001,83.9466003025201,141.5059493622939,123.75234509939096,95.86821097697184,118.34306391795948,130.38232344817808,117.45061293502262,116.66362072674963,111.83710436278898,83.17547351983625,127.32374206726422,67.2051711801855,117.76419570557054,97.8017988613895,115.92432735347867,110.07183935097797,104.23035724756987,82.68262084746192,90.68542208244743,107.21550897481012,121.7372356386466,131.6982784269184,90.22063190743853,103.04237368308382,110.80233662844068,113.62240687351544],\"type\":\"scatter\"},{\"x\":[67.2051711801855,141.5059493622939],\"y\":[67.2051711801855,141.5059493622939],\"type\":\"scatter\"}],                        {\"showlegend\":false,\"title\":{\"text\":\"Regression results\"},\"width\":800,\"xaxis\":{\"title\":{\"text\":\"y_true\"}},\"yaxis\":{\"title\":{\"text\":\"y_pred\"}},\"template\":{\"data\":{\"histogram2dcontour\":[{\"type\":\"histogram2dcontour\",\"colorbar\":{\"outlinewidth\":0,\"ticks\":\"\"},\"colorscale\":[[0.0,\"#0d0887\"],[0.1111111111111111,\"#46039f\"],[0.2222222222222222,\"#7201a8\"],[0.3333333333333333,\"#9c179e\"],[0.4444444444444444,\"#bd3786\"],[0.5555555555555556,\"#d8576b\"],[0.6666666666666666,\"#ed7953\"],[0.7777777777777778,\"#fb9f3a\"],[0.8888888888888888,\"#fdca26\"],[1.0,\"#f0f921\"]]}],\"choropleth\":[{\"type\":\"choropleth\",\"colorbar\":{\"outlinewidth\":0,\"ticks\":\"\"}}],\"histogram2d\":[{\"type\":\"histogram2d\",\"colorbar\":{\"outlinewidth\":0,\"ticks\":\"\"},\"colorscale\":[[0.0,\"#0d0887\"],[0.1111111111111111,\"#46039f\"],[0.2222222222222222,\"#7201a8\"],[0.3333333333333333,\"#9c179e\"],[0.4444444444444444,\"#bd3786\"],[0.5555555555555556,\"#d8576b\"],[0.6666666666666666,\"#ed7953\"],[0.7777777777777778,\"#fb9f3a\"],[0.8888888888888888,\"#fdca26\"],[1.0,\"#f0f921\"]]}],\"heatmap\":[{\"type\":\"heatmap\",\"colorbar\":{\"outlinewidth\":0,\"ticks\":\"\"},\"colorscale\":[[0.0,\"#0d0887\"],[0.1111111111111111,\"#46039f\"],[0.2222222222222222,\"#7201a8\"],[0.3333333333333333,\"#9c179e\"],[0.4444444444444444,\"#bd3786\"],[0.5555555555555556,\"#d8576b\"],[0.6666666666666666,\"#ed7953\"],[0.7777777777777778,\"#fb9f3a\"],[0.8888888888888888,\"#fdca26\"],[1.0,\"#f0f921\"]]}],\"heatmapgl\":[{\"type\":\"heatmapgl\",\"colorbar\":{\"outlinewidth\":0,\"ticks\":\"\"},\"colorscale\":[[0.0,\"#0d0887\"],[0.1111111111111111,\"#46039f\"],[0.2222222222222222,\"#7201a8\"],[0.3333333333333333,\"#9c179e\"],[0.4444444444444444,\"#bd3786\"],[0.5555555555555556,\"#d8576b\"],[0.6666666666666666,\"#ed7953\"],[0.7777777777777778,\"#fb9f3a\"],[0.8888888888888888,\"#fdca26\"],[1.0,\"#f0f921\"]]}],\"contourcarpet\":[{\"type\":\"contourcarpet\",\"colorbar\":{\"outlinewidth\":0,\"ticks\":\"\"}}],\"contour\":[{\"type\":\"contour\",\"colorbar\":{\"outlinewidth\":0,\"ticks\":\"\"},\"colorscale\":[[0.0,\"#0d0887\"],[0.1111111111111111,\"#46039f\"],[0.2222222222222222,\"#7201a8\"],[0.3333333333333333,\"#9c179e\"],[0.4444444444444444,\"#bd3786\"],[0.5555555555555556,\"#d8576b\"],[0.6666666666666666,\"#ed7953\"],[0.7777777777777778,\"#fb9f3a\"],[0.8888888888888888,\"#fdca26\"],[1.0,\"#f0f921\"]]}],\"surface\":[{\"type\":\"surface\",\"colorbar\":{\"outlinewidth\":0,\"ticks\":\"\"},\"colorscale\":[[0.0,\"#0d0887\"],[0.1111111111111111,\"#46039f\"],[0.2222222222222222,\"#7201a8\"],[0.3333333333333333,\"#9c179e\"],[0.4444444444444444,\"#bd3786\"],[0.5555555555555556,\"#d8576b\"],[0.6666666666666666,\"#ed7953\"],[0.7777777777777778,\"#fb9f3a\"],[0.8888888888888888,\"#fdca26\"],[1.0,\"#f0f921\"]]}],\"mesh3d\":[{\"type\":\"mesh3d\",\"colorbar\":{\"outlinewidth\":0,\"ticks\":\"\"}}],\"scatter\":[{\"fillpattern\":{\"fillmode\":\"overlay\",\"size\":10,\"solidity\":0.2},\"type\":\"scatter\"}],\"parcoords\":[{\"type\":\"parcoords\",\"line\":{\"colorbar\":{\"outlinewidth\":0,\"ticks\":\"\"}}}],\"scatterpolargl\":[{\"type\":\"scatterpolargl\",\"marker\":{\"colorbar\":{\"outlinewidth\":0,\"ticks\":\"\"}}}],\"bar\":[{\"error_x\":{\"color\":\"#2a3f5f\"},\"error_y\":{\"color\":\"#2a3f5f\"},\"marker\":{\"line\":{\"color\":\"#E5ECF6\",\"width\":0.5},\"pattern\":{\"fillmode\":\"overlay\",\"size\":10,\"solidity\":0.2}},\"type\":\"bar\"}],\"scattergeo\":[{\"type\":\"scattergeo\",\"marker\":{\"colorbar\":{\"outlinewidth\":0,\"ticks\":\"\"}}}],\"scatterpolar\":[{\"type\":\"scatterpolar\",\"marker\":{\"colorbar\":{\"outlinewidth\":0,\"ticks\":\"\"}}}],\"histogram\":[{\"marker\":{\"pattern\":{\"fillmode\":\"overlay\",\"size\":10,\"solidity\":0.2}},\"type\":\"histogram\"}],\"scattergl\":[{\"type\":\"scattergl\",\"marker\":{\"colorbar\":{\"outlinewidth\":0,\"ticks\":\"\"}}}],\"scatter3d\":[{\"type\":\"scatter3d\",\"line\":{\"colorbar\":{\"outlinewidth\":0,\"ticks\":\"\"}},\"marker\":{\"colorbar\":{\"outlinewidth\":0,\"ticks\":\"\"}}}],\"scattermapbox\":[{\"type\":\"scattermapbox\",\"marker\":{\"colorbar\":{\"outlinewidth\":0,\"ticks\":\"\"}}}],\"scatterternary\":[{\"type\":\"scatterternary\",\"marker\":{\"colorbar\":{\"outlinewidth\":0,\"ticks\":\"\"}}}],\"scattercarpet\":[{\"type\":\"scattercarpet\",\"marker\":{\"colorbar\":{\"outlinewidth\":0,\"ticks\":\"\"}}}],\"carpet\":[{\"aaxis\":{\"endlinecolor\":\"#2a3f5f\",\"gridcolor\":\"white\",\"linecolor\":\"white\",\"minorgridcolor\":\"white\",\"startlinecolor\":\"#2a3f5f\"},\"baxis\":{\"endlinecolor\":\"#2a3f5f\",\"gridcolor\":\"white\",\"linecolor\":\"white\",\"minorgridcolor\":\"white\",\"startlinecolor\":\"#2a3f5f\"},\"type\":\"carpet\"}],\"table\":[{\"cells\":{\"fill\":{\"color\":\"#EBF0F8\"},\"line\":{\"color\":\"white\"}},\"header\":{\"fill\":{\"color\":\"#C8D4E3\"},\"line\":{\"color\":\"white\"}},\"type\":\"table\"}],\"barpolar\":[{\"marker\":{\"line\":{\"color\":\"#E5ECF6\",\"width\":0.5},\"pattern\":{\"fillmode\":\"overlay\",\"size\":10,\"solidity\":0.2}},\"type\":\"barpolar\"}],\"pie\":[{\"automargin\":true,\"type\":\"pie\"}]},\"layout\":{\"autotypenumbers\":\"strict\",\"colorway\":[\"#636efa\",\"#EF553B\",\"#00cc96\",\"#ab63fa\",\"#FFA15A\",\"#19d3f3\",\"#FF6692\",\"#B6E880\",\"#FF97FF\",\"#FECB52\"],\"font\":{\"color\":\"#2a3f5f\"},\"hovermode\":\"closest\",\"hoverlabel\":{\"align\":\"left\"},\"paper_bgcolor\":\"white\",\"plot_bgcolor\":\"#E5ECF6\",\"polar\":{\"bgcolor\":\"#E5ECF6\",\"angularaxis\":{\"gridcolor\":\"white\",\"linecolor\":\"white\",\"ticks\":\"\"},\"radialaxis\":{\"gridcolor\":\"white\",\"linecolor\":\"white\",\"ticks\":\"\"}},\"ternary\":{\"bgcolor\":\"#E5ECF6\",\"aaxis\":{\"gridcolor\":\"white\",\"linecolor\":\"white\",\"ticks\":\"\"},\"baxis\":{\"gridcolor\":\"white\",\"linecolor\":\"white\",\"ticks\":\"\"},\"caxis\":{\"gridcolor\":\"white\",\"linecolor\":\"white\",\"ticks\":\"\"}},\"coloraxis\":{\"colorbar\":{\"outlinewidth\":0,\"ticks\":\"\"}},\"colorscale\":{\"sequential\":[[0.0,\"#0d0887\"],[0.1111111111111111,\"#46039f\"],[0.2222222222222222,\"#7201a8\"],[0.3333333333333333,\"#9c179e\"],[0.4444444444444444,\"#bd3786\"],[0.5555555555555556,\"#d8576b\"],[0.6666666666666666,\"#ed7953\"],[0.7777777777777778,\"#fb9f3a\"],[0.8888888888888888,\"#fdca26\"],[1.0,\"#f0f921\"]],\"sequentialminus\":[[0.0,\"#0d0887\"],[0.1111111111111111,\"#46039f\"],[0.2222222222222222,\"#7201a8\"],[0.3333333333333333,\"#9c179e\"],[0.4444444444444444,\"#bd3786\"],[0.5555555555555556,\"#d8576b\"],[0.6666666666666666,\"#ed7953\"],[0.7777777777777778,\"#fb9f3a\"],[0.8888888888888888,\"#fdca26\"],[1.0,\"#f0f921\"]],\"diverging\":[[0,\"#8e0152\"],[0.1,\"#c51b7d\"],[0.2,\"#de77ae\"],[0.3,\"#f1b6da\"],[0.4,\"#fde0ef\"],[0.5,\"#f7f7f7\"],[0.6,\"#e6f5d0\"],[0.7,\"#b8e186\"],[0.8,\"#7fbc41\"],[0.9,\"#4d9221\"],[1,\"#276419\"]]},\"xaxis\":{\"gridcolor\":\"white\",\"linecolor\":\"white\",\"ticks\":\"\",\"title\":{\"standoff\":15},\"zerolinecolor\":\"white\",\"automargin\":true,\"zerolinewidth\":2},\"yaxis\":{\"gridcolor\":\"white\",\"linecolor\":\"white\",\"ticks\":\"\",\"title\":{\"standoff\":15},\"zerolinecolor\":\"white\",\"automargin\":true,\"zerolinewidth\":2},\"scene\":{\"xaxis\":{\"backgroundcolor\":\"#E5ECF6\",\"gridcolor\":\"white\",\"linecolor\":\"white\",\"showbackground\":true,\"ticks\":\"\",\"zerolinecolor\":\"white\",\"gridwidth\":2},\"yaxis\":{\"backgroundcolor\":\"#E5ECF6\",\"gridcolor\":\"white\",\"linecolor\":\"white\",\"showbackground\":true,\"ticks\":\"\",\"zerolinecolor\":\"white\",\"gridwidth\":2},\"zaxis\":{\"backgroundcolor\":\"#E5ECF6\",\"gridcolor\":\"white\",\"linecolor\":\"white\",\"showbackground\":true,\"ticks\":\"\",\"zerolinecolor\":\"white\",\"gridwidth\":2}},\"shapedefaults\":{\"line\":{\"color\":\"#2a3f5f\"}},\"annotationdefaults\":{\"arrowcolor\":\"#2a3f5f\",\"arrowhead\":0,\"arrowwidth\":1},\"geo\":{\"bgcolor\":\"white\",\"landcolor\":\"#E5ECF6\",\"subunitcolor\":\"white\",\"showland\":true,\"showlakes\":true,\"lakecolor\":\"white\"},\"title\":{\"x\":0.05},\"mapbox\":{\"style\":\"light\"}}}},                        {\"responsive\": true}                    ).then(function(){\n",
              "                            \n",
              "var gd = document.getElementById('f680bd26-a45e-47f8-ac71-4964308c8bee');\n",
              "var x = new MutationObserver(function (mutations, observer) {{\n",
              "        var display = window.getComputedStyle(gd).display;\n",
              "        if (!display || display === 'none') {{\n",
              "            console.log([gd, 'removed!']);\n",
              "            Plotly.purge(gd);\n",
              "            observer.disconnect();\n",
              "        }}\n",
              "}});\n",
              "\n",
              "// Listen for the removal of the full notebook cells\n",
              "var notebookContainer = gd.closest('#notebook-container');\n",
              "if (notebookContainer) {{\n",
              "    x.observe(notebookContainer, {childList: true});\n",
              "}}\n",
              "\n",
              "// Listen for the clearing of the current output cell\n",
              "var outputEl = gd.closest('.output');\n",
              "if (outputEl) {{\n",
              "    x.observe(outputEl, {childList: true});\n",
              "}}\n",
              "\n",
              "                        })                };                            </script>        </div>\n",
              "</body>\n",
              "</html>"
            ]
          },
          "metadata": {}
        }
      ]
    },
    {
      "cell_type": "code",
      "metadata": {
        "id": "2j7Zs1XLDGCL",
        "colab": {
          "base_uri": "https://localhost:8080/",
          "height": 542
        },
        "outputId": "f3a4084c-b978-47db-ccd9-03afe91f7c92"
      },
      "source": [
        "y_true = 100 + 20 * np.random.randn(1000)\n",
        "y_pred = y_true + 10 * np.random.randn(1000)\n",
        "results = pd.DataFrame({'y_true': y_true, 'y_pred': y_pred})\n",
        "results['error'] = results['y_true'] - results['y_pred']\n",
        "\n",
        "px.histogram(results, x='error', nbins=50, width=800)"
      ],
      "execution_count": 8,
      "outputs": [
        {
          "output_type": "display_data",
          "data": {
            "text/html": [
              "<html>\n",
              "<head><meta charset=\"utf-8\" /></head>\n",
              "<body>\n",
              "    <div>            <script src=\"https://cdnjs.cloudflare.com/ajax/libs/mathjax/2.7.5/MathJax.js?config=TeX-AMS-MML_SVG\"></script><script type=\"text/javascript\">if (window.MathJax && window.MathJax.Hub && window.MathJax.Hub.Config) {window.MathJax.Hub.Config({SVG: {font: \"STIX-Web\"}});}</script>                <script type=\"text/javascript\">window.PlotlyConfig = {MathJaxConfig: 'local'};</script>\n",
              "        <script charset=\"utf-8\" src=\"https://cdn.plot.ly/plotly-2.24.1.min.js\"></script>                <div id=\"fa5b21f1-ebf8-4689-90f7-c819c5cb1039\" class=\"plotly-graph-div\" style=\"height:525px; width:800px;\"></div>            <script type=\"text/javascript\">                                    window.PLOTLYENV=window.PLOTLYENV || {};                                    if (document.getElementById(\"fa5b21f1-ebf8-4689-90f7-c819c5cb1039\")) {                    Plotly.newPlot(                        \"fa5b21f1-ebf8-4689-90f7-c819c5cb1039\",                        [{\"alignmentgroup\":\"True\",\"bingroup\":\"x\",\"hovertemplate\":\"error=%{x}\\u003cbr\\u003ecount=%{y}\\u003cextra\\u003e\\u003c\\u002fextra\\u003e\",\"legendgroup\":\"\",\"marker\":{\"color\":\"#636efa\",\"pattern\":{\"shape\":\"\"}},\"name\":\"\",\"nbinsx\":50,\"offsetgroup\":\"\",\"orientation\":\"v\",\"showlegend\":false,\"x\":[-0.12891593089216258,1.8805797976711318,14.0999168026311,10.293787068106454,-11.12921848347547,4.097353204121703,-0.5120774858052357,7.695965950942622,9.92211521781347,-4.937419604770483,4.243303872418608,0.3394438317607751,-2.0735944384216367,21.101872248232183,-9.521866593262118,4.753982922179063,6.907976382668792,-1.2791388061536395,-16.22697819658559,-11.029242219487912,0.6781595742547495,3.045578279064898,-0.050733703819375364,-9.83721305201388,-6.940753209890119,-7.6711867596392125,9.744173251949235,-18.26822766920357,-9.060940892960247,4.992852304678763,-0.6259061985329311,-6.086855317802815,0.18502032486424014,6.832432364850575,-7.2581229087169845,-0.3223058600988793,1.288589739467156,5.434831670854663,5.628024043610679,11.604989995980674,-0.8370309218659315,15.842551939868997,0.4933932129195,-7.826773412930024,0.5065827958642757,-5.303025471942448,7.247661100279032,-1.1093729724118617,0.17705811801677385,7.402994691511907,0.8729294872770765,-8.368902699301657,-8.82941155420707,-11.968156359588036,6.126860064861731,12.371158514921156,2.614853470336925,3.693620037006397,10.63302094964402,0.048490129728378406,-4.592174338146208,-12.22580967989316,6.985764779966942,-2.616322899841677,23.25258392800535,2.298606441742436,9.346199678499687,-3.2615471561330196,12.971746368697481,11.857534429078783,-12.703504729459894,25.48655316651859,-1.2932484575073033,3.0709988933021037,-22.159411604755448,5.157064866977493,-0.4728286214167241,20.22813172103112,4.023377782340944,-8.18363051165663,-3.113202930321137,5.171315991820293,6.798048610426818,0.6983478532581415,-3.4742782907892718,22.00832552268252,15.224793095741404,-14.34553967769223,16.293362456369678,0.8711328088158155,-22.317814881927532,15.272111871340257,5.885995809701427,-0.5475626715967934,-0.4768304535790122,-3.113654537373577,26.784771472092693,7.942884205185678,15.836682438800864,-5.8702872248859705,-2.7376233950537454,5.865166559916304,-5.145966467772581,-6.46105274112108,-16.13117269273566,0.53797277417587,1.9323694708285615,-8.144766937801663,5.016229718456117,9.334723239187412,-0.8918404168923786,-6.801998029961553,2.434899028352504,5.411378414886741,0.2717804255682523,-12.961089028546908,1.9217001021747393,20.01874447132751,15.357670684702398,6.106180093625994,-20.200490683704302,-2.692535653192877,-2.5097788920359534,-15.262120868110458,14.244719907778375,2.618777922105906,-8.684607469683428,11.140581453572693,-1.2068818653793585,-8.266034933085649,7.676222811574235,-1.527011079198644,-5.070801724929197,6.590299623660627,2.819283687441967,9.62474305428681,6.776891404859285,-8.577454733952948,-2.389600493645986,2.0129661556975904,8.815775530431097,3.329497600257568,-1.1395373767263521,-7.927129244957925,19.6556854980618,-17.773504893436296,9.349426155574037,-12.010588710190916,-5.505939579353182,4.71963814520808,6.09949663186741,3.070250253585016,0.015583759280801246,-12.027458712089029,-4.901650658965451,7.133656152485997,-4.546513202241314,6.610819330410166,3.087070088603909,13.781200395763491,-18.320993387660806,1.282321098254684,-11.212110818188904,-5.624980029901721,-3.309402255630971,1.9930170558334623,-19.356112977905255,12.485714897252024,1.3614038068227359,-36.20595758835829,-0.17203758099567779,-11.506006901403893,7.5011344821825645,-0.007183165629811583,2.326169154893435,5.67794018221673,3.6933279458777264,-4.528237888815298,-12.096945177210245,7.313104772626062,-3.824965526279641,7.16693926270905,-6.601043402781059,-2.9534751373759036,-1.007522347298817,-0.874052031821634,4.235199672196913,-9.056889244131725,-5.469583437802129,7.4260403186290915,-18.269947439892775,-11.014322464261994,0.4106722139640908,1.5812710042260818,2.1335299301921253,9.05753811756697,-5.300238828367483,6.763999484034883,5.793684624815825,13.734038079075972,11.80098933748539,-6.049080921737399,-4.031396506709967,-6.435448783337023,-7.233129950849616,-6.837907953778256,4.59522592376068,5.566058500336112,-25.67706421657506,2.342311138422872,6.371538269927441,-7.135735642508351,-14.027873613629609,10.823262033237214,3.87904242656019,22.30885082948562,5.136862742156538,-11.651698245429785,3.693846682338446,4.538220988051833,-7.326344570012438,7.777107449855407,-0.048085287445999825,-13.153773743428182,-1.3954043300939674,-4.92466704230894,-7.434194295280577,-5.196300695764734,5.296509511983288,22.427689934973387,13.402919257165948,-11.010723584546383,15.32362189928881,2.4296335971061893,-19.820536749547443,-3.239774574068548,-7.83534771996564,-0.4288100889153128,-6.208349532302677,-2.1466888603568037,-2.614794059763142,-14.425450130491413,8.142103482047787,-8.050647609335712,-4.100213622821897,2.0787867417804335,10.79715586249948,17.423933932920008,-0.5900252086249935,6.2774627504635845,-6.865027707383831,6.295899474928021,9.86274912683541,-12.467410993243277,-14.287205391418112,9.673321835245247,-1.2243338975822269,-12.569760965594185,9.479149706382117,-5.662211286894532,4.591848394285051,-9.771263635466624,-7.966458019255128,1.4791520006246515,-0.9352845935966911,4.161919267676211,-11.277310105077817,19.853028096979713,14.05135646766233,14.276795847865074,-15.072463044260118,4.240742751748883,-2.837340494239882,7.362828708409793,-20.75431859020412,-2.461797260337903,6.256333314047268,13.592179236626379,7.371596323507916,6.637966894883206,9.675062187729793,-0.10041612927557253,7.214776049818354,12.03799623232564,1.7570674677338474,9.1792809626684,-14.990313390258677,-19.440698486009538,26.344182696204143,-17.171958983166576,-5.511573789472422,20.70341726516574,4.965508501926934,-21.99434652007244,-0.16047303786041311,-6.321821885449367,2.4905103287202053,-7.212605670470225,-6.071299839823382,-1.9525955853697496,-6.770667131907004,-6.571974764223057,7.806545660419658,-7.524629312886546,4.821175285874844,-5.068058677594223,-6.6437436418043205,-4.788966951864367,-13.519243189566765,10.385329773164159,8.205653208608297,5.97471564982672,-5.067330566898207,1.5283685783423664,8.243738562313979,11.768450743187117,3.7941632180257585,16.17089605934235,-16.54934976370933,4.389909648055337,-16.80372948040079,2.9238842323537284,2.238250273707962,-10.852969755098144,9.774984000812239,-11.359671188959197,4.601460802100846,-0.25556455517637744,2.3584020120908065,-5.90092710392814,0.4366401343792319,-15.423327786296468,7.1551087722600215,10.0733802525734,-2.459397852907429,-5.900079171184331,4.988140849637702,-9.583120077562825,4.655599564356606,3.0330433604933233,8.517685747589567,10.297030669244151,9.944395683326576,-5.409518091813354,6.938439218067245,-12.992283983957407,1.8934476946408694,-5.5905486333557235,-3.0929779932341717,16.486305239035147,5.148587235437162,17.307404257832715,9.56597281274854,-11.693937983186999,-0.7408300994537882,19.483513682432545,-13.53462976652564,-8.41878046051609,-8.024763688472333,-11.745688270816714,-3.8303132583688466,-6.030141079659984,-14.724388354190637,-8.96194243554541,1.3889111345078788,-1.5447394821997875,-4.342786032534093,3.675464669874259,-2.0912706372929506,-9.748033776525503,1.1608736734276164,-22.472218117318633,-3.606823788809237,5.127382855995933,-5.814246844433782,1.9565521810673232,-7.213493062676207,-16.538401655068057,-10.029314227151346,-14.25160238847532,-10.123517992322917,-9.584574323812745,12.582742981969545,2.3220064598975156,0.16769827225320455,-4.087526760718802,7.00467498755205,7.729809986939372,-15.951641323136755,-4.805929514837544,17.75434995880697,4.403590461976208,9.000331179054996,2.1993059772298693,-0.6028887163609795,1.6472371501778724,-6.318661957362394,0.9908731338084209,5.8603054497725395,-0.30228257603124575,8.58617836426535,4.892623645090708,3.3478815559680157,3.454336228686472,-3.179211234731966,-4.092153572535565,-8.274255679945455,0.3260183267571364,-9.743053215952358,10.004987603612491,-1.7126914484809674,-15.633221741263725,-3.328078603410276,10.391126122266357,3.7953926633901602,3.5157561430438307,19.16996789483079,-0.4080822400383681,9.612745249401357,-12.01084735545028,-6.467492528247163,-0.34237194532451554,-5.265506102724302,10.908204018162493,-2.5934735010960708,-3.3889779424124953,7.038736087909477,-13.471812616438228,-3.2507589776971315,-16.037090404813256,-8.998339191663348,0.3726868338997491,-19.172957670439217,-12.506929282385471,1.82011447604107,3.9178377252576553,7.34515915973148,2.752966915757881,18.259472204994005,-2.4181452198646696,-9.67514595979857,-7.2238610007204045,0.625386070413299,-3.7645943674574482,2.0325392002571476,5.579035115008807,9.76916280709139,-7.039472980326337,14.775781725375609,-13.200597901525498,-10.73610471577679,9.990116545394812,16.04969847255782,-1.921282979612343,-10.512667859818123,9.768219599270012,0.057921947437080235,-12.691514400145877,3.4342218403762956,3.2934871218252226,-2.540428669664365,-15.958781416175071,-2.917159475481398,-0.05048352358191721,7.826445730216662,-3.0735681262277694,-10.381823673513182,-7.386126404017034,-3.4766081786029304,-0.5203150020157494,6.58933336066039,1.4510076724322687,-4.521609606042773,6.6849745417382564,24.744254078410776,3.7232090435950624,14.279296384199583,19.449796950731056,1.6767375478233646,-0.014770472835067494,-5.731976505523718,-10.971989550154404,13.436809780954817,2.8076999190262057,-5.218037820112841,-14.227164407077936,-4.144976066288251,4.781836409334247,-9.848740803097797,2.854082026083617,1.431882497132932,13.662691522524426,8.658550037096958,1.0175899185978636,11.577593845021752,4.068842087940098,-13.458109447640709,-27.67725533808529,-10.400738581221589,1.008826737034795,12.211540047889628,-4.133831405965751,10.18237267106413,-1.5396425408953434,10.259965140100505,11.021852048156696,7.0933528242386075,-14.018766238858518,7.004019625458611,3.0303739490866235,-15.663239551461658,14.794817861889612,7.850800264583725,6.434113030649513,8.974728559166664,11.285478291230561,-0.7668501218359864,6.041891064360115,9.793530681486502,-4.784487086218036,0.5411027427471424,-8.546961334066765,-6.946730196822472,-2.228874781069365,14.353621356328546,-1.286823242535391,12.50476053918186,-18.972412023593378,9.29517639331388,-10.082354441408214,0.03935204501421197,3.4008900750449413,-2.653174655845362,6.495293097446037,19.141930368198587,-7.36371163884418,1.0808499199586663,1.4877158477834485,-1.374630346780009,-7.045578791808282,1.3337185933911542,12.624346546600805,-7.498783488627424,-0.9051108788749502,-9.906871337170443,2.430908475407847,7.498806912104314,1.12704551977302,-23.575418802489963,-15.030087599176298,-3.7690212445735654,-3.2208736048243765,4.746417629939586,16.604425644383184,-2.9570317237110686,-20.36082889144491,-6.408371589272733,8.620081053934484,9.840277868779808,-5.0225241321552545,9.095205236577954,10.758705510028207,0.17040713949187136,1.9045511743039611,-19.88775126693396,14.53445609397049,-4.655152969602085,-21.501981609173043,4.2470174366455495,2.7411006440339776,-2.0404460967953355,-4.535873016691895,-0.7205349918941693,-7.965748509858116,-6.253189355958362,9.564711073981627,2.128706020454814,-8.51186508132561,4.020689068654846,1.329041161584243,6.917584675021615,2.162889798210898,-7.418208549081598,-10.853002474271506,-5.5412783104465575,6.284262727763746,-7.63740776495851,-13.031768061761767,2.9419242142007676,-10.552834572633316,5.908087714715421,1.1610360657966652,-24.30144962658305,5.36261370296323,-7.657693585123752,-11.552170381806647,-7.31994596294912,-16.858196409693107,-21.75263321998196,3.2475097576213443,6.426533305870834,-4.0555369888101325,-13.580782975549795,9.909195492934515,5.034771645521147,6.684483936578843,3.6003214510460424,-4.065039505722403,4.725775843797834,-2.5706013333225286,-9.596136006510264,-29.44151653854209,-2.7719826551081894,-0.6298907269345335,4.112684464420084,0.15630495685233825,-12.383294059856013,0.6897589907739956,-2.524604694908504,3.4849888288558475,1.8690651752803973,14.105483716597007,-3.420111440017152,16.935233987616385,-6.863719342173923,-4.365705571886991,7.722045040432391,-13.715726366318265,-7.739646680365595,-15.647760233027839,12.278975278949943,-7.176139391462769,-8.783084983725075,-2.319398055456162,0.23057163667593272,-14.641187389266548,0.8138396405308868,-13.039872465767175,0.29272486330083325,3.4843536568180866,-2.1858061236976027,-17.28898554975258,-0.08276306074668582,-19.00317670282007,-12.79893232327143,-6.451713924393999,-5.240620158284443,-0.5328009291546749,12.27958571258742,2.3290025837237636,2.809702406427377,2.127014275203365,8.823945434820658,-8.863323849695632,-1.7238819914347232,6.26322269065389,-5.580435246654474,8.034763321408057,-7.907653467635527,-7.397083493094058,-21.31832517958682,-3.486003043530687,-19.47433685059012,5.630553227003631,-19.3182552643635,-1.1485501393645734,1.6282086902413582,-5.69000828052225,6.901421299222278,-19.413635253607012,8.62206475824641,-9.32247122432139,-3.6045901909514555,1.221887998331482,2.173149975932958,-16.725641583701858,6.417156669691764,-1.3712372307241623,26.914700606967912,-8.315468557153196,4.210993502134571,-2.7588867963670225,-13.001909992373243,3.2210486777352685,-9.401022753251567,14.485139175030774,-2.595327105090334,9.509551508803554,5.513991940641333,-18.094109091662347,-9.191763620481282,-13.214888966005788,-5.902473025819191,3.4762014723427654,14.744638008536242,-7.798381957524796,-9.994817625259827,-0.29373220987815785,2.732526574311322,1.2276991956741767,-11.956211737199894,-4.164484811437035,-2.1254351781100667,7.426913669824103,7.43466074699586,0.7300180482026519,2.906820624129878,5.38145328714225,-10.47374345073041,4.857711560280308,-3.2903740723255765,0.25872347643287696,-7.473506189486244,-23.595652991994157,-9.852905257094164,7.128671693390643,1.746563427717149,12.820857751670033,13.40996683881238,0.8949922399816472,2.0470967735943475,11.21284561105783,2.4521789329907904,-0.9292859471540424,5.822875385792116,14.212202149120174,4.691933401389861,-7.673258039661732,28.464230831164144,-7.976946468971292,-9.61007698035796,18.566108566994274,-4.585700480418453,-11.599644304213754,7.179775302403328,3.8514147128237965,13.13342895768885,-5.070741576495806,-7.104580040377854,-3.2732217406592525,-0.3163672460341189,25.664721995291814,-5.803370304993749,8.03475033341119,7.4486925451503225,8.555700234161193,-2.6353157934363622,-14.486306759371729,4.952604359766994,-3.039276969651084,4.723065841666099,20.749475737008396,20.50020896659163,-1.254247683485545,1.8112670181623685,12.86151034329555,-7.710398087904387,21.664857851290236,10.39602136136051,2.5452724411914005,-2.7687428464316923,-3.387624070559255,-0.07684655786866301,0.8115660098941078,0.44315734679778984,-11.634476366733765,-3.1968800182180104,-0.17771561489534804,9.593456179429822,-3.8844528544621397,-8.28247771327787,10.20295658062058,-9.666474223292184,3.2072293812898636,-18.352326438011886,13.052145780502116,15.867398514913972,-16.043084935070482,-11.81856021818902,-12.608739878051551,11.62709366250759,-9.312844335072072,-8.37604950391571,0.2770774059845422,-13.580877584810509,3.7798770880700516,10.885508205988955,9.813085242357502,12.400606611451948,-7.164369731762164,0.579209450178837,-25.194553833705086,8.65065194097096,0.3618421288810225,11.234793184101633,11.710718885801313,8.209314273682395,-9.129028552428323,4.536693334092419,-3.116895712101808,7.841388136913011,-0.021382307207673534,8.305388462613053,-3.2682090065504354,-14.731785948741553,-9.69920096877749,-2.2427099810482787,-3.06538297524628,10.349205838566874,10.382871150925283,6.442825738895522,-1.9533389751056802,12.591831869152216,-2.2805100047290097,-19.212598449348405,-6.682345820286457,-3.295220244158628,5.080617042100641,1.0595287174411965,4.442910114046811,-15.390068736323158,-3.9996515583396075,11.926353750578471,-0.9742912855014509,-12.319543922285234,8.935510043186717,15.088419205211295,13.828957524137138,-13.140446009474829,-5.266341049716829,-5.857368168407774,-4.922282706072011,-8.986283154286895,8.756967714607939,-19.80242661498204,-0.33368762476669644,-7.949175828122861,-3.3837645085272072,12.236621744904198,17.516027257775093,5.978071392791421,12.52809176241351,-7.836730889802055,3.920196887208256,-19.001923009233295,-0.42302384086879385,5.369951605622461,-8.174078671792572,8.83139066764096,-5.372766149863196,-12.055914672598647,-4.82701330635615,7.809173968939689,0.8424216876608028,1.713637641858,5.219346418400988,-5.0533785231392585,-3.049234005311746,-3.79780630801865,-7.312708202428567,10.74897357468015,8.009423527800749,-1.3208996247261808,-11.520905809697268,6.1836461936218114,7.256524119082371,-8.620372683260129,5.610834945741061,1.2899203409589433,-0.713776335850838,-8.14859079718535,16.203422828486815,0.44721861588500644,-12.382340077297343,-10.114896541889195,-0.3352835925195592,-2.3032915396511413,-5.36850687275782,-7.866022941995453,-12.1793359259038,12.340358348222992,0.7587727332982723,-9.873137126989434,0.8461045118368133,2.833649506592863,0.24038549393843311,16.409575201470517,7.583301893765409,5.288024049729003,-3.6166702138428946,18.725612523455965,4.868503242867931,-6.628644236823575,15.062589392217092,3.091970143969448,6.6670627514937735,1.3120756478930105,-2.9109226720348573,-7.552618532252978,-14.74935998455041,-8.748929993923895,3.8861836419947053,9.189603109864706,4.129094544382625,11.699776730406654,1.0782161597787336,0.825240172281724,-3.819617551719105,-5.512489901736991,7.8926797481017985,3.7980758341542753,-10.683964620937829,3.7198116754019708,-7.725300819020845,-16.122386524352578,-19.454116282696788,-15.76177504147364,8.008744966395824,4.691778784370328,-5.312943366715416,4.5758169815893694,6.853928185206826,-18.415229414027905,-17.160034902549476,11.699633705490442,-4.303468065808673,-13.651124006599389,-9.221101638259825,0.45240840029238427,-0.3112088415022072,6.558219058430666,-11.196903145493991,2.102640465270497,1.0586732759996238,-1.0211884493533745,0.33512292477972494,-16.501608993347375,-11.20509226413742,-7.530207800219884,2.3681338923959174,-10.228925651529494,-0.23563805917473246,-1.935605096986336,-5.396682325422418,0.2249890724178698,-15.273203216800368,7.820987084105042,0.7349353956902718,-6.267868605590024,-13.08726558947879,5.160735394241911,1.8502590721024887,-0.5266122889051985,10.313460927698998,1.2147555364898182,5.321296080985846,-17.659324148475818,-6.787655210742457,4.969460937460482,10.427574693003677,0.15547420785816257,3.374381603565439,-4.942657178426202,2.8630791982380543,-14.198461153217607,6.265204225212258,-10.485058354272255,-2.2530346725772006,3.3179931180138738,8.738351344337815,11.702373236772068,3.589878814558375,5.263579490008155,-4.196797302414154,-2.3933090017865197,-10.204351286824888,-23.675394863298678,-2.5088455957817644,0.841425054581606,-0.31674177727202846,28.226900187064857,-21.108229604817097,-6.762672552336355,-8.289602811261943,5.1284471771184315,5.725595103035474,1.077838554683325,-0.9140204617218615,8.005209665521122,-21.468374443140704,0.08584478075148638,-12.933708934845015,-10.066595415001046,-1.1223314466632388,-6.124705827586396,-7.935851051938812,11.065001813688,12.829184142242141,1.6731834422222391,9.514098412069792],\"xaxis\":\"x\",\"yaxis\":\"y\",\"type\":\"histogram\"}],                        {\"template\":{\"data\":{\"histogram2dcontour\":[{\"type\":\"histogram2dcontour\",\"colorbar\":{\"outlinewidth\":0,\"ticks\":\"\"},\"colorscale\":[[0.0,\"#0d0887\"],[0.1111111111111111,\"#46039f\"],[0.2222222222222222,\"#7201a8\"],[0.3333333333333333,\"#9c179e\"],[0.4444444444444444,\"#bd3786\"],[0.5555555555555556,\"#d8576b\"],[0.6666666666666666,\"#ed7953\"],[0.7777777777777778,\"#fb9f3a\"],[0.8888888888888888,\"#fdca26\"],[1.0,\"#f0f921\"]]}],\"choropleth\":[{\"type\":\"choropleth\",\"colorbar\":{\"outlinewidth\":0,\"ticks\":\"\"}}],\"histogram2d\":[{\"type\":\"histogram2d\",\"colorbar\":{\"outlinewidth\":0,\"ticks\":\"\"},\"colorscale\":[[0.0,\"#0d0887\"],[0.1111111111111111,\"#46039f\"],[0.2222222222222222,\"#7201a8\"],[0.3333333333333333,\"#9c179e\"],[0.4444444444444444,\"#bd3786\"],[0.5555555555555556,\"#d8576b\"],[0.6666666666666666,\"#ed7953\"],[0.7777777777777778,\"#fb9f3a\"],[0.8888888888888888,\"#fdca26\"],[1.0,\"#f0f921\"]]}],\"heatmap\":[{\"type\":\"heatmap\",\"colorbar\":{\"outlinewidth\":0,\"ticks\":\"\"},\"colorscale\":[[0.0,\"#0d0887\"],[0.1111111111111111,\"#46039f\"],[0.2222222222222222,\"#7201a8\"],[0.3333333333333333,\"#9c179e\"],[0.4444444444444444,\"#bd3786\"],[0.5555555555555556,\"#d8576b\"],[0.6666666666666666,\"#ed7953\"],[0.7777777777777778,\"#fb9f3a\"],[0.8888888888888888,\"#fdca26\"],[1.0,\"#f0f921\"]]}],\"heatmapgl\":[{\"type\":\"heatmapgl\",\"colorbar\":{\"outlinewidth\":0,\"ticks\":\"\"},\"colorscale\":[[0.0,\"#0d0887\"],[0.1111111111111111,\"#46039f\"],[0.2222222222222222,\"#7201a8\"],[0.3333333333333333,\"#9c179e\"],[0.4444444444444444,\"#bd3786\"],[0.5555555555555556,\"#d8576b\"],[0.6666666666666666,\"#ed7953\"],[0.7777777777777778,\"#fb9f3a\"],[0.8888888888888888,\"#fdca26\"],[1.0,\"#f0f921\"]]}],\"contourcarpet\":[{\"type\":\"contourcarpet\",\"colorbar\":{\"outlinewidth\":0,\"ticks\":\"\"}}],\"contour\":[{\"type\":\"contour\",\"colorbar\":{\"outlinewidth\":0,\"ticks\":\"\"},\"colorscale\":[[0.0,\"#0d0887\"],[0.1111111111111111,\"#46039f\"],[0.2222222222222222,\"#7201a8\"],[0.3333333333333333,\"#9c179e\"],[0.4444444444444444,\"#bd3786\"],[0.5555555555555556,\"#d8576b\"],[0.6666666666666666,\"#ed7953\"],[0.7777777777777778,\"#fb9f3a\"],[0.8888888888888888,\"#fdca26\"],[1.0,\"#f0f921\"]]}],\"surface\":[{\"type\":\"surface\",\"colorbar\":{\"outlinewidth\":0,\"ticks\":\"\"},\"colorscale\":[[0.0,\"#0d0887\"],[0.1111111111111111,\"#46039f\"],[0.2222222222222222,\"#7201a8\"],[0.3333333333333333,\"#9c179e\"],[0.4444444444444444,\"#bd3786\"],[0.5555555555555556,\"#d8576b\"],[0.6666666666666666,\"#ed7953\"],[0.7777777777777778,\"#fb9f3a\"],[0.8888888888888888,\"#fdca26\"],[1.0,\"#f0f921\"]]}],\"mesh3d\":[{\"type\":\"mesh3d\",\"colorbar\":{\"outlinewidth\":0,\"ticks\":\"\"}}],\"scatter\":[{\"fillpattern\":{\"fillmode\":\"overlay\",\"size\":10,\"solidity\":0.2},\"type\":\"scatter\"}],\"parcoords\":[{\"type\":\"parcoords\",\"line\":{\"colorbar\":{\"outlinewidth\":0,\"ticks\":\"\"}}}],\"scatterpolargl\":[{\"type\":\"scatterpolargl\",\"marker\":{\"colorbar\":{\"outlinewidth\":0,\"ticks\":\"\"}}}],\"bar\":[{\"error_x\":{\"color\":\"#2a3f5f\"},\"error_y\":{\"color\":\"#2a3f5f\"},\"marker\":{\"line\":{\"color\":\"#E5ECF6\",\"width\":0.5},\"pattern\":{\"fillmode\":\"overlay\",\"size\":10,\"solidity\":0.2}},\"type\":\"bar\"}],\"scattergeo\":[{\"type\":\"scattergeo\",\"marker\":{\"colorbar\":{\"outlinewidth\":0,\"ticks\":\"\"}}}],\"scatterpolar\":[{\"type\":\"scatterpolar\",\"marker\":{\"colorbar\":{\"outlinewidth\":0,\"ticks\":\"\"}}}],\"histogram\":[{\"marker\":{\"pattern\":{\"fillmode\":\"overlay\",\"size\":10,\"solidity\":0.2}},\"type\":\"histogram\"}],\"scattergl\":[{\"type\":\"scattergl\",\"marker\":{\"colorbar\":{\"outlinewidth\":0,\"ticks\":\"\"}}}],\"scatter3d\":[{\"type\":\"scatter3d\",\"line\":{\"colorbar\":{\"outlinewidth\":0,\"ticks\":\"\"}},\"marker\":{\"colorbar\":{\"outlinewidth\":0,\"ticks\":\"\"}}}],\"scattermapbox\":[{\"type\":\"scattermapbox\",\"marker\":{\"colorbar\":{\"outlinewidth\":0,\"ticks\":\"\"}}}],\"scatterternary\":[{\"type\":\"scatterternary\",\"marker\":{\"colorbar\":{\"outlinewidth\":0,\"ticks\":\"\"}}}],\"scattercarpet\":[{\"type\":\"scattercarpet\",\"marker\":{\"colorbar\":{\"outlinewidth\":0,\"ticks\":\"\"}}}],\"carpet\":[{\"aaxis\":{\"endlinecolor\":\"#2a3f5f\",\"gridcolor\":\"white\",\"linecolor\":\"white\",\"minorgridcolor\":\"white\",\"startlinecolor\":\"#2a3f5f\"},\"baxis\":{\"endlinecolor\":\"#2a3f5f\",\"gridcolor\":\"white\",\"linecolor\":\"white\",\"minorgridcolor\":\"white\",\"startlinecolor\":\"#2a3f5f\"},\"type\":\"carpet\"}],\"table\":[{\"cells\":{\"fill\":{\"color\":\"#EBF0F8\"},\"line\":{\"color\":\"white\"}},\"header\":{\"fill\":{\"color\":\"#C8D4E3\"},\"line\":{\"color\":\"white\"}},\"type\":\"table\"}],\"barpolar\":[{\"marker\":{\"line\":{\"color\":\"#E5ECF6\",\"width\":0.5},\"pattern\":{\"fillmode\":\"overlay\",\"size\":10,\"solidity\":0.2}},\"type\":\"barpolar\"}],\"pie\":[{\"automargin\":true,\"type\":\"pie\"}]},\"layout\":{\"autotypenumbers\":\"strict\",\"colorway\":[\"#636efa\",\"#EF553B\",\"#00cc96\",\"#ab63fa\",\"#FFA15A\",\"#19d3f3\",\"#FF6692\",\"#B6E880\",\"#FF97FF\",\"#FECB52\"],\"font\":{\"color\":\"#2a3f5f\"},\"hovermode\":\"closest\",\"hoverlabel\":{\"align\":\"left\"},\"paper_bgcolor\":\"white\",\"plot_bgcolor\":\"#E5ECF6\",\"polar\":{\"bgcolor\":\"#E5ECF6\",\"angularaxis\":{\"gridcolor\":\"white\",\"linecolor\":\"white\",\"ticks\":\"\"},\"radialaxis\":{\"gridcolor\":\"white\",\"linecolor\":\"white\",\"ticks\":\"\"}},\"ternary\":{\"bgcolor\":\"#E5ECF6\",\"aaxis\":{\"gridcolor\":\"white\",\"linecolor\":\"white\",\"ticks\":\"\"},\"baxis\":{\"gridcolor\":\"white\",\"linecolor\":\"white\",\"ticks\":\"\"},\"caxis\":{\"gridcolor\":\"white\",\"linecolor\":\"white\",\"ticks\":\"\"}},\"coloraxis\":{\"colorbar\":{\"outlinewidth\":0,\"ticks\":\"\"}},\"colorscale\":{\"sequential\":[[0.0,\"#0d0887\"],[0.1111111111111111,\"#46039f\"],[0.2222222222222222,\"#7201a8\"],[0.3333333333333333,\"#9c179e\"],[0.4444444444444444,\"#bd3786\"],[0.5555555555555556,\"#d8576b\"],[0.6666666666666666,\"#ed7953\"],[0.7777777777777778,\"#fb9f3a\"],[0.8888888888888888,\"#fdca26\"],[1.0,\"#f0f921\"]],\"sequentialminus\":[[0.0,\"#0d0887\"],[0.1111111111111111,\"#46039f\"],[0.2222222222222222,\"#7201a8\"],[0.3333333333333333,\"#9c179e\"],[0.4444444444444444,\"#bd3786\"],[0.5555555555555556,\"#d8576b\"],[0.6666666666666666,\"#ed7953\"],[0.7777777777777778,\"#fb9f3a\"],[0.8888888888888888,\"#fdca26\"],[1.0,\"#f0f921\"]],\"diverging\":[[0,\"#8e0152\"],[0.1,\"#c51b7d\"],[0.2,\"#de77ae\"],[0.3,\"#f1b6da\"],[0.4,\"#fde0ef\"],[0.5,\"#f7f7f7\"],[0.6,\"#e6f5d0\"],[0.7,\"#b8e186\"],[0.8,\"#7fbc41\"],[0.9,\"#4d9221\"],[1,\"#276419\"]]},\"xaxis\":{\"gridcolor\":\"white\",\"linecolor\":\"white\",\"ticks\":\"\",\"title\":{\"standoff\":15},\"zerolinecolor\":\"white\",\"automargin\":true,\"zerolinewidth\":2},\"yaxis\":{\"gridcolor\":\"white\",\"linecolor\":\"white\",\"ticks\":\"\",\"title\":{\"standoff\":15},\"zerolinecolor\":\"white\",\"automargin\":true,\"zerolinewidth\":2},\"scene\":{\"xaxis\":{\"backgroundcolor\":\"#E5ECF6\",\"gridcolor\":\"white\",\"linecolor\":\"white\",\"showbackground\":true,\"ticks\":\"\",\"zerolinecolor\":\"white\",\"gridwidth\":2},\"yaxis\":{\"backgroundcolor\":\"#E5ECF6\",\"gridcolor\":\"white\",\"linecolor\":\"white\",\"showbackground\":true,\"ticks\":\"\",\"zerolinecolor\":\"white\",\"gridwidth\":2},\"zaxis\":{\"backgroundcolor\":\"#E5ECF6\",\"gridcolor\":\"white\",\"linecolor\":\"white\",\"showbackground\":true,\"ticks\":\"\",\"zerolinecolor\":\"white\",\"gridwidth\":2}},\"shapedefaults\":{\"line\":{\"color\":\"#2a3f5f\"}},\"annotationdefaults\":{\"arrowcolor\":\"#2a3f5f\",\"arrowhead\":0,\"arrowwidth\":1},\"geo\":{\"bgcolor\":\"white\",\"landcolor\":\"#E5ECF6\",\"subunitcolor\":\"white\",\"showland\":true,\"showlakes\":true,\"lakecolor\":\"white\"},\"title\":{\"x\":0.05},\"mapbox\":{\"style\":\"light\"}}},\"xaxis\":{\"anchor\":\"y\",\"domain\":[0.0,1.0],\"title\":{\"text\":\"error\"}},\"yaxis\":{\"anchor\":\"x\",\"domain\":[0.0,1.0],\"title\":{\"text\":\"count\"}},\"legend\":{\"tracegroupgap\":0},\"margin\":{\"t\":60},\"barmode\":\"relative\",\"width\":800},                        {\"responsive\": true}                    ).then(function(){\n",
              "                            \n",
              "var gd = document.getElementById('fa5b21f1-ebf8-4689-90f7-c819c5cb1039');\n",
              "var x = new MutationObserver(function (mutations, observer) {{\n",
              "        var display = window.getComputedStyle(gd).display;\n",
              "        if (!display || display === 'none') {{\n",
              "            console.log([gd, 'removed!']);\n",
              "            Plotly.purge(gd);\n",
              "            observer.disconnect();\n",
              "        }}\n",
              "}});\n",
              "\n",
              "// Listen for the removal of the full notebook cells\n",
              "var notebookContainer = gd.closest('#notebook-container');\n",
              "if (notebookContainer) {{\n",
              "    x.observe(notebookContainer, {childList: true});\n",
              "}}\n",
              "\n",
              "// Listen for the clearing of the current output cell\n",
              "var outputEl = gd.closest('.output');\n",
              "if (outputEl) {{\n",
              "    x.observe(outputEl, {childList: true});\n",
              "}}\n",
              "\n",
              "                        })                };                            </script>        </div>\n",
              "</body>\n",
              "</html>"
            ]
          },
          "metadata": {}
        }
      ]
    },
    {
      "cell_type": "markdown",
      "metadata": {
        "id": "ZVr1O1j3FFiM"
      },
      "source": [
        "### <a name='a3'></a> 2.2 Mean Absolute Error\n",
        "### $$MAE = \\frac{1}{n}\\sum_{i=1}^{N}|y_{true} - y_{pred}|$$"
      ]
    },
    {
      "cell_type": "code",
      "metadata": {
        "id": "4fwXpVNyFXBl",
        "colab": {
          "base_uri": "https://localhost:8080/"
        },
        "outputId": "67e0ddde-2122-47f9-9f27-5e973f2115ed"
      },
      "source": [
        "def mean_absolute_error(y_true, y_pred):\n",
        "    return abs(y_true - y_pred).sum() / len(y_true)\n",
        "\n",
        "mean_absolute_error(y_true, y_pred)"
      ],
      "execution_count": 9,
      "outputs": [
        {
          "output_type": "execute_result",
          "data": {
            "text/plain": [
              "7.620712979055358"
            ]
          },
          "metadata": {},
          "execution_count": 9
        }
      ]
    },
    {
      "cell_type": "code",
      "metadata": {
        "id": "MAFdk_hk2sld",
        "colab": {
          "base_uri": "https://localhost:8080/"
        },
        "outputId": "af49be83-90b4-44a2-e66f-c6ed30137a30"
      },
      "source": [
        "from tensorflow.keras.losses import mean_absolute_error\n",
        "mean_absolute_error(y_true, y_pred)"
      ],
      "execution_count": 10,
      "outputs": [
        {
          "output_type": "execute_result",
          "data": {
            "text/plain": [
              "<tf.Tensor: shape=(), dtype=float64, numpy=7.620712979055358>"
            ]
          },
          "metadata": {},
          "execution_count": 10
        }
      ]
    },
    {
      "cell_type": "code",
      "metadata": {
        "id": "nOINyAyqErWz",
        "colab": {
          "base_uri": "https://localhost:8080/"
        },
        "outputId": "739b5e48-98f6-424a-918b-d4dd5bb10145"
      },
      "source": [
        "from sklearn.metrics import mean_absolute_error\n",
        "mean_absolute_error(y_true, y_pred)"
      ],
      "execution_count": 11,
      "outputs": [
        {
          "output_type": "execute_result",
          "data": {
            "text/plain": [
              "7.620712979055358"
            ]
          },
          "metadata": {},
          "execution_count": 11
        }
      ]
    },
    {
      "cell_type": "markdown",
      "metadata": {
        "id": "dbAtacGCGjaR"
      },
      "source": [
        "### <a name='a4'></a> 2.3 Mean Squared Error\n",
        "### $$MSE = \\frac{1}{n}\\sum_{i=1}^{N}(y_{true} - y_{pred})^{2}$$"
      ]
    },
    {
      "cell_type": "code",
      "metadata": {
        "id": "rikMpoD9E91I",
        "colab": {
          "base_uri": "https://localhost:8080/"
        },
        "outputId": "cfce7cbe-d082-4460-8865-fe6f2c313bf7"
      },
      "source": [
        "def mean_squared_error(y_true, y_pred):\n",
        "    return ((y_true - y_pred) ** 2).sum() / len(y_true)\n",
        "\n",
        "mean_squared_error(y_true, y_pred)"
      ],
      "execution_count": 12,
      "outputs": [
        {
          "output_type": "execute_result",
          "data": {
            "text/plain": [
              "92.62540894631736"
            ]
          },
          "metadata": {},
          "execution_count": 12
        }
      ]
    },
    {
      "cell_type": "code",
      "metadata": {
        "id": "EqFpKWU93RcM",
        "colab": {
          "base_uri": "https://localhost:8080/"
        },
        "outputId": "daff1ec2-1b56-4e01-ed28-a87f0688c65d"
      },
      "source": [
        "from tensorflow.keras.losses import mean_squared_error\n",
        "mean_squared_error(y_true, y_pred)"
      ],
      "execution_count": 13,
      "outputs": [
        {
          "output_type": "execute_result",
          "data": {
            "text/plain": [
              "<tf.Tensor: shape=(), dtype=float64, numpy=92.62540894631736>"
            ]
          },
          "metadata": {},
          "execution_count": 13
        }
      ]
    },
    {
      "cell_type": "code",
      "metadata": {
        "id": "BxQx5HFaGzi5",
        "colab": {
          "base_uri": "https://localhost:8080/"
        },
        "outputId": "1fcc9b66-0b69-40d4-afc9-253874f3a13a"
      },
      "source": [
        "from sklearn.metrics import mean_squared_error\n",
        "\n",
        "mean_squared_error(y_true, y_pred)"
      ],
      "execution_count": 14,
      "outputs": [
        {
          "output_type": "execute_result",
          "data": {
            "text/plain": [
              "92.62540894631736"
            ]
          },
          "metadata": {},
          "execution_count": 14
        }
      ]
    },
    {
      "cell_type": "markdown",
      "metadata": {
        "id": "SKJJg3jNG-xj"
      },
      "source": [
        "### <a name='a5'></a> 2.4 Root Mean Squared Error\n",
        "### $$RMSE = \\sqrt{MSE}$$"
      ]
    },
    {
      "cell_type": "code",
      "metadata": {
        "id": "ZoEokLM8G8JO",
        "colab": {
          "base_uri": "https://localhost:8080/"
        },
        "outputId": "b899d77f-dace-4cec-c385-cee09c8e34db"
      },
      "source": [
        "def root_mean_squared_error(y_true, y_pred):\n",
        "    return np.sqrt(((y_true - y_pred) ** 2).sum() / len(y_true))\n",
        "\n",
        "root_mean_squared_error(y_true, y_pred)"
      ],
      "execution_count": 15,
      "outputs": [
        {
          "output_type": "execute_result",
          "data": {
            "text/plain": [
              "9.624209523192924"
            ]
          },
          "metadata": {},
          "execution_count": 15
        }
      ]
    },
    {
      "cell_type": "code",
      "metadata": {
        "id": "VEdgXl5PHdEQ",
        "colab": {
          "base_uri": "https://localhost:8080/"
        },
        "outputId": "abcd18b6-eae4-4211-969e-ffb2214cd3e5"
      },
      "source": [
        "np.sqrt(mean_squared_error(y_true, y_pred))"
      ],
      "execution_count": 16,
      "outputs": [
        {
          "output_type": "execute_result",
          "data": {
            "text/plain": [
              "9.624209523192924"
            ]
          },
          "metadata": {},
          "execution_count": 16
        }
      ]
    },
    {
      "cell_type": "markdown",
      "metadata": {
        "id": "wzS5t7dzIH-x"
      },
      "source": [
        "### <a name='a6'></a> 2.5 Max Error"
      ]
    },
    {
      "cell_type": "code",
      "metadata": {
        "id": "0v4d3b_FHsYO"
      },
      "source": [
        "def max_error(y_true, y_pred):\n",
        "    return abs(y_true - y_pred).max()"
      ],
      "execution_count": 17,
      "outputs": []
    },
    {
      "cell_type": "code",
      "metadata": {
        "id": "IbSGizXdH1Fc",
        "colab": {
          "base_uri": "https://localhost:8080/"
        },
        "outputId": "67420fd7-0302-464e-cd69-c4ea369fa240"
      },
      "source": [
        "max_error(y_true, y_pred)"
      ],
      "execution_count": 18,
      "outputs": [
        {
          "output_type": "execute_result",
          "data": {
            "text/plain": [
              "36.20595758835829"
            ]
          },
          "metadata": {},
          "execution_count": 18
        }
      ]
    },
    {
      "cell_type": "code",
      "metadata": {
        "id": "NQPVS0cSIAsC",
        "colab": {
          "base_uri": "https://localhost:8080/"
        },
        "outputId": "89b8cf97-07e5-4459-abe4-1e9693e037b8"
      },
      "source": [
        "from sklearn.metrics import max_error\n",
        "\n",
        "max_error(y_true, y_pred)"
      ],
      "execution_count": 19,
      "outputs": [
        {
          "output_type": "execute_result",
          "data": {
            "text/plain": [
              "36.20595758835829"
            ]
          },
          "metadata": {},
          "execution_count": 19
        }
      ]
    },
    {
      "cell_type": "markdown",
      "metadata": {
        "id": "xRrH2NA5IYt9"
      },
      "source": [
        "### <a name='a7'></a> 2.6 R2 score - współczynnik determinacji\n",
        "### $$R2\\_score = 1 - \\frac{\\sum_{i=1}^{N}(y_{true} - y_{pred})^{2}}{\\sum_{i=1}^{N}(y_{true} - \\overline{y_{true}})^{2}}$$"
      ]
    },
    {
      "cell_type": "code",
      "metadata": {
        "id": "ePP8ovwPIGu0",
        "colab": {
          "base_uri": "https://localhost:8080/"
        },
        "outputId": "c9f9d29b-3cad-4ff5-9654-7487ef03b282"
      },
      "source": [
        "from sklearn.metrics import r2_score\n",
        "\n",
        "r2_score(y_true, y_pred)"
      ],
      "execution_count": 20,
      "outputs": [
        {
          "output_type": "execute_result",
          "data": {
            "text/plain": [
              "0.7659759481742594"
            ]
          },
          "metadata": {},
          "execution_count": 20
        }
      ]
    },
    {
      "cell_type": "code",
      "metadata": {
        "id": "GWtiZRcPIsdP"
      },
      "source": [
        "def r2_score(y_true, y_pred):\n",
        "    numerator = ((y_true - y_pred) ** 2).sum()\n",
        "    denominator = ((y_true - y_true.mean()) ** 2).sum()\n",
        "    try:\n",
        "        r2 = 1 - numerator / denominator\n",
        "    except ZeroDivisionError:\n",
        "        print('Dzielenie przez zero')\n",
        "    return r2"
      ],
      "execution_count": 21,
      "outputs": []
    },
    {
      "cell_type": "code",
      "metadata": {
        "id": "q4LYk_8oJNTP",
        "colab": {
          "base_uri": "https://localhost:8080/"
        },
        "outputId": "b9ff8918-1025-4bc0-eddc-08510f68e2d6"
      },
      "source": [
        "r2_score(y_true, y_pred)"
      ],
      "execution_count": 22,
      "outputs": [
        {
          "output_type": "execute_result",
          "data": {
            "text/plain": [
              "0.7659759481742594"
            ]
          },
          "metadata": {},
          "execution_count": 22
        }
      ]
    }
  ]
}